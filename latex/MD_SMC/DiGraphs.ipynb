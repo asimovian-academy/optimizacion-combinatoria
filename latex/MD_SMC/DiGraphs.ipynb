{
 "cells": [
  {
   "cell_type": "code",
   "execution_count": 1,
   "metadata": {
    "collapsed": false
   },
   "outputs": [],
   "source": [
    "import numpy as np\n",
    "import numpy.random as rd\n",
    "np.random.seed(1984)"
   ]
  },
  {
   "cell_type": "code",
   "execution_count": 2,
   "metadata": {
    "collapsed": true
   },
   "outputs": [],
   "source": [
    "def f(x):\n",
    "    if not(x==0):\n",
    "        return 1\n",
    "    else:\n",
    "        return 0\n",
    "\n",
    "def Access(B, N):\n",
    "    return Matrix(ZZ, N,N, lambda i,j: f(B[i,j]))"
   ]
  },
  {
   "cell_type": "code",
   "execution_count": 3,
   "metadata": {
    "collapsed": false
   },
   "outputs": [
    {
     "data": {
      "text/html": [
       "<html><script type=\"math/tex; mode=display\">\\newcommand{\\Bold}[1]{\\mathbf{#1}}\\verb|Problema|\\phantom{\\verb!x!}\\verb|1|</script></html>"
      ],
      "text/plain": [
       "'Problema 1'"
      ]
     },
     "metadata": {},
     "output_type": "display_data"
    },
    {
     "data": {
      "text/html": [
       "<html><script type=\"math/tex; mode=display\">\\newcommand{\\Bold}[1]{\\mathbf{#1}}\\left(\\begin{array}{rr}\n",
       "0 & 1 \\\\\n",
       "1 & 1\n",
       "\\end{array}\\right)</script></html>"
      ],
      "text/plain": [
       "[0 1]\n",
       "[1 1]"
      ]
     },
     "metadata": {},
     "output_type": "display_data"
    },
    {
     "data": {
      "image/png": "[encoded data removed]",
      "text/plain": [
       "Graphics object consisting of 8 graphics primitives"
      ]
     },
     "metadata": {},
     "output_type": "display_data"
    },
    {
     "name": "stdout",
     "output_type": "stream",
     "text": [
      "\\begin{tikzpicture}\n",
      "\\definecolor{cv0}{rgb}{0.0,0.0,0.0}\n",
      "\\definecolor{cfv0}{rgb}{1.0,1.0,1.0}\n",
      "\\definecolor{clv0}{rgb}{0.0,0.0,0.0}\n",
      "\\definecolor{cv1}{rgb}{0.0,0.0,0.0}\n",
      "\\definecolor{cfv1}{rgb}{1.0,1.0,1.0}\n",
      "\\definecolor{clv1}{rgb}{0.0,0.0,0.0}\n",
      "\\definecolor{cv0v1}{rgb}{0.0,0.0,0.0}\n",
      "\\definecolor{cv1v0}{rgb}{0.0,0.0,0.0}\n",
      "\\definecolor{cv1v1}{rgb}{0.0,0.0,0.0}\n",
      "%\n",
      "\\Vertex[style={minimum size=1.0cm,draw=cv0,fill=cfv0,text=clv0,shape=circle},LabelOut=false,L=\\hbox{$0$},x=5.0cm,y=5.0cm]{v0}\n",
      "\\Vertex[style={minimum size=1.0cm,draw=cv1,fill=cfv1,text=clv1,shape=circle},LabelOut=false,L=\\hbox{$1$},x=0.0cm,y=0.0cm]{v1}\n",
      "%\n",
      "\\Edge[lw=0.1cm,style={post, bend right,color=cv0v1,},](v0)(v1)\n",
      "\\Edge[lw=0.1cm,style={post, bend right,color=cv1v0,},](v1)(v0)\n",
      "\\Loop[dist=3.0cm,dir=NO,style={color=cv1v1,},](v1)\n",
      "%\n",
      "\\end{tikzpicture}\n"
     ]
    },
    {
     "data": {
      "text/html": [
       "<html><script type=\"math/tex; mode=display\">\\newcommand{\\Bold}[1]{\\mathbf{#1}}\\verb|P=| \\left(\\begin{array}{rr}\n",
       "1 & 1 \\\\\n",
       "1 & 1\n",
       "\\end{array}\\right)</script></html>"
      ],
      "text/plain": [
       "'P=' [1 1]\n",
       "[1 1]"
      ]
     },
     "metadata": {},
     "output_type": "display_data"
    },
    {
     "name": "stdout",
     "output_type": "stream",
     "text": [
      "________________________________________________________________\n",
      "\n"
     ]
    },
    {
     "data": {
      "text/html": [
       "<html><script type=\"math/tex; mode=display\">\\newcommand{\\Bold}[1]{\\mathbf{#1}}\\verb|Problema|\\phantom{\\verb!x!}\\verb|2|</script></html>"
      ],
      "text/plain": [
       "'Problema 2'"
      ]
     },
     "metadata": {},
     "output_type": "display_data"
    },
    {
     "data": {
      "text/html": [
       "<html><script type=\"math/tex; mode=display\">\\newcommand{\\Bold}[1]{\\mathbf{#1}}\\left(\\begin{array}{rrr}\n",
       "1 & 0 & 0 \\\\\n",
       "0 & 0 & 0 \\\\\n",
       "1 & 0 & 1\n",
       "\\end{array}\\right)</script></html>"
      ],
      "text/plain": [
       "[1 0 0]\n",
       "[0 0 0]\n",
       "[1 0 1]"
      ]
     },
     "metadata": {},
     "output_type": "display_data"
    },
    {
     "data": {
      "image/png": "[encoded data removed]",
      "text/plain": [
       "Graphics object consisting of 10 graphics primitives"
      ]
     },
     "metadata": {},
     "output_type": "display_data"
    },
    {
     "name": "stdout",
     "output_type": "stream",
     "text": [
      "\\begin{tikzpicture}\n",
      "\\definecolor{cv0}{rgb}{0.0,0.0,0.0}\n",
      "\\definecolor{cfv0}{rgb}{1.0,1.0,1.0}\n",
      "\\definecolor{clv0}{rgb}{0.0,0.0,0.0}\n",
      "\\definecolor{cv1}{rgb}{0.0,0.0,0.0}\n",
      "\\definecolor{cfv1}{rgb}{1.0,1.0,1.0}\n",
      "\\definecolor{clv1}{rgb}{0.0,0.0,0.0}\n",
      "\\definecolor{cv2}{rgb}{0.0,0.0,0.0}\n",
      "\\definecolor{cfv2}{rgb}{1.0,1.0,1.0}\n",
      "\\definecolor{clv2}{rgb}{0.0,0.0,0.0}\n",
      "\\definecolor{cv0v0}{rgb}{0.0,0.0,0.0}\n",
      "\\definecolor{cv2v0}{rgb}{0.0,0.0,0.0}\n",
      "\\definecolor{cv2v2}{rgb}{0.0,0.0,0.0}\n",
      "%\n",
      "\\Vertex[style={minimum size=1.0cm,draw=cv0,fill=cfv0,text=clv0,shape=circle},LabelOut=false,L=\\hbox{$0$},x=2.9289cm,y=0.0cm]{v0}\n",
      "\\Vertex[style={minimum size=1.0cm,draw=cv1,fill=cfv1,text=clv1,shape=circle},LabelOut=false,L=\\hbox{$1$},x=5.0cm,y=2.5cm]{v1}\n",
      "\\Vertex[style={minimum size=1.0cm,draw=cv2,fill=cfv2,text=clv2,shape=circle},LabelOut=false,L=\\hbox{$2$},x=0.0cm,y=5.0cm]{v2}\n",
      "%\n",
      "\\Loop[dist=3.0cm,dir=NO,style={color=cv0v0,},](v0)\n",
      "\\Edge[lw=0.1cm,style={post, bend right,color=cv2v0,},](v2)(v0)\n",
      "\\Loop[dist=3.0cm,dir=NO,style={color=cv2v2,},](v2)\n",
      "%\n",
      "\\end{tikzpicture}\n"
     ]
    },
    {
     "data": {
      "text/html": [
       "<html><script type=\"math/tex; mode=display\">\\newcommand{\\Bold}[1]{\\mathbf{#1}}\\verb|P=| \\left(\\begin{array}{rrr}\n",
       "1 & 0 & 0 \\\\\n",
       "0 & 0 & 0 \\\\\n",
       "1 & 0 & 1\n",
       "\\end{array}\\right)</script></html>"
      ],
      "text/plain": [
       "'P=' [1 0 0]\n",
       "[0 0 0]\n",
       "[1 0 1]"
      ]
     },
     "metadata": {},
     "output_type": "display_data"
    },
    {
     "name": "stdout",
     "output_type": "stream",
     "text": [
      "________________________________________________________________\n",
      "\n"
     ]
    },
    {
     "data": {
      "text/html": [
       "<html><script type=\"math/tex; mode=display\">\\newcommand{\\Bold}[1]{\\mathbf{#1}}\\verb|Problema|\\phantom{\\verb!x!}\\verb|3|</script></html>"
      ],
      "text/plain": [
       "'Problema 3'"
      ]
     },
     "metadata": {},
     "output_type": "display_data"
    },
    {
     "data": {
      "text/html": [
       "<html><script type=\"math/tex; mode=display\">\\newcommand{\\Bold}[1]{\\mathbf{#1}}\\left(\\begin{array}{rrrr}\n",
       "0 & 0 & 1 & 0 \\\\\n",
       "0 & 1 & 1 & 0 \\\\\n",
       "0 & 0 & 0 & 1 \\\\\n",
       "1 & 1 & 0 & 0\n",
       "\\end{array}\\right)</script></html>"
      ],
      "text/plain": [
       "[0 0 1 0]\n",
       "[0 1 1 0]\n",
       "[0 0 0 1]\n",
       "[1 1 0 0]"
      ]
     },
     "metadata": {},
     "output_type": "display_data"
    },
    {
     "data": {
      "image/png": "[encoded data removed]",
      "text/plain": [
       "Graphics object consisting of 15 graphics primitives"
      ]
     },
     "metadata": {},
     "output_type": "display_data"
    },
    {
     "name": "stdout",
     "output_type": "stream",
     "text": [
      "\\begin{tikzpicture}\n",
      "\\definecolor{cv0}{rgb}{0.0,0.0,0.0}\n",
      "\\definecolor{cfv0}{rgb}{1.0,1.0,1.0}\n",
      "\\definecolor{clv0}{rgb}{0.0,0.0,0.0}\n",
      "\\definecolor{cv1}{rgb}{0.0,0.0,0.0}\n",
      "\\definecolor{cfv1}{rgb}{1.0,1.0,1.0}\n",
      "\\definecolor{clv1}{rgb}{0.0,0.0,0.0}\n",
      "\\definecolor{cv2}{rgb}{0.0,0.0,0.0}\n",
      "\\definecolor{cfv2}{rgb}{1.0,1.0,1.0}\n",
      "\\definecolor{clv2}{rgb}{0.0,0.0,0.0}\n",
      "\\definecolor{cv3}{rgb}{0.0,0.0,0.0}\n",
      "\\definecolor{cfv3}{rgb}{1.0,1.0,1.0}\n",
      "\\definecolor{clv3}{rgb}{0.0,0.0,0.0}\n",
      "\\definecolor{cv0v2}{rgb}{0.0,0.0,0.0}\n",
      "\\definecolor{cv1v1}{rgb}{0.0,0.0,0.0}\n",
      "\\definecolor{cv1v2}{rgb}{0.0,0.0,0.0}\n",
      "\\definecolor{cv2v3}{rgb}{0.0,0.0,0.0}\n",
      "\\definecolor{cv3v0}{rgb}{0.0,0.0,0.0}\n",
      "\\definecolor{cv3v1}{rgb}{0.0,0.0,0.0}\n",
      "%\n",
      "\\Vertex[style={minimum size=1.0cm,draw=cv0,fill=cfv0,text=clv0,shape=circle},LabelOut=false,L=\\hbox{$0$},x=5.0cm,y=0.0cm]{v0}\n",
      "\\Vertex[style={minimum size=1.0cm,draw=cv1,fill=cfv1,text=clv1,shape=circle},LabelOut=false,L=\\hbox{$1$},x=0.0cm,y=5.0cm]{v1}\n",
      "\\Vertex[style={minimum size=1.0cm,draw=cv2,fill=cfv2,text=clv2,shape=circle},LabelOut=false,L=\\hbox{$2$},x=3.7532cm,y=3.6013cm]{v2}\n",
      "\\Vertex[style={minimum size=1.0cm,draw=cv3,fill=cfv3,text=clv3,shape=circle},LabelOut=false,L=\\hbox{$3$},x=1.2965cm,y=1.3584cm]{v3}\n",
      "%\n",
      "\\Edge[lw=0.1cm,style={post, bend right,color=cv0v2,},](v0)(v2)\n",
      "\\Loop[dist=3.0cm,dir=NO,style={color=cv1v1,},](v1)\n",
      "\\Edge[lw=0.1cm,style={post, bend right,color=cv1v2,},](v1)(v2)\n",
      "\\Edge[lw=0.1cm,style={post, bend right,color=cv2v3,},](v2)(v3)\n",
      "\\Edge[lw=0.1cm,style={post, bend right,color=cv3v0,},](v3)(v0)\n",
      "\\Edge[lw=0.1cm,style={post, bend right,color=cv3v1,},](v3)(v1)\n",
      "%\n",
      "\\end{tikzpicture}\n"
     ]
    },
    {
     "data": {
      "text/html": [
       "<html><script type=\"math/tex; mode=display\">\\newcommand{\\Bold}[1]{\\mathbf{#1}}\\verb|P=| \\left(\\begin{array}{rrrr}\n",
       "1 & 1 & 1 & 1 \\\\\n",
       "1 & 1 & 1 & 1 \\\\\n",
       "1 & 1 & 1 & 1 \\\\\n",
       "1 & 1 & 1 & 1\n",
       "\\end{array}\\right)</script></html>"
      ],
      "text/plain": [
       "'P=' [1 1 1 1]\n",
       "[1 1 1 1]\n",
       "[1 1 1 1]\n",
       "[1 1 1 1]"
      ]
     },
     "metadata": {},
     "output_type": "display_data"
    },
    {
     "name": "stdout",
     "output_type": "stream",
     "text": [
      "________________________________________________________________\n",
      "\n"
     ]
    },
    {
     "data": {
      "text/html": [
       "<html><script type=\"math/tex; mode=display\">\\newcommand{\\Bold}[1]{\\mathbf{#1}}\\verb|Problema|\\phantom{\\verb!x!}\\verb|4|</script></html>"
      ],
      "text/plain": [
       "'Problema 4'"
      ]
     },
     "metadata": {},
     "output_type": "display_data"
    },
    {
     "data": {
      "text/html": [
       "<html><script type=\"math/tex; mode=display\">\\newcommand{\\Bold}[1]{\\mathbf{#1}}\\left(\\begin{array}{rrrrr}\n",
       "0 & 1 & 0 & 0 & 0 \\\\\n",
       "1 & 0 & 0 & 0 & 0 \\\\\n",
       "0 & 1 & 1 & 1 & 0 \\\\\n",
       "1 & 0 & 0 & 0 & 0 \\\\\n",
       "0 & 0 & 0 & 0 & 1\n",
       "\\end{array}\\right)</script></html>"
      ],
      "text/plain": [
       "[0 1 0 0 0]\n",
       "[1 0 0 0 0]\n",
       "[0 1 1 1 0]\n",
       "[1 0 0 0 0]\n",
       "[0 0 0 0 1]"
      ]
     },
     "metadata": {},
     "output_type": "display_data"
    },
    {
     "data": {
      "image/png": "[encoded data removed]",
      "text/plain": [
       "Graphics object consisting of 18 graphics primitives"
      ]
     },
     "metadata": {},
     "output_type": "display_data"
    },
    {
     "name": "stdout",
     "output_type": "stream",
     "text": [
      "\\begin{tikzpicture}\n",
      "\\definecolor{cv0}{rgb}{0.0,0.0,0.0}\n",
      "\\definecolor{cfv0}{rgb}{1.0,1.0,1.0}\n",
      "\\definecolor{clv0}{rgb}{0.0,0.0,0.0}\n",
      "\\definecolor{cv1}{rgb}{0.0,0.0,0.0}\n",
      "\\definecolor{cfv1}{rgb}{1.0,1.0,1.0}\n",
      "\\definecolor{clv1}{rgb}{0.0,0.0,0.0}\n",
      "\\definecolor{cv2}{rgb}{0.0,0.0,0.0}\n",
      "\\definecolor{cfv2}{rgb}{1.0,1.0,1.0}\n",
      "\\definecolor{clv2}{rgb}{0.0,0.0,0.0}\n",
      "\\definecolor{cv3}{rgb}{0.0,0.0,0.0}\n",
      "\\definecolor{cfv3}{rgb}{1.0,1.0,1.0}\n",
      "\\definecolor{clv3}{rgb}{0.0,0.0,0.0}\n",
      "\\definecolor{cv4}{rgb}{0.0,0.0,0.0}\n",
      "\\definecolor{cfv4}{rgb}{1.0,1.0,1.0}\n",
      "\\definecolor{clv4}{rgb}{0.0,0.0,0.0}\n",
      "\\definecolor{cv0v1}{rgb}{0.0,0.0,0.0}\n",
      "\\definecolor{cv1v0}{rgb}{0.0,0.0,0.0}\n",
      "\\definecolor{cv2v1}{rgb}{0.0,0.0,0.0}\n",
      "\\definecolor{cv2v2}{rgb}{0.0,0.0,0.0}\n",
      "\\definecolor{cv2v3}{rgb}{0.0,0.0,0.0}\n",
      "\\definecolor{cv3v0}{rgb}{0.0,0.0,0.0}\n",
      "\\definecolor{cv4v4}{rgb}{0.0,0.0,0.0}\n",
      "%\n",
      "\\Vertex[style={minimum size=1.0cm,draw=cv0,fill=cfv0,text=clv0,shape=circle},LabelOut=false,L=\\hbox{$0$},x=2.0711cm,y=5.0cm]{v0}\n",
      "\\Vertex[style={minimum size=1.0cm,draw=cv1,fill=cfv1,text=clv1,shape=circle},LabelOut=false,L=\\hbox{$1$},x=0.0cm,y=3.1355cm]{v1}\n",
      "\\Vertex[style={minimum size=1.0cm,draw=cv2,fill=cfv2,text=clv2,shape=circle},LabelOut=false,L=\\hbox{$2$},x=1.2623cm,y=0.0cm]{v2}\n",
      "\\Vertex[style={minimum size=1.0cm,draw=cv3,fill=cfv3,text=clv3,shape=circle},LabelOut=false,L=\\hbox{$3$},x=3.3333cm,y=1.8645cm]{v3}\n",
      "\\Vertex[style={minimum size=1.0cm,draw=cv4,fill=cfv4,text=clv4,shape=circle},LabelOut=false,L=\\hbox{$4$},x=5.0cm,y=2.5cm]{v4}\n",
      "%\n",
      "\\Edge[lw=0.1cm,style={post, bend right,color=cv0v1,},](v0)(v1)\n",
      "\\Edge[lw=0.1cm,style={post, bend right,color=cv1v0,},](v1)(v0)\n",
      "\\Edge[lw=0.1cm,style={post, bend right,color=cv2v1,},](v2)(v1)\n",
      "\\Loop[dist=3.0cm,dir=NO,style={color=cv2v2,},](v2)\n",
      "\\Edge[lw=0.1cm,style={post, bend right,color=cv2v3,},](v2)(v3)\n",
      "\\Edge[lw=0.1cm,style={post, bend right,color=cv3v0,},](v3)(v0)\n",
      "\\Loop[dist=3.0cm,dir=NO,style={color=cv4v4,},](v4)\n",
      "%\n",
      "\\end{tikzpicture}\n"
     ]
    },
    {
     "data": {
      "text/html": [
       "<html><script type=\"math/tex; mode=display\">\\newcommand{\\Bold}[1]{\\mathbf{#1}}\\verb|P=| \\left(\\begin{array}{rrrrr}\n",
       "1 & 1 & 0 & 0 & 0 \\\\\n",
       "1 & 1 & 0 & 0 & 0 \\\\\n",
       "1 & 1 & 1 & 1 & 0 \\\\\n",
       "1 & 1 & 0 & 0 & 0 \\\\\n",
       "0 & 0 & 0 & 0 & 1\n",
       "\\end{array}\\right)</script></html>"
      ],
      "text/plain": [
       "'P=' [1 1 0 0 0]\n",
       "[1 1 0 0 0]\n",
       "[1 1 1 1 0]\n",
       "[1 1 0 0 0]\n",
       "[0 0 0 0 1]"
      ]
     },
     "metadata": {},
     "output_type": "display_data"
    },
    {
     "name": "stdout",
     "output_type": "stream",
     "text": [
      "________________________________________________________________\n",
      "\n"
     ]
    }
   ],
   "source": [
    "for i in range(2,5+1):\n",
    "    show(\"Problema \"+str(i-1))\n",
    "    A = Matrix(ZZ, i,i, lambda i,j: rd.randint(0, 2))\n",
    "    show(A)\n",
    "    G=DiGraph(A, format='adjacency_matrix')    \n",
    "    G.show(figsize=[i,i], graph_border=True)\n",
    "    print latex(G)\n",
    "    B=sum([A^k for k in range(1,i+1)])\n",
    "    P=Access(B, i)\n",
    "    show(\"P=\", P)\n",
    "    print 64*\"_\"+\"\\n\""
   ]
  },
  {
   "cell_type": "code",
   "execution_count": null,
   "metadata": {
    "collapsed": true
   },
   "outputs": [],
   "source": []
  }
 ],
 "metadata": {
  "kernelspec": {
   "display_name": "SageMath 7.5.1",
   "language": "",
   "name": "sagemath"
  },
  "language_info": {
   "codemirror_mode": {
    "name": "ipython",
    "version": 2
   },
   "file_extension": ".py",
   "mimetype": "text/x-python",
   "name": "python",
   "nbconvert_exporter": "python",
   "pygments_lexer": "ipython2",
   "version": "2.7.13"
  }
 },
 "nbformat": 4,
 "nbformat_minor": 0
}
