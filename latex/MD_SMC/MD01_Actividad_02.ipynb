{
 "cells": [
  {
   "cell_type": "code",
   "execution_count": 1,
   "metadata": {
    "collapsed": false
   },
   "outputs": [],
   "source": [
    "import jdk2py_MD as my\n",
    "p,q = var(\"p,q\")"
   ]
  },
  {
   "cell_type": "code",
   "execution_count": 3,
   "metadata": {
    "collapsed": false
   },
   "outputs": [
    {
     "name": "stdout",
     "output_type": "stream",
     "text": [
      "ejercicio 1\n"
     ]
    },
    {
     "data": {
      "text/html": [
       "<div class=\"notruncate\">\n",
       "<table  class=\"table_form\">\n",
       "<tbody>\n",
       "<tr class =\"row-a\">\n",
       "<td>p</td>\n",
       "<td>q</td>\n",
       "<td>imply(not(p or not q), not p)</td>\n",
       "</tr>\n",
       "<tr class =\"row-b\">\n",
       "<td><script type=\"math/tex\">1</script></td>\n",
       "<td><script type=\"math/tex\">1</script></td>\n",
       "<td><script type=\"math/tex\">1</script></td>\n",
       "</tr>\n",
       "<tr class =\"row-a\">\n",
       "<td><script type=\"math/tex\">1</script></td>\n",
       "<td><script type=\"math/tex\">0</script></td>\n",
       "<td><script type=\"math/tex\">1</script></td>\n",
       "</tr>\n",
       "<tr class =\"row-b\">\n",
       "<td><script type=\"math/tex\">0</script></td>\n",
       "<td><script type=\"math/tex\">1</script></td>\n",
       "<td><script type=\"math/tex\">1</script></td>\n",
       "</tr>\n",
       "<tr class =\"row-a\">\n",
       "<td><script type=\"math/tex\">0</script></td>\n",
       "<td><script type=\"math/tex\">0</script></td>\n",
       "<td><script type=\"math/tex\">1</script></td>\n",
       "</tr>\n",
       "</tbody>\n",
       "</table>\n",
       "</div>"
      ],
      "text/plain": [
       "  p   q   imply(not(p or not q), not p)\n",
       "  1   1   1\n",
       "  1   0   1\n",
       "  0   1   1\n",
       "  0   0   1"
      ]
     },
     "metadata": {},
     "output_type": "display_data"
    },
    {
     "name": "stdout",
     "output_type": "stream",
     "text": [
      "ejercicio 2\n"
     ]
    },
    {
     "data": {
      "text/html": [
       "<div class=\"notruncate\">\n",
       "<table  class=\"table_form\">\n",
       "<tbody>\n",
       "<tr class =\"row-a\">\n",
       "<td>p</td>\n",
       "<td>q</td>\n",
       "<td>r</td>\n",
       "<td>imply(p, imply(q,r))</td>\n",
       "</tr>\n",
       "<tr class =\"row-b\">\n",
       "<td><script type=\"math/tex\">1</script></td>\n",
       "<td><script type=\"math/tex\">1</script></td>\n",
       "<td><script type=\"math/tex\">1</script></td>\n",
       "<td><script type=\"math/tex\">1</script></td>\n",
       "</tr>\n",
       "<tr class =\"row-a\">\n",
       "<td><script type=\"math/tex\">1</script></td>\n",
       "<td><script type=\"math/tex\">1</script></td>\n",
       "<td><script type=\"math/tex\">0</script></td>\n",
       "<td><script type=\"math/tex\">0</script></td>\n",
       "</tr>\n",
       "<tr class =\"row-b\">\n",
       "<td><script type=\"math/tex\">1</script></td>\n",
       "<td><script type=\"math/tex\">0</script></td>\n",
       "<td><script type=\"math/tex\">1</script></td>\n",
       "<td><script type=\"math/tex\">1</script></td>\n",
       "</tr>\n",
       "<tr class =\"row-a\">\n",
       "<td><script type=\"math/tex\">1</script></td>\n",
       "<td><script type=\"math/tex\">0</script></td>\n",
       "<td><script type=\"math/tex\">0</script></td>\n",
       "<td><script type=\"math/tex\">1</script></td>\n",
       "</tr>\n",
       "<tr class =\"row-b\">\n",
       "<td><script type=\"math/tex\">0</script></td>\n",
       "<td><script type=\"math/tex\">1</script></td>\n",
       "<td><script type=\"math/tex\">1</script></td>\n",
       "<td><script type=\"math/tex\">1</script></td>\n",
       "</tr>\n",
       "<tr class =\"row-a\">\n",
       "<td><script type=\"math/tex\">0</script></td>\n",
       "<td><script type=\"math/tex\">1</script></td>\n",
       "<td><script type=\"math/tex\">0</script></td>\n",
       "<td><script type=\"math/tex\">1</script></td>\n",
       "</tr>\n",
       "<tr class =\"row-b\">\n",
       "<td><script type=\"math/tex\">0</script></td>\n",
       "<td><script type=\"math/tex\">0</script></td>\n",
       "<td><script type=\"math/tex\">1</script></td>\n",
       "<td><script type=\"math/tex\">1</script></td>\n",
       "</tr>\n",
       "<tr class =\"row-a\">\n",
       "<td><script type=\"math/tex\">0</script></td>\n",
       "<td><script type=\"math/tex\">0</script></td>\n",
       "<td><script type=\"math/tex\">0</script></td>\n",
       "<td><script type=\"math/tex\">1</script></td>\n",
       "</tr>\n",
       "</tbody>\n",
       "</table>\n",
       "</div>"
      ],
      "text/plain": [
       "  p   q   r   imply(p, imply(q,r))\n",
       "  1   1   1   1\n",
       "  1   1   0   0\n",
       "  1   0   1   1\n",
       "  1   0   0   1\n",
       "  0   1   1   1\n",
       "  0   1   0   1\n",
       "  0   0   1   1\n",
       "  0   0   0   1"
      ]
     },
     "metadata": {},
     "output_type": "display_data"
    },
    {
     "name": "stdout",
     "output_type": "stream",
     "text": [
      "ejercicio 3\n"
     ]
    },
    {
     "data": {
      "text/html": [
       "<div class=\"notruncate\">\n",
       "<table  class=\"table_form\">\n",
       "<tbody>\n",
       "<tr class =\"row-a\">\n",
       "<td>p</td>\n",
       "<td>q</td>\n",
       "<td>r</td>\n",
       "<td>imply(imply(p,q), r)</td>\n",
       "</tr>\n",
       "<tr class =\"row-b\">\n",
       "<td><script type=\"math/tex\">1</script></td>\n",
       "<td><script type=\"math/tex\">1</script></td>\n",
       "<td><script type=\"math/tex\">1</script></td>\n",
       "<td><script type=\"math/tex\">1</script></td>\n",
       "</tr>\n",
       "<tr class =\"row-a\">\n",
       "<td><script type=\"math/tex\">1</script></td>\n",
       "<td><script type=\"math/tex\">1</script></td>\n",
       "<td><script type=\"math/tex\">0</script></td>\n",
       "<td><script type=\"math/tex\">0</script></td>\n",
       "</tr>\n",
       "<tr class =\"row-b\">\n",
       "<td><script type=\"math/tex\">1</script></td>\n",
       "<td><script type=\"math/tex\">0</script></td>\n",
       "<td><script type=\"math/tex\">1</script></td>\n",
       "<td><script type=\"math/tex\">1</script></td>\n",
       "</tr>\n",
       "<tr class =\"row-a\">\n",
       "<td><script type=\"math/tex\">1</script></td>\n",
       "<td><script type=\"math/tex\">0</script></td>\n",
       "<td><script type=\"math/tex\">0</script></td>\n",
       "<td><script type=\"math/tex\">1</script></td>\n",
       "</tr>\n",
       "<tr class =\"row-b\">\n",
       "<td><script type=\"math/tex\">0</script></td>\n",
       "<td><script type=\"math/tex\">1</script></td>\n",
       "<td><script type=\"math/tex\">1</script></td>\n",
       "<td><script type=\"math/tex\">1</script></td>\n",
       "</tr>\n",
       "<tr class =\"row-a\">\n",
       "<td><script type=\"math/tex\">0</script></td>\n",
       "<td><script type=\"math/tex\">1</script></td>\n",
       "<td><script type=\"math/tex\">0</script></td>\n",
       "<td><script type=\"math/tex\">0</script></td>\n",
       "</tr>\n",
       "<tr class =\"row-b\">\n",
       "<td><script type=\"math/tex\">0</script></td>\n",
       "<td><script type=\"math/tex\">0</script></td>\n",
       "<td><script type=\"math/tex\">1</script></td>\n",
       "<td><script type=\"math/tex\">1</script></td>\n",
       "</tr>\n",
       "<tr class =\"row-a\">\n",
       "<td><script type=\"math/tex\">0</script></td>\n",
       "<td><script type=\"math/tex\">0</script></td>\n",
       "<td><script type=\"math/tex\">0</script></td>\n",
       "<td><script type=\"math/tex\">0</script></td>\n",
       "</tr>\n",
       "</tbody>\n",
       "</table>\n",
       "</div>"
      ],
      "text/plain": [
       "  p   q   r   imply(imply(p,q), r)\n",
       "  1   1   1   1\n",
       "  1   1   0   0\n",
       "  1   0   1   1\n",
       "  1   0   0   1\n",
       "  0   1   1   1\n",
       "  0   1   0   0\n",
       "  0   0   1   1\n",
       "  0   0   0   0"
      ]
     },
     "metadata": {},
     "output_type": "display_data"
    },
    {
     "name": "stdout",
     "output_type": "stream",
     "text": [
      "ejercicio 4\n"
     ]
    },
    {
     "data": {
      "text/html": [
       "<div class=\"notruncate\">\n",
       "<table  class=\"table_form\">\n",
       "<tbody>\n",
       "<tr class =\"row-a\">\n",
       "<td>p</td>\n",
       "<td>q</td>\n",
       "<td>imply(imply(p,q), imply(q,p))</td>\n",
       "</tr>\n",
       "<tr class =\"row-b\">\n",
       "<td><script type=\"math/tex\">1</script></td>\n",
       "<td><script type=\"math/tex\">1</script></td>\n",
       "<td><script type=\"math/tex\">1</script></td>\n",
       "</tr>\n",
       "<tr class =\"row-a\">\n",
       "<td><script type=\"math/tex\">1</script></td>\n",
       "<td><script type=\"math/tex\">0</script></td>\n",
       "<td><script type=\"math/tex\">1</script></td>\n",
       "</tr>\n",
       "<tr class =\"row-b\">\n",
       "<td><script type=\"math/tex\">0</script></td>\n",
       "<td><script type=\"math/tex\">1</script></td>\n",
       "<td><script type=\"math/tex\">0</script></td>\n",
       "</tr>\n",
       "<tr class =\"row-a\">\n",
       "<td><script type=\"math/tex\">0</script></td>\n",
       "<td><script type=\"math/tex\">0</script></td>\n",
       "<td><script type=\"math/tex\">1</script></td>\n",
       "</tr>\n",
       "</tbody>\n",
       "</table>\n",
       "</div>"
      ],
      "text/plain": [
       "  p   q   imply(imply(p,q), imply(q,p))\n",
       "  1   1   1\n",
       "  1   0   1\n",
       "  0   1   0\n",
       "  0   0   1"
      ]
     },
     "metadata": {},
     "output_type": "display_data"
    },
    {
     "name": "stdout",
     "output_type": "stream",
     "text": [
      "ejercicio 5\n"
     ]
    },
    {
     "data": {
      "text/html": [
       "<div class=\"notruncate\">\n",
       "<table  class=\"table_form\">\n",
       "<tbody>\n",
       "<tr class =\"row-a\">\n",
       "<td>p</td>\n",
       "<td>q</td>\n",
       "<td>imply(p and imply(p,q), q)</td>\n",
       "</tr>\n",
       "<tr class =\"row-b\">\n",
       "<td><script type=\"math/tex\">1</script></td>\n",
       "<td><script type=\"math/tex\">1</script></td>\n",
       "<td><script type=\"math/tex\">1</script></td>\n",
       "</tr>\n",
       "<tr class =\"row-a\">\n",
       "<td><script type=\"math/tex\">1</script></td>\n",
       "<td><script type=\"math/tex\">0</script></td>\n",
       "<td><script type=\"math/tex\">1</script></td>\n",
       "</tr>\n",
       "<tr class =\"row-b\">\n",
       "<td><script type=\"math/tex\">0</script></td>\n",
       "<td><script type=\"math/tex\">1</script></td>\n",
       "<td><script type=\"math/tex\">1</script></td>\n",
       "</tr>\n",
       "<tr class =\"row-a\">\n",
       "<td><script type=\"math/tex\">0</script></td>\n",
       "<td><script type=\"math/tex\">0</script></td>\n",
       "<td><script type=\"math/tex\">1</script></td>\n",
       "</tr>\n",
       "</tbody>\n",
       "</table>\n",
       "</div>"
      ],
      "text/plain": [
       "  p   q   imply(p and imply(p,q), q)\n",
       "  1   1   1\n",
       "  1   0   1\n",
       "  0   1   1\n",
       "  0   0   1"
      ]
     },
     "metadata": {},
     "output_type": "display_data"
    },
    {
     "name": "stdout",
     "output_type": "stream",
     "text": [
      "ejercicio 6\n"
     ]
    },
    {
     "data": {
      "text/html": [
       "<div class=\"notruncate\">\n",
       "<table  class=\"table_form\">\n",
       "<tbody>\n",
       "<tr class =\"row-a\">\n",
       "<td>p</td>\n",
       "<td>q</td>\n",
       "<td>imply(p and q, p)</td>\n",
       "</tr>\n",
       "<tr class =\"row-b\">\n",
       "<td><script type=\"math/tex\">1</script></td>\n",
       "<td><script type=\"math/tex\">1</script></td>\n",
       "<td><script type=\"math/tex\">1</script></td>\n",
       "</tr>\n",
       "<tr class =\"row-a\">\n",
       "<td><script type=\"math/tex\">1</script></td>\n",
       "<td><script type=\"math/tex\">0</script></td>\n",
       "<td><script type=\"math/tex\">1</script></td>\n",
       "</tr>\n",
       "<tr class =\"row-b\">\n",
       "<td><script type=\"math/tex\">0</script></td>\n",
       "<td><script type=\"math/tex\">1</script></td>\n",
       "<td><script type=\"math/tex\">1</script></td>\n",
       "</tr>\n",
       "<tr class =\"row-a\">\n",
       "<td><script type=\"math/tex\">0</script></td>\n",
       "<td><script type=\"math/tex\">0</script></td>\n",
       "<td><script type=\"math/tex\">1</script></td>\n",
       "</tr>\n",
       "</tbody>\n",
       "</table>\n",
       "</div>"
      ],
      "text/plain": [
       "  p   q   imply(p and q, p)\n",
       "  1   1   1\n",
       "  1   0   1\n",
       "  0   1   1\n",
       "  0   0   1"
      ]
     },
     "metadata": {},
     "output_type": "display_data"
    },
    {
     "name": "stdout",
     "output_type": "stream",
     "text": [
      "ejercicio 7\n"
     ]
    },
    {
     "data": {
      "text/html": [
       "<div class=\"notruncate\">\n",
       "<table  class=\"table_form\">\n",
       "<tbody>\n",
       "<tr class =\"row-a\">\n",
       "<td>p</td>\n",
       "<td>q</td>\n",
       "<td>imply(q, not p or not q)</td>\n",
       "</tr>\n",
       "<tr class =\"row-b\">\n",
       "<td><script type=\"math/tex\">1</script></td>\n",
       "<td><script type=\"math/tex\">1</script></td>\n",
       "<td><script type=\"math/tex\">0</script></td>\n",
       "</tr>\n",
       "<tr class =\"row-a\">\n",
       "<td><script type=\"math/tex\">1</script></td>\n",
       "<td><script type=\"math/tex\">0</script></td>\n",
       "<td><script type=\"math/tex\">1</script></td>\n",
       "</tr>\n",
       "<tr class =\"row-b\">\n",
       "<td><script type=\"math/tex\">0</script></td>\n",
       "<td><script type=\"math/tex\">1</script></td>\n",
       "<td><script type=\"math/tex\">1</script></td>\n",
       "</tr>\n",
       "<tr class =\"row-a\">\n",
       "<td><script type=\"math/tex\">0</script></td>\n",
       "<td><script type=\"math/tex\">0</script></td>\n",
       "<td><script type=\"math/tex\">1</script></td>\n",
       "</tr>\n",
       "</tbody>\n",
       "</table>\n",
       "</div>"
      ],
      "text/plain": [
       "  p   q   imply(q, not p or not q)\n",
       "  1   1   0\n",
       "  1   0   1\n",
       "  0   1   1\n",
       "  0   0   1"
      ]
     },
     "metadata": {},
     "output_type": "display_data"
    },
    {
     "name": "stdout",
     "output_type": "stream",
     "text": [
      "ejercicio 8\n"
     ]
    },
    {
     "data": {
      "text/html": [
       "<div class=\"notruncate\">\n",
       "<table  class=\"table_form\">\n",
       "<tbody>\n",
       "<tr class =\"row-a\">\n",
       "<td>p</td>\n",
       "<td>q</td>\n",
       "<td>r</td>\n",
       "<td>imply(imply(p,q) and imply(q,r), imply(p,r))</td>\n",
       "</tr>\n",
       "<tr class =\"row-b\">\n",
       "<td><script type=\"math/tex\">1</script></td>\n",
       "<td><script type=\"math/tex\">1</script></td>\n",
       "<td><script type=\"math/tex\">1</script></td>\n",
       "<td><script type=\"math/tex\">1</script></td>\n",
       "</tr>\n",
       "<tr class =\"row-a\">\n",
       "<td><script type=\"math/tex\">1</script></td>\n",
       "<td><script type=\"math/tex\">1</script></td>\n",
       "<td><script type=\"math/tex\">0</script></td>\n",
       "<td><script type=\"math/tex\">1</script></td>\n",
       "</tr>\n",
       "<tr class =\"row-b\">\n",
       "<td><script type=\"math/tex\">1</script></td>\n",
       "<td><script type=\"math/tex\">0</script></td>\n",
       "<td><script type=\"math/tex\">1</script></td>\n",
       "<td><script type=\"math/tex\">1</script></td>\n",
       "</tr>\n",
       "<tr class =\"row-a\">\n",
       "<td><script type=\"math/tex\">1</script></td>\n",
       "<td><script type=\"math/tex\">0</script></td>\n",
       "<td><script type=\"math/tex\">0</script></td>\n",
       "<td><script type=\"math/tex\">1</script></td>\n",
       "</tr>\n",
       "<tr class =\"row-b\">\n",
       "<td><script type=\"math/tex\">0</script></td>\n",
       "<td><script type=\"math/tex\">1</script></td>\n",
       "<td><script type=\"math/tex\">1</script></td>\n",
       "<td><script type=\"math/tex\">1</script></td>\n",
       "</tr>\n",
       "<tr class =\"row-a\">\n",
       "<td><script type=\"math/tex\">0</script></td>\n",
       "<td><script type=\"math/tex\">1</script></td>\n",
       "<td><script type=\"math/tex\">0</script></td>\n",
       "<td><script type=\"math/tex\">1</script></td>\n",
       "</tr>\n",
       "<tr class =\"row-b\">\n",
       "<td><script type=\"math/tex\">0</script></td>\n",
       "<td><script type=\"math/tex\">0</script></td>\n",
       "<td><script type=\"math/tex\">1</script></td>\n",
       "<td><script type=\"math/tex\">1</script></td>\n",
       "</tr>\n",
       "<tr class =\"row-a\">\n",
       "<td><script type=\"math/tex\">0</script></td>\n",
       "<td><script type=\"math/tex\">0</script></td>\n",
       "<td><script type=\"math/tex\">0</script></td>\n",
       "<td><script type=\"math/tex\">1</script></td>\n",
       "</tr>\n",
       "</tbody>\n",
       "</table>\n",
       "</div>"
      ],
      "text/plain": [
       "  p   q   r   imply(imply(p,q) and imply(q,r), imply(p,r))\n",
       "  1   1   1   1\n",
       "  1   1   0   1\n",
       "  1   0   1   1\n",
       "  1   0   0   1\n",
       "  0   1   1   1\n",
       "  0   1   0   1\n",
       "  0   0   1   1\n",
       "  0   0   0   1"
      ]
     },
     "metadata": {},
     "output_type": "display_data"
    }
   ],
   "source": [
    "evc01 = [[2, \"imply(not(p or not q), not p)\"], [3, \"imply(p, imply(q,r))\"], [3, \"imply(imply(p,q), r)\"],\n",
    "        [2, \"imply(imply(p,q), imply(q,p))\"], [2, \"imply(p and imply(p,q), q)\"], [2, \"imply(p and q, p)\"],\n",
    "        [2, \"imply(q, not p or not q)\"], [3, \"imply(imply(p,q) and imply(q,r), imply(p,r))\"]]\n",
    "\n",
    "for k,exe in enumerate(evc01):\n",
    "    numvar = exe[0]\n",
    "    fun = exe[1]\n",
    "    print \"ejercicio\", k+1\n",
    "    if numvar==2:\n",
    "        my.tablify2(fun)\n",
    "    if numvar==3:\n",
    "        my.tablify3(fun)"
   ]
  }
 ],
 "metadata": {
  "kernelspec": {
   "display_name": "SageMath 7.3",
   "language": "",
   "name": "sagemath"
  },
  "language_info": {
   "codemirror_mode": {
    "name": "ipython",
    "version": 2
   },
   "file_extension": ".py",
   "mimetype": "text/x-python",
   "name": "python",
   "nbconvert_exporter": "python",
   "pygments_lexer": "ipython2",
   "version": "2.7.10"
  }
 },
 "nbformat": 4,
 "nbformat_minor": 0
}
