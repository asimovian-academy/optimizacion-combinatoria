{
 "cells": [
  {
   "cell_type": "code",
   "execution_count": 1,
   "metadata": {
    "collapsed": false
   },
   "outputs": [],
   "source": [
    "import jdk2py_MD as my\n",
    "p,q = var(\"p,q\")"
   ]
  },
  {
   "cell_type": "code",
   "execution_count": 2,
   "metadata": {
    "collapsed": false
   },
   "outputs": [
    {
     "name": "stdout",
     "output_type": "stream",
     "text": [
      "ejercicio 1\n"
     ]
    },
    {
     "data": {
      "text/html": [
       "<div class=\"notruncate\">\n",
       "<table  class=\"table_form\">\n",
       "<tbody>\n",
       "<tr class =\"row-a\">\n",
       "<td>p</td>\n",
       "<td>q</td>\n",
       "<td>p or not p</td>\n",
       "</tr>\n",
       "<tr class =\"row-b\">\n",
       "<td><script type=\"math/tex\">1</script></td>\n",
       "<td><script type=\"math/tex\">1</script></td>\n",
       "<td><script type=\"math/tex\">1</script></td>\n",
       "</tr>\n",
       "<tr class =\"row-a\">\n",
       "<td><script type=\"math/tex\">1</script></td>\n",
       "<td><script type=\"math/tex\">0</script></td>\n",
       "<td><script type=\"math/tex\">1</script></td>\n",
       "</tr>\n",
       "<tr class =\"row-b\">\n",
       "<td><script type=\"math/tex\">0</script></td>\n",
       "<td><script type=\"math/tex\">1</script></td>\n",
       "<td><script type=\"math/tex\">1</script></td>\n",
       "</tr>\n",
       "<tr class =\"row-a\">\n",
       "<td><script type=\"math/tex\">0</script></td>\n",
       "<td><script type=\"math/tex\">0</script></td>\n",
       "<td><script type=\"math/tex\">1</script></td>\n",
       "</tr>\n",
       "</tbody>\n",
       "</table>\n",
       "</div>"
      ],
      "text/plain": [
       "  p   q   p or not p\n",
       "  1   1   1\n",
       "  1   0   1\n",
       "  0   1   1\n",
       "  0   0   1"
      ]
     },
     "metadata": {},
     "output_type": "display_data"
    },
    {
     "name": "stdout",
     "output_type": "stream",
     "text": [
      "ejercicio 2\n"
     ]
    },
    {
     "data": {
      "text/html": [
       "<div class=\"notruncate\">\n",
       "<table  class=\"table_form\">\n",
       "<tbody>\n",
       "<tr class =\"row-a\">\n",
       "<td>p</td>\n",
       "<td>q</td>\n",
       "<td>p and not p</td>\n",
       "</tr>\n",
       "<tr class =\"row-b\">\n",
       "<td><script type=\"math/tex\">1</script></td>\n",
       "<td><script type=\"math/tex\">1</script></td>\n",
       "<td><script type=\"math/tex\">0</script></td>\n",
       "</tr>\n",
       "<tr class =\"row-a\">\n",
       "<td><script type=\"math/tex\">1</script></td>\n",
       "<td><script type=\"math/tex\">0</script></td>\n",
       "<td><script type=\"math/tex\">0</script></td>\n",
       "</tr>\n",
       "<tr class =\"row-b\">\n",
       "<td><script type=\"math/tex\">0</script></td>\n",
       "<td><script type=\"math/tex\">1</script></td>\n",
       "<td><script type=\"math/tex\">0</script></td>\n",
       "</tr>\n",
       "<tr class =\"row-a\">\n",
       "<td><script type=\"math/tex\">0</script></td>\n",
       "<td><script type=\"math/tex\">0</script></td>\n",
       "<td><script type=\"math/tex\">0</script></td>\n",
       "</tr>\n",
       "</tbody>\n",
       "</table>\n",
       "</div>"
      ],
      "text/plain": [
       "  p   q   p and not p\n",
       "  1   1   0\n",
       "  1   0   0\n",
       "  0   1   0\n",
       "  0   0   0"
      ]
     },
     "metadata": {},
     "output_type": "display_data"
    },
    {
     "name": "stdout",
     "output_type": "stream",
     "text": [
      "ejercicio 3\n"
     ]
    },
    {
     "data": {
      "text/html": [
       "<div class=\"notruncate\">\n",
       "<table  class=\"table_form\">\n",
       "<tbody>\n",
       "<tr class =\"row-a\">\n",
       "<td>p</td>\n",
       "<td>q</td>\n",
       "<td>not(p or q)</td>\n",
       "</tr>\n",
       "<tr class =\"row-b\">\n",
       "<td><script type=\"math/tex\">1</script></td>\n",
       "<td><script type=\"math/tex\">1</script></td>\n",
       "<td><script type=\"math/tex\">0</script></td>\n",
       "</tr>\n",
       "<tr class =\"row-a\">\n",
       "<td><script type=\"math/tex\">1</script></td>\n",
       "<td><script type=\"math/tex\">0</script></td>\n",
       "<td><script type=\"math/tex\">0</script></td>\n",
       "</tr>\n",
       "<tr class =\"row-b\">\n",
       "<td><script type=\"math/tex\">0</script></td>\n",
       "<td><script type=\"math/tex\">1</script></td>\n",
       "<td><script type=\"math/tex\">0</script></td>\n",
       "</tr>\n",
       "<tr class =\"row-a\">\n",
       "<td><script type=\"math/tex\">0</script></td>\n",
       "<td><script type=\"math/tex\">0</script></td>\n",
       "<td><script type=\"math/tex\">1</script></td>\n",
       "</tr>\n",
       "</tbody>\n",
       "</table>\n",
       "</div>"
      ],
      "text/plain": [
       "  p   q   not(p or q)\n",
       "  1   1   0\n",
       "  1   0   0\n",
       "  0   1   0\n",
       "  0   0   1"
      ]
     },
     "metadata": {},
     "output_type": "display_data"
    },
    {
     "name": "stdout",
     "output_type": "stream",
     "text": [
      "ejercicio 4\n"
     ]
    },
    {
     "data": {
      "text/html": [
       "<div class=\"notruncate\">\n",
       "<table  class=\"table_form\">\n",
       "<tbody>\n",
       "<tr class =\"row-a\">\n",
       "<td>p</td>\n",
       "<td>q</td>\n",
       "<td>not p and not q</td>\n",
       "</tr>\n",
       "<tr class =\"row-b\">\n",
       "<td><script type=\"math/tex\">1</script></td>\n",
       "<td><script type=\"math/tex\">1</script></td>\n",
       "<td><script type=\"math/tex\">0</script></td>\n",
       "</tr>\n",
       "<tr class =\"row-a\">\n",
       "<td><script type=\"math/tex\">1</script></td>\n",
       "<td><script type=\"math/tex\">0</script></td>\n",
       "<td><script type=\"math/tex\">0</script></td>\n",
       "</tr>\n",
       "<tr class =\"row-b\">\n",
       "<td><script type=\"math/tex\">0</script></td>\n",
       "<td><script type=\"math/tex\">1</script></td>\n",
       "<td><script type=\"math/tex\">0</script></td>\n",
       "</tr>\n",
       "<tr class =\"row-a\">\n",
       "<td><script type=\"math/tex\">0</script></td>\n",
       "<td><script type=\"math/tex\">0</script></td>\n",
       "<td><script type=\"math/tex\">1</script></td>\n",
       "</tr>\n",
       "</tbody>\n",
       "</table>\n",
       "</div>"
      ],
      "text/plain": [
       "  p   q   not p and not q\n",
       "  1   1   0\n",
       "  1   0   0\n",
       "  0   1   0\n",
       "  0   0   1"
      ]
     },
     "metadata": {},
     "output_type": "display_data"
    },
    {
     "name": "stdout",
     "output_type": "stream",
     "text": [
      "ejercicio 5\n"
     ]
    },
    {
     "data": {
      "text/html": [
       "<div class=\"notruncate\">\n",
       "<table  class=\"table_form\">\n",
       "<tbody>\n",
       "<tr class =\"row-a\">\n",
       "<td>p</td>\n",
       "<td>q</td>\n",
       "<td>not(p and q)</td>\n",
       "</tr>\n",
       "<tr class =\"row-b\">\n",
       "<td><script type=\"math/tex\">1</script></td>\n",
       "<td><script type=\"math/tex\">1</script></td>\n",
       "<td><script type=\"math/tex\">0</script></td>\n",
       "</tr>\n",
       "<tr class =\"row-a\">\n",
       "<td><script type=\"math/tex\">1</script></td>\n",
       "<td><script type=\"math/tex\">0</script></td>\n",
       "<td><script type=\"math/tex\">1</script></td>\n",
       "</tr>\n",
       "<tr class =\"row-b\">\n",
       "<td><script type=\"math/tex\">0</script></td>\n",
       "<td><script type=\"math/tex\">1</script></td>\n",
       "<td><script type=\"math/tex\">1</script></td>\n",
       "</tr>\n",
       "<tr class =\"row-a\">\n",
       "<td><script type=\"math/tex\">0</script></td>\n",
       "<td><script type=\"math/tex\">0</script></td>\n",
       "<td><script type=\"math/tex\">1</script></td>\n",
       "</tr>\n",
       "</tbody>\n",
       "</table>\n",
       "</div>"
      ],
      "text/plain": [
       "  p   q   not(p and q)\n",
       "  1   1   0\n",
       "  1   0   1\n",
       "  0   1   1\n",
       "  0   0   1"
      ]
     },
     "metadata": {},
     "output_type": "display_data"
    },
    {
     "name": "stdout",
     "output_type": "stream",
     "text": [
      "ejercicio 6\n"
     ]
    },
    {
     "data": {
      "text/html": [
       "<div class=\"notruncate\">\n",
       "<table  class=\"table_form\">\n",
       "<tbody>\n",
       "<tr class =\"row-a\">\n",
       "<td>p</td>\n",
       "<td>q</td>\n",
       "<td>not p or not q</td>\n",
       "</tr>\n",
       "<tr class =\"row-b\">\n",
       "<td><script type=\"math/tex\">1</script></td>\n",
       "<td><script type=\"math/tex\">1</script></td>\n",
       "<td><script type=\"math/tex\">0</script></td>\n",
       "</tr>\n",
       "<tr class =\"row-a\">\n",
       "<td><script type=\"math/tex\">1</script></td>\n",
       "<td><script type=\"math/tex\">0</script></td>\n",
       "<td><script type=\"math/tex\">1</script></td>\n",
       "</tr>\n",
       "<tr class =\"row-b\">\n",
       "<td><script type=\"math/tex\">0</script></td>\n",
       "<td><script type=\"math/tex\">1</script></td>\n",
       "<td><script type=\"math/tex\">1</script></td>\n",
       "</tr>\n",
       "<tr class =\"row-a\">\n",
       "<td><script type=\"math/tex\">0</script></td>\n",
       "<td><script type=\"math/tex\">0</script></td>\n",
       "<td><script type=\"math/tex\">1</script></td>\n",
       "</tr>\n",
       "</tbody>\n",
       "</table>\n",
       "</div>"
      ],
      "text/plain": [
       "  p   q   not p or not q\n",
       "  1   1   0\n",
       "  1   0   1\n",
       "  0   1   1\n",
       "  0   0   1"
      ]
     },
     "metadata": {},
     "output_type": "display_data"
    }
   ],
   "source": [
    "evc01 = [\"p or not p\", \"p and not p\", \"not(p or q)\", \"not p and not q\", \"not(p and q)\", \"not p or not q\"]\n",
    "\n",
    "for k,fun in enumerate(evc01):\n",
    "    print \"ejercicio\", k+1\n",
    "    my.tablify2(fun)"
   ]
  },
  {
   "cell_type": "code",
   "execution_count": null,
   "metadata": {
    "collapsed": true
   },
   "outputs": [],
   "source": []
  },
  {
   "cell_type": "code",
   "execution_count": null,
   "metadata": {
    "collapsed": true
   },
   "outputs": [],
   "source": []
  }
 ],
 "metadata": {
  "kernelspec": {
   "display_name": "SageMath 7.3",
   "language": "",
   "name": "sagemath"
  },
  "language_info": {
   "codemirror_mode": {
    "name": "ipython",
    "version": 2
   },
   "file_extension": ".py",
   "mimetype": "text/x-python",
   "name": "python",
   "nbconvert_exporter": "python",
   "pygments_lexer": "ipython2",
   "version": "2.7.10"
  }
 },
 "nbformat": 4,
 "nbformat_minor": 0
}
