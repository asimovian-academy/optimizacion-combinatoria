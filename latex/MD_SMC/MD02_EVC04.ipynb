{
 "cells": [
  {
   "cell_type": "code",
   "execution_count": 1,
   "metadata": {
    "collapsed": false
   },
   "outputs": [],
   "source": [
    "from jdk2py_MD import *"
   ]
  },
  {
   "cell_type": "code",
   "execution_count": 8,
   "metadata": {
    "collapsed": false
   },
   "outputs": [
    {
     "name": "stdout",
     "output_type": "stream",
     "text": [
      "6\n",
      "\\item $\\displaystyle \\left\\{\\left(0, 1\\right), \\left(1, 0\\right), \\left(0, 0\\right)\\right\\} $\n",
      "\\item $\\displaystyle \\left\\{\\left(0, 1\\right), \\left(0, 0\\right), \\left(1, 1\\right)\\right\\} $\n",
      "\\item $\\displaystyle \\left\\{\\left(1, 0\\right), \\left(0, 0\\right), \\left(1, 1\\right)\\right\\} $\n",
      "\\item $\\displaystyle \\left\\{\\left(0, 1\\right), \\left(1, 0\\right), \\left(1, 1\\right)\\right\\} $\n",
      "\\item $\\displaystyle \\left\\{\\left(0, 1\\right), \\left(2, 0\\right), \\left(0, 0\\right)\\right\\} $\n",
      "\\item $\\displaystyle \\left\\{\\left(2, 0\\right), \\left(1, 0\\right), \\left(0, 0\\right)\\right\\} $\n",
      "\\item $\\displaystyle \\left\\{\\left(0, 1\\right), \\left(2, 0\\right), \\left(1, 0\\right)\\right\\} $\n",
      "\\item $\\displaystyle \\left\\{\\left(2, 0\\right), \\left(0, 0\\right), \\left(1, 1\\right)\\right\\} $\n",
      "\\item $\\displaystyle \\left\\{\\left(0, 1\\right), \\left(2, 0\\right), \\left(1, 1\\right)\\right\\} $\n",
      "\\item $\\displaystyle \\left\\{\\left(2, 0\\right), \\left(1, 0\\right), \\left(1, 1\\right)\\right\\} $\n",
      "\\item $\\displaystyle \\left\\{\\left(0, 1\\right), \\left(0, 0\\right), \\left(2, 1\\right)\\right\\} $\n",
      "\\item $\\displaystyle \\left\\{\\left(1, 0\\right), \\left(0, 0\\right), \\left(2, 1\\right)\\right\\} $\n",
      "\\item $\\displaystyle \\left\\{\\left(0, 1\\right), \\left(1, 0\\right), \\left(2, 1\\right)\\right\\} $\n",
      "\\item $\\displaystyle \\left\\{\\left(0, 0\\right), \\left(1, 1\\right), \\left(2, 1\\right)\\right\\} $\n",
      "\\item $\\displaystyle \\left\\{\\left(0, 1\\right), \\left(1, 1\\right), \\left(2, 1\\right)\\right\\} $\n",
      "\\item $\\displaystyle \\left\\{\\left(1, 0\\right), \\left(1, 1\\right), \\left(2, 1\\right)\\right\\} $\n",
      "\\item $\\displaystyle \\left\\{\\left(2, 0\\right), \\left(0, 0\\right), \\left(2, 1\\right)\\right\\} $\n",
      "\\item $\\displaystyle \\left\\{\\left(0, 1\\right), \\left(2, 0\\right), \\left(2, 1\\right)\\right\\} $\n",
      "\\item $\\displaystyle \\left\\{\\left(2, 0\\right), \\left(1, 0\\right), \\left(2, 1\\right)\\right\\} $\n",
      "\\item $\\displaystyle \\left\\{\\left(2, 0\\right), \\left(1, 1\\right), \\left(2, 1\\right)\\right\\} $\n",
      "20\n"
     ]
    }
   ],
   "source": [
    "A=range(3); B=range(2)\n",
    "Rels = RelGen(A, B)\n",
    "print max(len(rel) for rel in Rels)\n",
    "k=0\n",
    "for rel in Rels:\n",
    "    if len(rel)==3:\n",
    "        k+=1\n",
    "        print \"\\item $\\displaystyle\"+latex(toSet(rel))+\"$\"\n",
    "print k"
   ]
  },
  {
   "cell_type": "code",
   "execution_count": null,
   "metadata": {
    "collapsed": true
   },
   "outputs": [],
   "source": []
  }
 ],
 "metadata": {
  "kernelspec": {
   "display_name": "SageMath 7.5.1",
   "language": "",
   "name": "sagemath"
  },
  "language_info": {
   "codemirror_mode": {
    "name": "ipython",
    "version": 2
   },
   "file_extension": ".py",
   "mimetype": "text/x-python",
   "name": "python",
   "nbconvert_exporter": "python",
   "pygments_lexer": "ipython2",
   "version": "2.7.13"
  }
 },
 "nbformat": 4,
 "nbformat_minor": 0
}
