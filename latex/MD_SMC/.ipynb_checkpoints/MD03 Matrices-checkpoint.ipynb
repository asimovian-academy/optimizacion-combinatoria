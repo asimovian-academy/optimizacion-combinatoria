{
 "cells": [
  {
   "cell_type": "code",
   "execution_count": 9,
   "metadata": {
    "collapsed": false
   },
   "outputs": [
    {
     "data": {
      "text/html": [
       "<html><script type=\"math/tex; mode=display\">\\newcommand{\\Bold}[1]{\\mathbf{#1}}\\verb|A=| \\left(\\begin{array}{rr}\n",
       "1 & 0 \\\\\n",
       "1 & 1\n",
       "\\end{array}\\right)</script></html>"
      ],
      "text/plain": [
       "'A=' [1 0]\n",
       "[1 1]"
      ]
     },
     "metadata": {},
     "output_type": "display_data"
    },
    {
     "data": {
      "text/html": [
       "<html><script type=\"math/tex; mode=display\">\\newcommand{\\Bold}[1]{\\mathbf{#1}}\\verb|B=| \\left(\\begin{array}{rrr}\n",
       "1 & 1 & 1 \\\\\n",
       "1 & 0 & 0\n",
       "\\end{array}\\right)</script></html>"
      ],
      "text/plain": [
       "'B=' [1 1 1]\n",
       "[1 0 0]"
      ]
     },
     "metadata": {},
     "output_type": "display_data"
    },
    {
     "data": {
      "text/html": [
       "<html><script type=\"math/tex; mode=display\">\\newcommand{\\Bold}[1]{\\mathbf{#1}}\\verb|AB=| \\left(\\begin{array}{rrr}\n",
       "1 & 1 & 1 \\\\\n",
       "2 & 1 & 1\n",
       "\\end{array}\\right)</script></html>"
      ],
      "text/plain": [
       "'AB=' [1 1 1]\n",
       "[2 1 1]"
      ]
     },
     "metadata": {},
     "output_type": "display_data"
    }
   ],
   "source": [
    "#1.1\n",
    "A=[[1,0],[1,1]]; A=Matrix(A); show(\"A=\",A)\n",
    "B=[[1,1,1],[1,0,0]]; B=Matrix(B); show(\"B=\",B)\n",
    "show(\"AB=\",A*B)\n",
    "#show(\"BA=\",B*A)"
   ]
  },
  {
   "cell_type": "code",
   "execution_count": 14,
   "metadata": {
    "collapsed": false
   },
   "outputs": [
    {
     "data": {
      "text/html": [
       "<html><script type=\"math/tex; mode=display\">\\newcommand{\\Bold}[1]{\\mathbf{#1}}\\verb|A=| \\left(\\begin{array}{rrr}\n",
       "0 & 0 & 0 \\\\\n",
       "0 & 0 & 1\n",
       "\\end{array}\\right)</script></html>"
      ],
      "text/plain": [
       "'A=' [0 0 0]\n",
       "[0 0 1]"
      ]
     },
     "metadata": {},
     "output_type": "display_data"
    },
    {
     "data": {
      "text/html": [
       "<html><script type=\"math/tex; mode=display\">\\newcommand{\\Bold}[1]{\\mathbf{#1}}\\verb|B=| \\left(\\begin{array}{rrr}\n",
       "1 & 1 & 1 \\\\\n",
       "1 & 0 & 1 \\\\\n",
       "0 & 1 & 1\n",
       "\\end{array}\\right)</script></html>"
      ],
      "text/plain": [
       "'B=' [1 1 1]\n",
       "[1 0 1]\n",
       "[0 1 1]"
      ]
     },
     "metadata": {},
     "output_type": "display_data"
    },
    {
     "data": {
      "text/html": [
       "<html><script type=\"math/tex; mode=display\">\\newcommand{\\Bold}[1]{\\mathbf{#1}}\\verb|AB=| \\left(\\begin{array}{rrr}\n",
       "0 & 0 & 0 \\\\\n",
       "0 & 1 & 1\n",
       "\\end{array}\\right)</script></html>"
      ],
      "text/plain": [
       "'AB=' [0 0 0]\n",
       "[0 1 1]"
      ]
     },
     "metadata": {},
     "output_type": "display_data"
    }
   ],
   "source": [
    "#1.2\n",
    "A=[[0,0,0],[0,0,1]]; A=Matrix(A); show(\"A=\",A)\n",
    "B=[[1,1,1],[1,0,1],[0,1,1]]; B=Matrix(B); show(\"B=\",B)\n",
    "show(\"AB=\",A*B)\n",
    "#show(\"BA=\",B*A)"
   ]
  },
  {
   "cell_type": "code",
   "execution_count": 15,
   "metadata": {
    "collapsed": false
   },
   "outputs": [
    {
     "data": {
      "text/html": [
       "<html><script type=\"math/tex; mode=display\">\\newcommand{\\Bold}[1]{\\mathbf{#1}}\\verb|A=| \\left(\\begin{array}{rr}\n",
       "1 & 1 \\\\\n",
       "0 & 1 \\\\\n",
       "0 & 0\n",
       "\\end{array}\\right)</script></html>"
      ],
      "text/plain": [
       "'A=' [1 1]\n",
       "[0 1]\n",
       "[0 0]"
      ]
     },
     "metadata": {},
     "output_type": "display_data"
    },
    {
     "data": {
      "text/html": [
       "<html><script type=\"math/tex; mode=display\">\\newcommand{\\Bold}[1]{\\mathbf{#1}}\\verb|B=| \\left(\\begin{array}{r}\n",
       "0 \\\\\n",
       "1\n",
       "\\end{array}\\right)</script></html>"
      ],
      "text/plain": [
       "'B=' [0]\n",
       "[1]"
      ]
     },
     "metadata": {},
     "output_type": "display_data"
    },
    {
     "data": {
      "text/html": [
       "<html><script type=\"math/tex; mode=display\">\\newcommand{\\Bold}[1]{\\mathbf{#1}}\\verb|AB=| \\left(\\begin{array}{r}\n",
       "1 \\\\\n",
       "1 \\\\\n",
       "0\n",
       "\\end{array}\\right)</script></html>"
      ],
      "text/plain": [
       "'AB=' [1]\n",
       "[1]\n",
       "[0]"
      ]
     },
     "metadata": {},
     "output_type": "display_data"
    }
   ],
   "source": [
    "#1.3\n",
    "A=[[1,1],[0,1],[0,0]]; A=Matrix(A); show(\"A=\",A)\n",
    "B=[[0],[1]]; B=Matrix(B); show(\"B=\",B)\n",
    "show(\"AB=\",A*B)\n",
    "#show(\"BA=\",B*A)"
   ]
  },
  {
   "cell_type": "code",
   "execution_count": 17,
   "metadata": {
    "collapsed": false
   },
   "outputs": [
    {
     "data": {
      "text/html": [
       "<html><script type=\"math/tex; mode=display\">\\newcommand{\\Bold}[1]{\\mathbf{#1}}\\verb|A=| \\left(\\begin{array}{rrr}\n",
       "1 & 0 & 1\n",
       "\\end{array}\\right)</script></html>"
      ],
      "text/plain": [
       "'A=' [1 0 1]"
      ]
     },
     "metadata": {},
     "output_type": "display_data"
    },
    {
     "data": {
      "text/html": [
       "<html><script type=\"math/tex; mode=display\">\\newcommand{\\Bold}[1]{\\mathbf{#1}}\\verb|B=| \\left(\\begin{array}{r}\n",
       "0 \\\\\n",
       "0 \\\\\n",
       "0\n",
       "\\end{array}\\right)</script></html>"
      ],
      "text/plain": [
       "'B=' [0]\n",
       "[0]\n",
       "[0]"
      ]
     },
     "metadata": {},
     "output_type": "display_data"
    },
    {
     "data": {
      "text/html": [
       "<html><script type=\"math/tex; mode=display\">\\newcommand{\\Bold}[1]{\\mathbf{#1}}\\verb|AB=| \\left(\\begin{array}{r}\n",
       "0\n",
       "\\end{array}\\right)</script></html>"
      ],
      "text/plain": [
       "'AB=' [0]"
      ]
     },
     "metadata": {},
     "output_type": "display_data"
    },
    {
     "data": {
      "text/html": [
       "<html><script type=\"math/tex; mode=display\">\\newcommand{\\Bold}[1]{\\mathbf{#1}}\\verb|BA=| \\left(\\begin{array}{rrr}\n",
       "0 & 0 & 0 \\\\\n",
       "0 & 0 & 0 \\\\\n",
       "0 & 0 & 0\n",
       "\\end{array}\\right)</script></html>"
      ],
      "text/plain": [
       "'BA=' [0 0 0]\n",
       "[0 0 0]\n",
       "[0 0 0]"
      ]
     },
     "metadata": {},
     "output_type": "display_data"
    }
   ],
   "source": [
    "#1.4\n",
    "A=[[1,0,1]]; A=Matrix(A); show(\"A=\",A)\n",
    "B=[[0],[0],[0]]; B=Matrix(B); show(\"B=\",B)\n",
    "show(\"AB=\",A*B)\n",
    "show(\"BA=\",B*A)"
   ]
  },
  {
   "cell_type": "code",
   "execution_count": 18,
   "metadata": {
    "collapsed": false
   },
   "outputs": [
    {
     "data": {
      "text/html": [
       "<html><script type=\"math/tex; mode=display\">\\newcommand{\\Bold}[1]{\\mathbf{#1}}\\verb|A=| \\left(\\begin{array}{rrr}\n",
       "1 & 1 & 0\n",
       "\\end{array}\\right)</script></html>"
      ],
      "text/plain": [
       "'A=' [1 1 0]"
      ]
     },
     "metadata": {},
     "output_type": "display_data"
    },
    {
     "data": {
      "text/html": [
       "<html><script type=\"math/tex; mode=display\">\\newcommand{\\Bold}[1]{\\mathbf{#1}}\\verb|B=| \\left(\\begin{array}{r}\n",
       "0 \\\\\n",
       "0 \\\\\n",
       "0\n",
       "\\end{array}\\right)</script></html>"
      ],
      "text/plain": [
       "'B=' [0]\n",
       "[0]\n",
       "[0]"
      ]
     },
     "metadata": {},
     "output_type": "display_data"
    },
    {
     "data": {
      "text/html": [
       "<html><script type=\"math/tex; mode=display\">\\newcommand{\\Bold}[1]{\\mathbf{#1}}\\verb|AB=| \\left(\\begin{array}{r}\n",
       "0\n",
       "\\end{array}\\right)</script></html>"
      ],
      "text/plain": [
       "'AB=' [0]"
      ]
     },
     "metadata": {},
     "output_type": "display_data"
    },
    {
     "data": {
      "text/html": [
       "<html><script type=\"math/tex; mode=display\">\\newcommand{\\Bold}[1]{\\mathbf{#1}}\\verb|BA=| \\left(\\begin{array}{rrr}\n",
       "0 & 0 & 0 \\\\\n",
       "0 & 0 & 0 \\\\\n",
       "0 & 0 & 0\n",
       "\\end{array}\\right)</script></html>"
      ],
      "text/plain": [
       "'BA=' [0 0 0]\n",
       "[0 0 0]\n",
       "[0 0 0]"
      ]
     },
     "metadata": {},
     "output_type": "display_data"
    }
   ],
   "source": [
    "#1.5\n",
    "A=[[1,1,0]]; A=Matrix(A); show(\"A=\",A)\n",
    "B=[[0],[0],[0]]; B=Matrix(B); show(\"B=\",B)\n",
    "show(\"AB=\",A*B)\n",
    "show(\"BA=\",B*A)"
   ]
  },
  {
   "cell_type": "code",
   "execution_count": 20,
   "metadata": {
    "collapsed": false
   },
   "outputs": [
    {
     "data": {
      "text/html": [
       "<html><script type=\"math/tex; mode=display\">\\newcommand{\\Bold}[1]{\\mathbf{#1}}\\verb|A=| \\left(\\begin{array}{rr}\n",
       "0 & 1 \\\\\n",
       "0 & 1\n",
       "\\end{array}\\right)</script></html>"
      ],
      "text/plain": [
       "'A=' [0 1]\n",
       "[0 1]"
      ]
     },
     "metadata": {},
     "output_type": "display_data"
    },
    {
     "data": {
      "text/html": [
       "<html><script type=\"math/tex; mode=display\">\\newcommand{\\Bold}[1]{\\mathbf{#1}}\\verb|B=| \\left(\\begin{array}{rrr}\n",
       "1 & 1 & 1 \\\\\n",
       "1 & 1 & 0\n",
       "\\end{array}\\right)</script></html>"
      ],
      "text/plain": [
       "'B=' [1 1 1]\n",
       "[1 1 0]"
      ]
     },
     "metadata": {},
     "output_type": "display_data"
    },
    {
     "data": {
      "text/html": [
       "<html><script type=\"math/tex; mode=display\">\\newcommand{\\Bold}[1]{\\mathbf{#1}}\\verb|AB=| \\left(\\begin{array}{rrr}\n",
       "1 & 1 & 0 \\\\\n",
       "1 & 1 & 0\n",
       "\\end{array}\\right)</script></html>"
      ],
      "text/plain": [
       "'AB=' [1 1 0]\n",
       "[1 1 0]"
      ]
     },
     "metadata": {},
     "output_type": "display_data"
    }
   ],
   "source": [
    "#1.6\n",
    "A=[[0,1],[0,1]]; A=Matrix(A); show(\"A=\",A)\n",
    "B=[[1,1,1],[1,1,0]]; B=Matrix(B); show(\"B=\",B)\n",
    "show(\"AB=\",A*B)\n",
    "#show(\"BA=\",B*A)"
   ]
  },
  {
   "cell_type": "code",
   "execution_count": 22,
   "metadata": {
    "collapsed": false
   },
   "outputs": [
    {
     "data": {
      "text/html": [
       "<html><script type=\"math/tex; mode=display\">\\newcommand{\\Bold}[1]{\\mathbf{#1}}\\verb|A=| \\left(\\begin{array}{r}\n",
       "5 \\\\\n",
       "7 \\\\\n",
       "0\n",
       "\\end{array}\\right)</script></html>"
      ],
      "text/plain": [
       "'A=' [5]\n",
       "[7]\n",
       "[0]"
      ]
     },
     "metadata": {},
     "output_type": "display_data"
    },
    {
     "data": {
      "text/html": [
       "<html><script type=\"math/tex; mode=display\">\\newcommand{\\Bold}[1]{\\mathbf{#1}}\\verb|B=| \\left(\\begin{array}{r}\n",
       "-4\n",
       "\\end{array}\\right)</script></html>"
      ],
      "text/plain": [
       "'B=' [-4]"
      ]
     },
     "metadata": {},
     "output_type": "display_data"
    },
    {
     "data": {
      "text/html": [
       "<html><script type=\"math/tex; mode=display\">\\newcommand{\\Bold}[1]{\\mathbf{#1}}\\verb|AB=| \\left(\\begin{array}{r}\n",
       "-20 \\\\\n",
       "-28 \\\\\n",
       "0\n",
       "\\end{array}\\right)</script></html>"
      ],
      "text/plain": [
       "'AB=' [-20]\n",
       "[-28]\n",
       "[  0]"
      ]
     },
     "metadata": {},
     "output_type": "display_data"
    }
   ],
   "source": [
    "#2.1\n",
    "A=[[5],[7],[0]]; A=Matrix(A); show(\"A=\",A)\n",
    "B=[[-4]]; B=Matrix(B); show(\"B=\",B)\n",
    "show(\"AB=\",A*B)\n",
    "#show(\"BA=\",B*A)"
   ]
  },
  {
   "cell_type": "code",
   "execution_count": 3,
   "metadata": {
    "collapsed": false
   },
   "outputs": [
    {
     "data": {
      "text/html": [
       "<html><script type=\"math/tex; mode=display\">\\newcommand{\\Bold}[1]{\\mathbf{#1}}\\verb|A=| \\left(\\begin{array}{rrr}\n",
       "2 & 7 & 2 \\\\\n",
       "8 & -6 & 6\n",
       "\\end{array}\\right)</script></html>"
      ],
      "text/plain": [
       "'A=' [ 2  7  2]\n",
       "[ 8 -6  6]"
      ]
     },
     "metadata": {},
     "output_type": "display_data"
    },
    {
     "data": {
      "text/html": [
       "<html><script type=\"math/tex; mode=display\">\\newcommand{\\Bold}[1]{\\mathbf{#1}}\\verb|B=| \\left(\\begin{array}{rr}\n",
       "6 & 6 \\\\\n",
       "-2 & -3 \\\\\n",
       "-6 & 8\n",
       "\\end{array}\\right)</script></html>"
      ],
      "text/plain": [
       "'B=' [ 6  6]\n",
       "[-2 -3]\n",
       "[-6  8]"
      ]
     },
     "metadata": {},
     "output_type": "display_data"
    },
    {
     "data": {
      "text/html": [
       "<html><script type=\"math/tex; mode=display\">\\newcommand{\\Bold}[1]{\\mathbf{#1}}\\verb|AB=| \\left(\\begin{array}{rr}\n",
       "-14 & 7 \\\\\n",
       "24 & 114\n",
       "\\end{array}\\right)</script></html>"
      ],
      "text/plain": [
       "'AB=' [-14   7]\n",
       "[ 24 114]"
      ]
     },
     "metadata": {},
     "output_type": "display_data"
    },
    {
     "data": {
      "text/html": [
       "<html><script type=\"math/tex; mode=display\">\\newcommand{\\Bold}[1]{\\mathbf{#1}}\\verb|BA=| \\left(\\begin{array}{rrr}\n",
       "60 & 6 & 48 \\\\\n",
       "-28 & 4 & -22 \\\\\n",
       "52 & -90 & 36\n",
       "\\end{array}\\right)</script></html>"
      ],
      "text/plain": [
       "'BA=' [ 60   6  48]\n",
       "[-28   4 -22]\n",
       "[ 52 -90  36]"
      ]
     },
     "metadata": {},
     "output_type": "display_data"
    }
   ],
   "source": [
    "#2.2\n",
    "A=[[2,7,2],[8,-6,6]]; A=Matrix(A); show(\"A=\",A)\n",
    "B=[[6,6],[-2,-3],[-6,8]]; B=Matrix(B); show(\"B=\",B)\n",
    "show(\"AB=\",A*B)\n",
    "show(\"BA=\",B*A)"
   ]
  },
  {
   "cell_type": "code",
   "execution_count": 2,
   "metadata": {
    "collapsed": false
   },
   "outputs": [
    {
     "data": {
      "text/html": [
       "<html><script type=\"math/tex; mode=display\">\\newcommand{\\Bold}[1]{\\mathbf{#1}}\\verb|A=| \\left(\\begin{array}{rr}\n",
       "-4 & -6 \\\\\n",
       "0 & 6\n",
       "\\end{array}\\right)</script></html>"
      ],
      "text/plain": [
       "'A=' [-4 -6]\n",
       "[ 0  6]"
      ]
     },
     "metadata": {},
     "output_type": "display_data"
    },
    {
     "data": {
      "text/html": [
       "<html><script type=\"math/tex; mode=display\">\\newcommand{\\Bold}[1]{\\mathbf{#1}}\\verb|B=| \\left(\\begin{array}{r}\n",
       "-2 \\\\\n",
       "-2\n",
       "\\end{array}\\right)</script></html>"
      ],
      "text/plain": [
       "'B=' [-2]\n",
       "[-2]"
      ]
     },
     "metadata": {},
     "output_type": "display_data"
    },
    {
     "data": {
      "text/html": [
       "<html><script type=\"math/tex; mode=display\">\\newcommand{\\Bold}[1]{\\mathbf{#1}}\\verb|AB=| \\left(\\begin{array}{r}\n",
       "20 \\\\\n",
       "-12\n",
       "\\end{array}\\right)</script></html>"
      ],
      "text/plain": [
       "'AB=' [ 20]\n",
       "[-12]"
      ]
     },
     "metadata": {},
     "output_type": "display_data"
    }
   ],
   "source": [
    "#2.3\n",
    "A=[[-4,-6],[0,6]]; A=Matrix(A); show(\"A=\",A)\n",
    "B=[[-2],[-2]]; B=Matrix(B); show(\"B=\",B)\n",
    "show(\"AB=\",A*B)\n",
    "#show(\"BA=\",B*A)"
   ]
  },
  {
   "cell_type": "code",
   "execution_count": 26,
   "metadata": {
    "collapsed": true
   },
   "outputs": [
    {
     "data": {
      "text/html": [
       "<html><script type=\"math/tex; mode=display\">\\newcommand{\\Bold}[1]{\\mathbf{#1}}\\verb|A=| \\left(\\begin{array}{r}\n",
       "7 \\\\\n",
       "6\n",
       "\\end{array}\\right)</script></html>"
      ],
      "text/plain": [
       "'A=' [7]\n",
       "[6]"
      ]
     },
     "metadata": {},
     "output_type": "display_data"
    },
    {
     "data": {
      "text/html": [
       "<html><script type=\"math/tex; mode=display\">\\newcommand{\\Bold}[1]{\\mathbf{#1}}\\verb|B=| \\left(\\begin{array}{rr}\n",
       "-9 & 8\n",
       "\\end{array}\\right)</script></html>"
      ],
      "text/plain": [
       "'B=' [-9  8]"
      ]
     },
     "metadata": {},
     "output_type": "display_data"
    },
    {
     "data": {
      "text/html": [
       "<html><script type=\"math/tex; mode=display\">\\newcommand{\\Bold}[1]{\\mathbf{#1}}\\verb|AB=| \\left(\\begin{array}{rr}\n",
       "-63 & 56 \\\\\n",
       "-54 & 48\n",
       "\\end{array}\\right)</script></html>"
      ],
      "text/plain": [
       "'AB=' [-63  56]\n",
       "[-54  48]"
      ]
     },
     "metadata": {},
     "output_type": "display_data"
    },
    {
     "data": {
      "text/html": [
       "<html><script type=\"math/tex; mode=display\">\\newcommand{\\Bold}[1]{\\mathbf{#1}}\\verb|BA=| \\left(\\begin{array}{r}\n",
       "-15\n",
       "\\end{array}\\right)</script></html>"
      ],
      "text/plain": [
       "'BA=' [-15]"
      ]
     },
     "metadata": {},
     "output_type": "display_data"
    }
   ],
   "source": [
    "#2.4\n",
    "A=[[7],[6]]; A=Matrix(A); show(\"A=\",A)\n",
    "B=[[-9,8]]; B=Matrix(B); show(\"B=\",B)\n",
    "show(\"AB=\",A*B)\n",
    "show(\"BA=\",B*A)"
   ]
  },
  {
   "cell_type": "code",
   "execution_count": 28,
   "metadata": {
    "collapsed": false
   },
   "outputs": [
    {
     "data": {
      "text/html": [
       "<html><script type=\"math/tex; mode=display\">\\newcommand{\\Bold}[1]{\\mathbf{#1}}\\verb|A=| \\left(\\begin{array}{r}\n",
       "-2 \\\\\n",
       "-4\n",
       "\\end{array}\\right)</script></html>"
      ],
      "text/plain": [
       "'A=' [-2]\n",
       "[-4]"
      ]
     },
     "metadata": {},
     "output_type": "display_data"
    },
    {
     "data": {
      "text/html": [
       "<html><script type=\"math/tex; mode=display\">\\newcommand{\\Bold}[1]{\\mathbf{#1}}\\verb|B=| \\left(\\begin{array}{r}\n",
       "-8\n",
       "\\end{array}\\right)</script></html>"
      ],
      "text/plain": [
       "'B=' [-8]"
      ]
     },
     "metadata": {},
     "output_type": "display_data"
    },
    {
     "data": {
      "text/html": [
       "<html><script type=\"math/tex; mode=display\">\\newcommand{\\Bold}[1]{\\mathbf{#1}}\\verb|AB=| \\left(\\begin{array}{r}\n",
       "16 \\\\\n",
       "32\n",
       "\\end{array}\\right)</script></html>"
      ],
      "text/plain": [
       "'AB=' [16]\n",
       "[32]"
      ]
     },
     "metadata": {},
     "output_type": "display_data"
    }
   ],
   "source": [
    "#2.5\n",
    "A=[[-2],[-4]]; A=Matrix(A); show(\"A=\",A)\n",
    "B=[[-8]]; B=Matrix(B); show(\"B=\",B)\n",
    "show(\"AB=\",A*B)\n",
    "#show(\"BA=\",B*A)"
   ]
  },
  {
   "cell_type": "code",
   "execution_count": 30,
   "metadata": {
    "collapsed": false
   },
   "outputs": [
    {
     "data": {
      "text/html": [
       "<html><script type=\"math/tex; mode=display\">\\newcommand{\\Bold}[1]{\\mathbf{#1}}\\verb|A=| \\left(\\begin{array}{rrr}\n",
       "-5 & -8 & -1\n",
       "\\end{array}\\right)</script></html>"
      ],
      "text/plain": [
       "'A=' [-5 -8 -1]"
      ]
     },
     "metadata": {},
     "output_type": "display_data"
    },
    {
     "data": {
      "text/html": [
       "<html><script type=\"math/tex; mode=display\">\\newcommand{\\Bold}[1]{\\mathbf{#1}}\\verb|B=| \\left(\\begin{array}{rr}\n",
       "8 & -1 \\\\\n",
       "5 & 4 \\\\\n",
       "4 & -3\n",
       "\\end{array}\\right)</script></html>"
      ],
      "text/plain": [
       "'B=' [ 8 -1]\n",
       "[ 5  4]\n",
       "[ 4 -3]"
      ]
     },
     "metadata": {},
     "output_type": "display_data"
    },
    {
     "data": {
      "text/html": [
       "<html><script type=\"math/tex; mode=display\">\\newcommand{\\Bold}[1]{\\mathbf{#1}}\\verb|AB=| \\left(\\begin{array}{rr}\n",
       "-84 & -24\n",
       "\\end{array}\\right)</script></html>"
      ],
      "text/plain": [
       "'AB=' [-84 -24]"
      ]
     },
     "metadata": {},
     "output_type": "display_data"
    }
   ],
   "source": [
    "#2.6\n",
    "A=[[-5,-8,-1]]; A=Matrix(A); show(\"A=\",A)\n",
    "B=[[8,-1],[5,4],[4,-3]]; B=Matrix(B); show(\"B=\",B)\n",
    "show(\"AB=\",A*B)\n",
    "#show(\"BA=\",B*A)"
   ]
  },
  {
   "cell_type": "code",
   "execution_count": null,
   "metadata": {
    "collapsed": true
   },
   "outputs": [],
   "source": []
  }
 ],
 "metadata": {
  "kernelspec": {
   "display_name": "SageMath 7.5.1",
   "language": "",
   "name": "sagemath"
  },
  "language_info": {
   "codemirror_mode": {
    "name": "ipython",
    "version": 2
   },
   "file_extension": ".py",
   "mimetype": "text/x-python",
   "name": "python",
   "nbconvert_exporter": "python",
   "pygments_lexer": "ipython2",
   "version": "2.7.13"
  }
 },
 "nbformat": 4,
 "nbformat_minor": 0
}
