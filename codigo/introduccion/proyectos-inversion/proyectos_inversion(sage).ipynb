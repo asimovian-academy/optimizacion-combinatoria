{
 "cells": [
  {
   "cell_type": "markdown",
   "metadata": {
    "slideshow": {
     "slide_type": "slide"
    }
   },
   "source": [
    "## Problema de proyectos de inversión\n",
    "\n",
    "Imaginemos que ocupamos el puesto de coordinador de proyectos dentro de una empresa. El gerente\n",
    "general de dicha empresa ha destinado 100,000 pesos para invertir en los proyectos que generen beneficios\n",
    "económicos a esta. Existen tres proyectos en los que se puede invertir. ¿En cuál(es) proyecto(s)\n",
    "debería invertir la empresa para obtener los máximos beneficios económicos?\n",
    "\n",
    "Se tiene la siguiente información sobre los proyectos:\n",
    "\n",
    "|Nombre|Costo de Inversión|Benefició económico|\n",
    "|:----:|:----------------:|:------------------|\n",
    "|Proyecto A| \\$50,000 | \\$80,000 |\n",
    "|Proyecto B| \\$70,000 | \\$90,000 |\n",
    "|Proyecto C| \\$25,000 | \\$30,000 |"
   ]
  },
  {
   "cell_type": "code",
   "execution_count": 1,
   "metadata": {
    "slideshow": {
     "slide_type": "slide"
    }
   },
   "outputs": [
    {
     "name": "stdout",
     "output_type": "stream",
     "text": [
      "Maximization:\n",
      "  \n",
      "\n",
      "Constraints:\n",
      "Variables:\n"
     ]
    }
   ],
   "source": [
    "program = MixedIntegerLinearProgram()\n",
    "inversion = program.new_variable(binary=True)\n",
    "program.show()"
   ]
  },
  {
   "cell_type": "code",
   "execution_count": 2,
   "metadata": {
    "slideshow": {
     "slide_type": "slide"
    }
   },
   "outputs": [],
   "source": [
    "cost = {'A':50_000, 'B':70_000, 'C':25_000}\n",
    "utility = {'A': 80_000, 'B':90_000, 'C':30_000}"
   ]
  },
  {
   "cell_type": "code",
   "execution_count": 3,
   "metadata": {
    "slideshow": {
     "slide_type": "slide"
    }
   },
   "outputs": [
    {
     "name": "stdout",
     "output_type": "stream",
     "text": [
      "Maximization:\n",
      "  \n",
      "\n",
      "Constraints:\n",
      "  50000.0 x_0 + 70000.0 x_1 + 25000.0 x_2 <= 100000.0\n",
      "Variables:\n",
      "  x_0 is a boolean variable (min=0.0, max=1.0)\n",
      "  x_1 is a boolean variable (min=0.0, max=1.0)\n",
      "  x_2 is a boolean variable (min=0.0, max=1.0)\n"
     ]
    }
   ],
   "source": [
    "program.add_constraint(cost['A']*inversion['A']+cost['B']*inversion['B']+cost['C']*inversion['C'] <= 100_000)\n",
    "program.show()"
   ]
  },
  {
   "cell_type": "code",
   "execution_count": 4,
   "metadata": {
    "slideshow": {
     "slide_type": "slide"
    }
   },
   "outputs": [
    {
     "name": "stdout",
     "output_type": "stream",
     "text": [
      "Maximization:\n",
      "  80000.0 x_0 + 90000.0 x_1 + 30000.0 x_2 \n",
      "\n",
      "Constraints:\n",
      "  50000.0 x_0 + 70000.0 x_1 + 25000.0 x_2 <= 100000.0\n",
      "Variables:\n",
      "  x_0 is a boolean variable (min=0.0, max=1.0)\n",
      "  x_1 is a boolean variable (min=0.0, max=1.0)\n",
      "  x_2 is a boolean variable (min=0.0, max=1.0)\n"
     ]
    }
   ],
   "source": [
    "program.set_objective(utility['A']*inversion['A']+utility['B']*inversion['B']+utility['C']*inversion['C'] )\n",
    "program.show()"
   ]
  },
  {
   "cell_type": "code",
   "execution_count": 5,
   "metadata": {
    "slideshow": {
     "slide_type": "slide"
    }
   },
   "outputs": [
    {
     "data": {
      "text/plain": [
       "120000.0"
      ]
     },
     "execution_count": 5,
     "metadata": {},
     "output_type": "execute_result"
    }
   ],
   "source": [
    "program.solve()"
   ]
  },
  {
   "cell_type": "code",
   "execution_count": 6,
   "metadata": {
    "slideshow": {
     "slide_type": "slide"
    }
   },
   "outputs": [
    {
     "data": {
      "text/plain": [
       "{'A': 0.0, 'B': 1.0, 'C': 1.0}"
      ]
     },
     "execution_count": 6,
     "metadata": {},
     "output_type": "execute_result"
    }
   ],
   "source": [
    "program.get_values(inversion)"
   ]
  }
 ],
 "metadata": {
  "celltoolbar": "Slideshow",
  "kernelspec": {
   "display_name": "SageMath 9.2",
   "language": "sage",
   "name": "sagemath"
  },
  "language_info": {
   "codemirror_mode": {
    "name": "ipython",
    "version": 3
   },
   "file_extension": ".py",
   "mimetype": "text/x-python",
   "name": "python",
   "nbconvert_exporter": "python",
   "pygments_lexer": "ipython3",
   "version": "3.7.7"
  }
 },
 "nbformat": 4,
 "nbformat_minor": 2
}
