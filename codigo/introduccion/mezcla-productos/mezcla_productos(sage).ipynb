{
 "cells": [
  {
   "cell_type": "markdown",
   "metadata": {
    "slideshow": {
     "slide_type": "slide"
    }
   },
   "source": [
    "## Problemas de mezcla de productos\n",
    "\n",
    "Una compañía fabrica tres productos: crema corporal, crema facial y crema para bebés. Los tres productos\n",
    "comparten ingredientes en su elaboración: mezcla base, aceite de almendras, vitamina E y manteca\n",
    "de karité. En la siguiente tabla se presenta información acerca de los porcentajes de composición de cada\n",
    "uno de los tres productos:\n",
    "\n",
    "| . | Mezcla base | Aceite de Almendras | Vitamina E | Manteca de karité |\n",
    "|---|-------------|---------------------|------------|-------------------|\n",
    "|Crema Corporal| 90% | 4% | 1% | 5% |\n",
    "|Crema facial  | 85% | 8% | 2.5% | 4.5% |\n",
    "|Crema para bebé | 80% | 10% | - | 10% |"
   ]
  },
  {
   "cell_type": "markdown",
   "metadata": {
    "slideshow": {
     "slide_type": "slide"
    }
   },
   "source": [
    "Cada día, la compañía cuenta con 500 litros de la mezcla base, 50 litros de aceite de almendras, 5 litros\n",
    "de vitamina E y 30 litros de manteca de karité. Adicionalmente, se tiene la siguiente información sobre\n",
    "costos y precios de venta."
   ]
  },
  {
   "cell_type": "markdown",
   "metadata": {
    "slideshow": {
     "slide_type": "slide"
    }
   },
   "source": [
    "| Ingrediente | Costo por litro |\n",
    "|-------------|-----------------|\n",
    "|Mezcla base  | \\$20 |\n",
    "|Aceite de almedras | \\$500 |\n",
    "|Vitamina E | \\$1500 |\n",
    "|Manteca de karité | \\$200 |"
   ]
  },
  {
   "cell_type": "markdown",
   "metadata": {
    "slideshow": {
     "slide_type": "slide"
    }
   },
   "source": [
    "| Producto | Precio de venta (\\$/L) |\n",
    "|----------|------------------------|\n",
    "|Crema corporal | \\$80 |\n",
    "|Crema facial | \\$120 |\n",
    "|Crema para bebé | \\$100 |"
   ]
  },
  {
   "cell_type": "markdown",
   "metadata": {
    "slideshow": {
     "slide_type": "slide"
    }
   },
   "source": [
    "La demanda diaria de la crema corporal es de 200 litros; de la crema facial, 150 litros; y de la crema para\n",
    "bebé, de 250 litros. Por políticas de la empresa, se deben fabricar al menos 50 litros de crema facial.\n",
    "¿Cuánto de cada producto deberá producir la compañía para maximizar su utilidad?"
   ]
  },
  {
   "cell_type": "code",
   "execution_count": 1,
   "metadata": {
    "slideshow": {
     "slide_type": "slide"
    }
   },
   "outputs": [
    {
     "name": "stdout",
     "output_type": "stream",
     "text": [
      "Maximization:\n",
      "  \n",
      "\n",
      "Constraints:\n",
      "Variables:\n"
     ]
    }
   ],
   "source": [
    "\"\"\"\n",
    "Índice: producto\n",
    "0: crema corporal\n",
    "1: crema facial\n",
    "2: crema para bebé\n",
    "\"\"\"\n",
    "\n",
    "programa = MixedIntegerLinearProgram()\n",
    "x = programa.new_variable() # cantidades en litros\n",
    "programa.show()"
   ]
  },
  {
   "cell_type": "code",
   "execution_count": 2,
   "metadata": {
    "scrolled": true,
    "slideshow": {
     "slide_type": "slide"
    }
   },
   "outputs": [
    {
     "data": {
      "text/html": [
       "<html><script type=\"math/tex; mode=display\">\\newcommand{\\Bold}[1]{\\mathbf{#1}}\\left(\\begin{array}{rrrr}\n",
       "0.900000000000000 & 0.0400000000000000 & 0.0100000000000000 & 0.0500000000000000 \\\\\n",
       "0.850000000000000 & 0.0800000000000000 & 0.0250000000000000 & 0.0450000000000000 \\\\\n",
       "0.800000000000000 & 0.100000000000000 & 0.000000000000000 & 0.100000000000000\n",
       "\\end{array}\\right)</script></html>"
      ],
      "text/latex": [
       "\\begin{math}\n",
       "\\newcommand{\\Bold}[1]{\\mathbf{#1}}\\left(\\begin{array}{rrrr}\n",
       "0.900000000000000 & 0.0400000000000000 & 0.0100000000000000 & 0.0500000000000000 \\\\\n",
       "0.850000000000000 & 0.0800000000000000 & 0.0250000000000000 & 0.0450000000000000 \\\\\n",
       "0.800000000000000 & 0.100000000000000 & 0.000000000000000 & 0.100000000000000\n",
       "\\end{array}\\right)\n",
       "\\end{math}"
      ],
      "text/plain": [
       "[ 0.900000000000000 0.0400000000000000 0.0100000000000000 0.0500000000000000]\n",
       "[ 0.850000000000000 0.0800000000000000 0.0250000000000000 0.0450000000000000]\n",
       "[ 0.800000000000000  0.100000000000000  0.000000000000000  0.100000000000000]"
      ]
     },
     "metadata": {},
     "output_type": "display_data"
    }
   ],
   "source": [
    "\"\"\"\n",
    "Beneficio = Ingreso - Costo\n",
    "\n",
    "T: insumos -> productos\n",
    "\"\"\"\n",
    "T  = matrix([\n",
    "    [0.90, 0.04, 0.01, 0.05],\n",
    "    [0.85, 0.08, 0.025, 0.045],\n",
    "    [0.80, 0.10, 0.00, 0.10]\n",
    "])\n",
    "show(T)"
   ]
  },
  {
   "cell_type": "code",
   "execution_count": 3,
   "metadata": {
    "slideshow": {
     "slide_type": "slide"
    }
   },
   "outputs": [
    {
     "data": {
      "text/html": [
       "<html><script type=\"math/tex; mode=display\">\\newcommand{\\Bold}[1]{\\mathbf{#1}}\\left(\\begin{array}{r}\n",
       "20 \\\\\n",
       "500 \\\\\n",
       "1500 \\\\\n",
       "200\n",
       "\\end{array}\\right)</script></html>"
      ],
      "text/latex": [
       "\\begin{math}\n",
       "\\newcommand{\\Bold}[1]{\\mathbf{#1}}\\left(\\begin{array}{r}\n",
       "20 \\\\\n",
       "500 \\\\\n",
       "1500 \\\\\n",
       "200\n",
       "\\end{array}\\right)\n",
       "\\end{math}"
      ],
      "text/plain": [
       "[  20]\n",
       "[ 500]\n",
       "[1500]\n",
       "[ 200]"
      ]
     },
     "metadata": {},
     "output_type": "display_data"
    }
   ],
   "source": [
    "\"\"\"\n",
    "Cm: costo marginal por litro\n",
    "\"\"\"\n",
    "Cm = matrix([\n",
    "    20, 500, 1500, 200\n",
    "]).transpose()\n",
    "show(Cm)"
   ]
  },
  {
   "cell_type": "code",
   "execution_count": 4,
   "metadata": {
    "slideshow": {
     "slide_type": "slide"
    }
   },
   "outputs": [
    {
     "data": {
      "text/html": [
       "<html><script type=\"math/tex; mode=display\">\\newcommand{\\Bold}[1]{\\mathbf{#1}}\\left(\\begin{array}{r}\n",
       "63.0000000000000 \\\\\n",
       "103.500000000000 \\\\\n",
       "86.0000000000000\n",
       "\\end{array}\\right)</script></html>"
      ],
      "text/latex": [
       "\\begin{math}\n",
       "\\newcommand{\\Bold}[1]{\\mathbf{#1}}\\left(\\begin{array}{r}\n",
       "63.0000000000000 \\\\\n",
       "103.500000000000 \\\\\n",
       "86.0000000000000\n",
       "\\end{array}\\right)\n",
       "\\end{math}"
      ],
      "text/plain": [
       "[63.0000000000000]\n",
       "[103.500000000000]\n",
       "[86.0000000000000]"
      ]
     },
     "metadata": {},
     "output_type": "display_data"
    }
   ],
   "source": [
    "\"\"\"\n",
    "costo productos = T(costo ingredientes)\n",
    "\"\"\"\n",
    "C = T*Cm\n",
    "show(C)"
   ]
  },
  {
   "cell_type": "code",
   "execution_count": 5,
   "metadata": {
    "slideshow": {
     "slide_type": "slide"
    }
   },
   "outputs": [
    {
     "data": {
      "text/html": [
       "<html><script type=\"math/tex; mode=display\">\\newcommand{\\Bold}[1]{\\mathbf{#1}}\\left(\\begin{array}{r}\n",
       "80 \\\\\n",
       "120 \\\\\n",
       "100\n",
       "\\end{array}\\right)</script></html>"
      ],
      "text/latex": [
       "\\begin{math}\n",
       "\\newcommand{\\Bold}[1]{\\mathbf{#1}}\\left(\\begin{array}{r}\n",
       "80 \\\\\n",
       "120 \\\\\n",
       "100\n",
       "\\end{array}\\right)\n",
       "\\end{math}"
      ],
      "text/plain": [
       "[ 80]\n",
       "[120]\n",
       "[100]"
      ]
     },
     "metadata": {},
     "output_type": "display_data"
    }
   ],
   "source": [
    "\"\"\"\n",
    "I : ingresos\n",
    "\"\"\"\n",
    "I = matrix([\n",
    "    80, 120, 100\n",
    "]).transpose()\n",
    "show(I)"
   ]
  },
  {
   "cell_type": "code",
   "execution_count": 6,
   "metadata": {
    "slideshow": {
     "slide_type": "slide"
    }
   },
   "outputs": [
    {
     "data": {
      "text/html": [
       "<html><script type=\"math/tex; mode=display\">\\newcommand{\\Bold}[1]{\\mathbf{#1}}\\left[17.0000000000000, 16.5000000000000, 14.0000000000000\\right]</script></html>"
      ],
      "text/latex": [
       "\\begin{math}\n",
       "\\newcommand{\\Bold}[1]{\\mathbf{#1}}\\left[17.0000000000000, 16.5000000000000, 14.0000000000000\\right]\n",
       "\\end{math}"
      ],
      "text/plain": [
       "[17.0000000000000, 16.5000000000000, 14.0000000000000]"
      ]
     },
     "metadata": {},
     "output_type": "display_data"
    }
   ],
   "source": [
    "\"\"\"\n",
    "R: Ingresos\n",
    "\"\"\"\n",
    "R = (I-C).list()\n",
    "show(R)"
   ]
  },
  {
   "cell_type": "raw",
   "metadata": {
    "slideshow": {
     "slide_type": "slide"
    }
   },
   "source": [
    "programa.set_objective(\n",
    "    R[0]*x[0]+R[1]*x[1]+R[2]*x[2]\n",
    ")\n",
    "programa.show()"
   ]
  },
  {
   "cell_type": "code",
   "execution_count": 7,
   "metadata": {
    "slideshow": {
     "slide_type": "slide"
    }
   },
   "outputs": [
    {
     "name": "stdout",
     "output_type": "stream",
     "text": [
      "Maximization:\n",
      "  17.0 x_0 + 16.5 x_1 + 14.0 x_2 \n",
      "\n",
      "Constraints:\n",
      "Variables:\n",
      "  x_0 is a continuous variable (min=-oo, max=+oo)\n",
      "  x_1 is a continuous variable (min=-oo, max=+oo)\n",
      "  x_2 is a continuous variable (min=-oo, max=+oo)\n"
     ]
    }
   ],
   "source": [
    "Rx = 0\n",
    "for i in [0,1,2]:\n",
    "    Rx = Rx+R[i]*x[i]\n",
    "\n",
    "programa.set_objective(Rx)\n",
    "programa.show()"
   ]
  },
  {
   "cell_type": "code",
   "execution_count": 8,
   "metadata": {
    "slideshow": {
     "slide_type": "slide"
    }
   },
   "outputs": [],
   "source": [
    "\"\"\"\n",
    "Restricciones para insumos\n",
    "° Restricción para la mezcla base: 0.9x0 + 0.85x1 + 0.8x2 ≤ 500.\n",
    "° Restricción para el aceite de almendras: 0.04x0 + 0.08x1 + 0.1x2 ≤ 50.\n",
    "° Restricción para la vitamina E: 0.01x0 + 0.025x1 ≤ 5.\n",
    "° Restricción para la manteca de karité: 0.05x0 + 0.045x1 + 0.1x2 ≤ 30.\n",
    "\"\"\"\n",
    "r_insumos = [500, 50, 5, 30]"
   ]
  },
  {
   "cell_type": "code",
   "execution_count": 9,
   "metadata": {
    "slideshow": {
     "slide_type": "slide"
    }
   },
   "outputs": [
    {
     "name": "stdout",
     "output_type": "stream",
     "text": [
      "Maximization:\n",
      "  17.0 x_0 + 16.5 x_1 + 14.0 x_2 \n",
      "\n",
      "Constraints:\n",
      "  0.9 x_0 + 0.85 x_1 + 0.8 x_2 <= 500.0\n",
      "  0.04 x_0 + 0.08 x_1 + 0.1 x_2 <= 50.0\n",
      "  0.01 x_0 + 0.025 x_1 <= 5.0\n",
      "  0.05 x_0 + 0.045 x_1 + 0.1 x_2 <= 30.0\n",
      "Variables:\n",
      "  x_0 is a continuous variable (min=-oo, max=+oo)\n",
      "  x_1 is a continuous variable (min=-oo, max=+oo)\n",
      "  x_2 is a continuous variable (min=-oo, max=+oo)\n"
     ]
    }
   ],
   "source": [
    "for col in [0,1,2,3]:\n",
    "    insumo = 0\n",
    "    for row in [0,1,2]:\n",
    "        insumo = insumo + T[row, col]*x[row]\n",
    "    restriccion = insumo <=r_insumos[col]\n",
    "    programa.add_constraint(restriccion)\n",
    "    \n",
    "programa.show()"
   ]
  },
  {
   "cell_type": "code",
   "execution_count": 10,
   "metadata": {
    "slideshow": {
     "slide_type": "slide"
    }
   },
   "outputs": [
    {
     "name": "stdout",
     "output_type": "stream",
     "text": [
      "Maximization:\n",
      "  17.0 x_0 + 16.5 x_1 + 14.0 x_2 \n",
      "\n",
      "Constraints:\n",
      "  0.9 x_0 + 0.85 x_1 + 0.8 x_2 <= 500.0\n",
      "  0.04 x_0 + 0.08 x_1 + 0.1 x_2 <= 50.0\n",
      "  0.01 x_0 + 0.025 x_1 <= 5.0\n",
      "  0.05 x_0 + 0.045 x_1 + 0.1 x_2 <= 30.0\n",
      "  - x_0 <= 0.0\n",
      "  x_0 <= 200.0\n",
      "  - x_1 <= -50.0\n",
      "  x_1 <= 150.0\n",
      "  - x_2 <= 0.0\n",
      "  x_2 <= 250.0\n",
      "Variables:\n",
      "  x_0 is a continuous variable (min=-oo, max=+oo)\n",
      "  x_1 is a continuous variable (min=-oo, max=+oo)\n",
      "  x_2 is a continuous variable (min=-oo, max=+oo)\n"
     ]
    }
   ],
   "source": [
    "\"\"\"\n",
    "Restricciones para productos\n",
    "° Restricción para la demanda de crema corporal: 0<= x0 ≤ 200.\n",
    "° Restricción para la demanda de crema facial: 50<= x1 ≤ 150.\n",
    "° Restricción para la demanda de crema para bebé: 0 <= x2 ≤ 250.\n",
    "\"\"\"\n",
    "\n",
    "r_productos = [[0,200], [50,150], [0,250]]\n",
    "\n",
    "for i in [0,1,2]:\n",
    "    oferta = r_productos[i][0] <= x[i] <= r_productos[i][1]\n",
    "    programa.add_constraint(oferta)\n",
    "    \n",
    "programa.show()"
   ]
  },
  {
   "cell_type": "code",
   "execution_count": 11,
   "metadata": {
    "slideshow": {
     "slide_type": "slide"
    }
   },
   "outputs": [
    {
     "data": {
      "text/plain": [
       "7424.0"
      ]
     },
     "execution_count": 11,
     "metadata": {},
     "output_type": "execute_result"
    }
   ],
   "source": [
    "programa.solve()"
   ]
  },
  {
   "cell_type": "code",
   "execution_count": 12,
   "metadata": {
    "slideshow": {
     "slide_type": "slide"
    }
   },
   "outputs": [
    {
     "data": {
      "text/plain": [
       "{0: 200.0, 1: 120.0, 2: 146.0}"
      ]
     },
     "execution_count": 12,
     "metadata": {},
     "output_type": "execute_result"
    }
   ],
   "source": [
    "programa.get_values(x)"
   ]
  }
 ],
 "metadata": {
  "celltoolbar": "Slideshow",
  "kernelspec": {
   "display_name": "SageMath 9.2",
   "language": "sage",
   "name": "sagemath"
  },
  "language_info": {
   "codemirror_mode": {
    "name": "ipython",
    "version": 3
   },
   "file_extension": ".py",
   "mimetype": "text/x-python",
   "name": "python",
   "nbconvert_exporter": "python",
   "pygments_lexer": "ipython3",
   "version": "3.7.7"
  }
 },
 "nbformat": 4,
 "nbformat_minor": 2
}
