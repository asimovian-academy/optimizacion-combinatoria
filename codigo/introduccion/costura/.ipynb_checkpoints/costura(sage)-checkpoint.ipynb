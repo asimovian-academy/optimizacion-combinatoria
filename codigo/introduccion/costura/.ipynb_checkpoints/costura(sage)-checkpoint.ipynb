{
 "cells": [
  {
   "cell_type": "markdown",
   "metadata": {},
   "source": [
    "## Fabricación de ropa\n",
    "\n",
    "Una costurera fabrica y vende faldas y pantalones de mezclilla, para lo cual cada semana compra un\n",
    "rollo de 50 metros de mezclilla. Para hacer un pantalón requiere 2 metros de tela, mientras que para\n",
    "una falda, 1.5 metros.\n",
    "\n",
    "Por lo general, ella trabaja ocho horas diarias, de lunes a viernes. Para hacer un pantalón requiere\n",
    "tres horas, mientras que hacer una falda le toma una. Un pantalón le genera 80 pesos de ganancia,\n",
    "mientras que al vender una falda gana 50 pesos.\n",
    "\n",
    "Construir un modelo matemático que permita maximizar la ganancia semanal de la costurera, considerando\n",
    "que todo producto que fabrique puede venderlo."
   ]
  },
  {
   "cell_type": "code",
   "execution_count": 1,
   "metadata": {},
   "outputs": [
    {
     "name": "stdout",
     "output_type": "stream",
     "text": [
      "Maximization:\n",
      "  \n",
      "\n",
      "Constraints:\n",
      "Variables:\n"
     ]
    }
   ],
   "source": [
    "programa = MixedIntegerLinearProgram()\n",
    "n = programa.new_variable(nonnegative=True)\n",
    "programa.show()"
   ]
  },
  {
   "cell_type": "code",
   "execution_count": 2,
   "metadata": {},
   "outputs": [],
   "source": [
    "material = {'pantalon': 2, 'falda': 1.5}\n",
    "tiempo = {'pantalon': 3, 'falda': 1}\n",
    "ganancia = {'pantalon': 80, 'falda': 50}"
   ]
  },
  {
   "cell_type": "code",
   "execution_count": 3,
   "metadata": {},
   "outputs": [
    {
     "name": "stdout",
     "output_type": "stream",
     "text": [
      "Maximization:\n",
      "  \n",
      "\n",
      "Constraints:\n",
      "  2.0 x_0 + 1.5 x_1 <= 50.0\n",
      "Variables:\n",
      "  x_0 is a continuous variable (min=0.0, max=+oo)\n",
      "  x_1 is a continuous variable (min=0.0, max=+oo)\n"
     ]
    }
   ],
   "source": [
    "programa.add_constraint(\n",
    "    material['pantalon']*n['pantalon']+ material['falda']*n['falda']<=50\n",
    ")\n",
    "programa.show()"
   ]
  },
  {
   "cell_type": "code",
   "execution_count": 4,
   "metadata": {},
   "outputs": [
    {
     "name": "stdout",
     "output_type": "stream",
     "text": [
      "Maximization:\n",
      "  \n",
      "\n",
      "Constraints:\n",
      "  2.0 x_0 + 1.5 x_1 <= 50.0\n",
      "  3.0 x_0 + x_1 <= 40.0\n",
      "Variables:\n",
      "  x_0 is a continuous variable (min=0.0, max=+oo)\n",
      "  x_1 is a continuous variable (min=0.0, max=+oo)\n"
     ]
    }
   ],
   "source": [
    "programa.add_constraint(\n",
    "    tiempo['pantalon']*n['pantalon']+tiempo['falda']*n['falda']<=40\n",
    ")\n",
    "programa.show()"
   ]
  },
  {
   "cell_type": "code",
   "execution_count": 5,
   "metadata": {},
   "outputs": [
    {
     "name": "stdout",
     "output_type": "stream",
     "text": [
      "Maximization:\n",
      "  80.0 x_0 + 50.0 x_1 \n",
      "\n",
      "Constraints:\n",
      "  2.0 x_0 + 1.5 x_1 <= 50.0\n",
      "  3.0 x_0 + x_1 <= 40.0\n",
      "Variables:\n",
      "  x_0 is a continuous variable (min=0.0, max=+oo)\n",
      "  x_1 is a continuous variable (min=0.0, max=+oo)\n"
     ]
    }
   ],
   "source": [
    "programa.set_objective(\n",
    "    ganancia['pantalon']*n['pantalon']+ganancia['falda']*n['falda']\n",
    ")\n",
    "programa.show()"
   ]
  },
  {
   "cell_type": "code",
   "execution_count": 6,
   "metadata": {},
   "outputs": [
    {
     "data": {
      "text/plain": [
       "1720.0"
      ]
     },
     "execution_count": 6,
     "metadata": {},
     "output_type": "execute_result"
    }
   ],
   "source": [
    "programa.solve()"
   ]
  },
  {
   "cell_type": "code",
   "execution_count": 7,
   "metadata": {},
   "outputs": [
    {
     "data": {
      "text/plain": [
       "{'pantalon': 4.0, 'falda': 28.0}"
      ]
     },
     "execution_count": 7,
     "metadata": {},
     "output_type": "execute_result"
    }
   ],
   "source": [
    "programa.get_values(n)"
   ]
  },
  {
   "cell_type": "code",
   "execution_count": null,
   "metadata": {},
   "outputs": [],
   "source": []
  }
 ],
 "metadata": {
  "kernelspec": {
   "display_name": "SageMath 9.2",
   "language": "sage",
   "name": "sagemath"
  },
  "language_info": {
   "codemirror_mode": {
    "name": "ipython",
    "version": 3
   },
   "file_extension": ".py",
   "mimetype": "text/x-python",
   "name": "python",
   "nbconvert_exporter": "python",
   "pygments_lexer": "ipython3",
   "version": "3.7.7"
  }
 },
 "nbformat": 4,
 "nbformat_minor": 2
}
