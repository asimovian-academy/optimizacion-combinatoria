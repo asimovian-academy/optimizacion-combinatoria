{
 "cells": [
  {
   "cell_type": "code",
   "execution_count": 32,
   "metadata": {
    "collapsed": false
   },
   "outputs": [
    {
     "name": "stdout",
     "output_type": "stream",
     "text": [
      "[[0, 0], [0, 1], [1, 0], [1, 1]]\n"
     ]
    }
   ],
   "source": [
    "B = [0,1]\n",
    "def urel(B):\n",
    "    B = FiniteEnumeratedSet(B)\n",
    "    U = []\n",
    "    for x in B:\n",
    "        for y in B:\n",
    "            U.append([x,y])\n",
    "    return U\n",
    "print urel(B)"
   ]
  },
  {
   "cell_type": "code",
   "execution_count": 33,
   "metadata": {
    "collapsed": false
   },
   "outputs": [],
   "source": [
    "def diag(B):\n",
    "    B=FiniteEnumeratedSet(B)\n",
    "    D=[]\n",
    "    for x in B:\n",
    "        D.append([x,x])\n",
    "    return D"
   ]
  },
  {
   "cell_type": "code",
   "execution_count": 34,
   "metadata": {
    "collapsed": false
   },
   "outputs": [
    {
     "name": "stdout",
     "output_type": "stream",
     "text": [
      "[[0, 0], [1, 1]]\n"
     ]
    }
   ],
   "source": [
    "print diag(B)"
   ]
  },
  {
   "cell_type": "code",
   "execution_count": 35,
   "metadata": {
    "collapsed": true
   },
   "outputs": [],
   "source": [
    "def reflexive(R,B):\n",
    "    D = diag(B)\n",
    "    for x in D:\n",
    "        if not(x in R):\n",
    "            return False\n",
    "    return True"
   ]
  },
  {
   "cell_type": "code",
   "execution_count": 36,
   "metadata": {
    "collapsed": false
   },
   "outputs": [
    {
     "data": {
      "text/plain": [
       "True"
      ]
     },
     "execution_count": 36,
     "metadata": {},
     "output_type": "execute_result"
    }
   ],
   "source": [
    "reflexive(diag(B),B)"
   ]
  },
  {
   "cell_type": "code",
   "execution_count": 37,
   "metadata": {
    "collapsed": false
   },
   "outputs": [
    {
     "data": {
      "text/plain": [
       "False"
      ]
     },
     "execution_count": 37,
     "metadata": {},
     "output_type": "execute_result"
    }
   ],
   "source": [
    "reflexive([[0,0]], B)"
   ]
  },
  {
   "cell_type": "code",
   "execution_count": 38,
   "metadata": {
    "collapsed": true
   },
   "outputs": [],
   "source": [
    "def symmetric(R):\n",
    "    for par in R:\n",
    "        x=par[0]; y=par[1]\n",
    "        if not([y,x] in R):\n",
    "            return False\n",
    "    return True"
   ]
  },
  {
   "cell_type": "code",
   "execution_count": 39,
   "metadata": {
    "collapsed": false
   },
   "outputs": [
    {
     "name": "stdout",
     "output_type": "stream",
     "text": [
      "True\n",
      "False\n"
     ]
    }
   ],
   "source": [
    "R=[[1,0],[0,1]]; print symmetric(R)\n",
    "S=[[1,2],[2,3],[2,2],[1,3]]; print symmetric(S)"
   ]
  },
  {
   "cell_type": "code",
   "execution_count": 40,
   "metadata": {
    "collapsed": true
   },
   "outputs": [],
   "source": [
    "def antisymmetric(R):\n",
    "    for par in R:\n",
    "        x=par[0]; y=par[1]\n",
    "        if not(x==y) and ([y,x] in R):\n",
    "            return False\n",
    "    return True"
   ]
  },
  {
   "cell_type": "code",
   "execution_count": 41,
   "metadata": {
    "collapsed": false
   },
   "outputs": [
    {
     "name": "stdout",
     "output_type": "stream",
     "text": [
      "False\n",
      "True\n"
     ]
    }
   ],
   "source": [
    "print antisymmetric(R)\n",
    "print antisymmetric(S)"
   ]
  },
  {
   "cell_type": "code",
   "execution_count": 42,
   "metadata": {
    "collapsed": true
   },
   "outputs": [],
   "source": [
    "def transitive(R):\n",
    "    for par in R:\n",
    "        for otro in R:\n",
    "            if par[1]==otro[0]:\n",
    "                if not([par[0], otro[1]] in R):\n",
    "                    return False\n",
    "    return True"
   ]
  },
  {
   "cell_type": "code",
   "execution_count": 43,
   "metadata": {
    "collapsed": false
   },
   "outputs": [
    {
     "name": "stdout",
     "output_type": "stream",
     "text": [
      "False\n",
      "True\n"
     ]
    }
   ],
   "source": [
    "print transitive(R)\n",
    "print transitive(S)"
   ]
  },
  {
   "cell_type": "code",
   "execution_count": 44,
   "metadata": {
    "collapsed": false
   },
   "outputs": [
    {
     "name": "stdout",
     "output_type": "stream",
     "text": [
      "\\item $\\displaystyle R_{0}= \\left[\\right] $\n",
      "\\item $\\displaystyle R_{1}= \\left[\\left(0, 0\\right)\\right] $\n",
      "\\item $\\displaystyle R_{2}= \\left[\\left(0, 1\\right)\\right] $\n",
      "\\item $\\displaystyle R_{3}= \\left[\\left(0, 0\\right), \\left(0, 1\\right)\\right] $\n",
      "\\item $\\displaystyle R_{4}= \\left[\\left(1, 0\\right)\\right] $\n",
      "\\item $\\displaystyle R_{5}= \\left[\\left(0, 0\\right), \\left(1, 0\\right)\\right] $\n",
      "\\item $\\displaystyle R_{6}= \\left[\\left(0, 1\\right), \\left(1, 0\\right)\\right] $\n",
      "\\item $\\displaystyle R_{7}= \\left[\\left(0, 0\\right), \\left(0, 1\\right), \\left(1, 0\\right)\\right] $\n",
      "\\item $\\displaystyle R_{8}= \\left[\\left(1, 1\\right)\\right] $\n",
      "\\item $\\displaystyle R_{9}= \\left[\\left(0, 0\\right), \\left(1, 1\\right)\\right] $\n",
      "\\item $\\displaystyle R_{10}= \\left[\\left(0, 1\\right), \\left(1, 1\\right)\\right] $\n",
      "\\item $\\displaystyle R_{11}= \\left[\\left(0, 0\\right), \\left(0, 1\\right), \\left(1, 1\\right)\\right] $\n",
      "\\item $\\displaystyle R_{12}= \\left[\\left(1, 0\\right), \\left(1, 1\\right)\\right] $\n",
      "\\item $\\displaystyle R_{13}= \\left[\\left(0, 0\\right), \\left(1, 0\\right), \\left(1, 1\\right)\\right] $\n",
      "\\item $\\displaystyle R_{14}= \\left[\\left(0, 1\\right), \\left(1, 0\\right), \\left(1, 1\\right)\\right] $\n",
      "\\item $\\displaystyle R_{15}= \\left[\\left(0, 0\\right), \\left(0, 1\\right), \\left(1, 0\\right), \\left(1, 1\\right)\\right] $\n"
     ]
    }
   ],
   "source": [
    "A = range(2)\n",
    "A = FiniteEnumeratedSet(A)#; print A\n",
    "A2 = cartesian_product([A,A])#; print A2.list()\n",
    "Rels = list(powerset(A2))#; print len(Rels)\n",
    "for k,rel in enumerate(Rels):\n",
    "    print \"\\item $\\displaystyle R_{\"+str(k)+\"}=\"+latex(rel)+\"$\""
   ]
  },
  {
   "cell_type": "code",
   "execution_count": 63,
   "metadata": {
    "collapsed": false
   },
   "outputs": [
    {
     "name": "stdout",
     "output_type": "stream",
     "text": [
      "\\item $\\displaystyle R_{1}= \\left[\\left[0, 0\\right], \\left[1, 1\\right], \\left[2, 2\\right], \\left[3, 3\\right]\\right] $\n",
      "\\item $\\displaystyle R_{2}= \\left[\\left[0, 0\\right], \\left[0, 1\\right], \\left[1, 1\\right], \\left[2, 2\\right], \\left[3, 3\\right]\\right] $\n",
      "\\item $\\displaystyle R_{3}= \\left[\\left[0, 0\\right], \\left[0, 2\\right], \\left[1, 1\\right], \\left[2, 2\\right], \\left[3, 3\\right]\\right] $\n",
      "\\item $\\displaystyle R_{4}= \\left[\\left[0, 0\\right], \\left[0, 1\\right], \\left[0, 2\\right], \\left[1, 1\\right], \\left[2, 2\\right], \\left[3, 3\\right]\\right] $\n",
      "\\item $\\displaystyle R_{5}= \\left[\\left[0, 0\\right], \\left[0, 3\\right], \\left[1, 1\\right], \\left[2, 2\\right], \\left[3, 3\\right]\\right] $\n",
      "\\item $\\displaystyle R_{6}= \\left[\\left[0, 0\\right], \\left[0, 1\\right], \\left[0, 3\\right], \\left[1, 1\\right], \\left[2, 2\\right], \\left[3, 3\\right]\\right] $\n",
      "\\item $\\displaystyle R_{7}= \\left[\\left[0, 0\\right], \\left[0, 2\\right], \\left[0, 3\\right], \\left[1, 1\\right], \\left[2, 2\\right], \\left[3, 3\\right]\\right] $\n",
      "\\item $\\displaystyle R_{8}= \\left[\\left[0, 0\\right], \\left[0, 1\\right], \\left[0, 2\\right], \\left[0, 3\\right], \\left[1, 1\\right], \\left[2, 2\\right], \\left[3, 3\\right]\\right] $\n",
      "\\item $\\displaystyle R_{9}= \\left[\\left[0, 0\\right], \\left[0, 1\\right], \\left[1, 0\\right], \\left[1, 1\\right], \\left[2, 2\\right], \\left[3, 3\\right]\\right] $\n",
      "\\item $\\displaystyle R_{10}= \\left[\\left[0, 0\\right], \\left[1, 1\\right], \\left[1, 2\\right], \\left[2, 2\\right], \\left[3, 3\\right]\\right] $\n",
      "\\item $\\displaystyle R_{11}= \\left[\\left[0, 0\\right], \\left[0, 2\\right], \\left[1, 1\\right], \\left[1, 2\\right], \\left[2, 2\\right], \\left[3, 3\\right]\\right] $\n",
      "\\item $\\displaystyle R_{12}= \\left[\\left[0, 0\\right], \\left[0, 1\\right], \\left[0, 2\\right], \\left[1, 1\\right], \\left[1, 2\\right], \\left[2, 2\\right], \\left[3, 3\\right]\\right] $\n",
      "\\item $\\displaystyle R_{13}= \\left[\\left[0, 0\\right], \\left[0, 3\\right], \\left[1, 1\\right], \\left[1, 2\\right], \\left[2, 2\\right], \\left[3, 3\\right]\\right] $\n",
      "\\item $\\displaystyle R_{14}= \\left[\\left[0, 0\\right], \\left[0, 2\\right], \\left[0, 3\\right], \\left[1, 1\\right], \\left[1, 2\\right], \\left[2, 2\\right], \\left[3, 3\\right]\\right] $\n",
      "\\item $\\displaystyle R_{15}= \\left[\\left[0, 0\\right], \\left[0, 1\\right], \\left[0, 2\\right], \\left[0, 3\\right], \\left[1, 1\\right], \\left[1, 2\\right], \\left[2, 2\\right], \\left[3, 3\\right]\\right] $\n",
      "\\item $\\displaystyle R_{16}= \\left[\\left[0, 0\\right], \\left[1, 1\\right], \\left[1, 3\\right], \\left[2, 2\\right], \\left[3, 3\\right]\\right] $\n",
      "\\item $\\displaystyle R_{17}= \\left[\\left[0, 0\\right], \\left[0, 2\\right], \\left[1, 1\\right], \\left[1, 3\\right], \\left[2, 2\\right], \\left[3, 3\\right]\\right] $\n",
      "\\item $\\displaystyle R_{18}= \\left[\\left[0, 0\\right], \\left[0, 3\\right], \\left[1, 1\\right], \\left[1, 3\\right], \\left[2, 2\\right], \\left[3, 3\\right]\\right] $\n",
      "\\item $\\displaystyle R_{19}= \\left[\\left[0, 0\\right], \\left[0, 1\\right], \\left[0, 3\\right], \\left[1, 1\\right], \\left[1, 3\\right], \\left[2, 2\\right], \\left[3, 3\\right]\\right] $\n",
      "\\item $\\displaystyle R_{20}= \\left[\\left[0, 0\\right], \\left[0, 2\\right], \\left[0, 3\\right], \\left[1, 1\\right], \\left[1, 3\\right], \\left[2, 2\\right], \\left[3, 3\\right]\\right] $\n",
      "\\item $\\displaystyle R_{21}= \\left[\\left[0, 0\\right], \\left[0, 1\\right], \\left[0, 2\\right], \\left[0, 3\\right], \\left[1, 1\\right], \\left[1, 3\\right], \\left[2, 2\\right], \\left[3, 3\\right]\\right] $\n",
      "\\item $\\displaystyle R_{22}= \\left[\\left[0, 0\\right], \\left[1, 1\\right], \\left[1, 2\\right], \\left[1, 3\\right], \\left[2, 2\\right], \\left[3, 3\\right]\\right] $\n",
      "\\item $\\displaystyle R_{23}= \\left[\\left[0, 0\\right], \\left[0, 2\\right], \\left[1, 1\\right], \\left[1, 2\\right], \\left[1, 3\\right], \\left[2, 2\\right], \\left[3, 3\\right]\\right] $\n",
      "\\item $\\displaystyle R_{24}= \\left[\\left[0, 0\\right], \\left[0, 3\\right], \\left[1, 1\\right], \\left[1, 2\\right], \\left[1, 3\\right], \\left[2, 2\\right], \\left[3, 3\\right]\\right] $\n",
      "\\item $\\displaystyle R_{25}= \\left[\\left[0, 0\\right], \\left[0, 2\\right], \\left[0, 3\\right], \\left[1, 1\\right], \\left[1, 2\\right], \\left[1, 3\\right], \\left[2, 2\\right], \\left[3, 3\\right]\\right] $\n",
      "\\item $\\displaystyle R_{26}= \\left[\\left[0, 0\\right], \\left[0, 1\\right], \\left[0, 2\\right], \\left[0, 3\\right], \\left[1, 1\\right], \\left[1, 2\\right], \\left[1, 3\\right], \\left[2, 2\\right], \\left[3, 3\\right]\\right] $\n",
      "\\item $\\displaystyle R_{27}= \\left[\\left[0, 0\\right], \\left[0, 2\\right], \\left[1, 1\\right], \\left[2, 0\\right], \\left[2, 2\\right], \\left[3, 3\\right]\\right] $\n",
      "\\item $\\displaystyle R_{28}= \\left[\\left[0, 0\\right], \\left[1, 1\\right], \\left[1, 2\\right], \\left[2, 1\\right], \\left[2, 2\\right], \\left[3, 3\\right]\\right] $\n",
      "\\item $\\displaystyle R_{29}= \\left[\\left[0, 0\\right], \\left[0, 1\\right], \\left[0, 2\\right], \\left[1, 0\\right], \\left[1, 1\\right], \\left[1, 2\\right], \\left[2, 0\\right], \\left[2, 1\\right], \\left[2, 2\\right], \\left[3, 3\\right]\\right] $\n",
      "\\item $\\displaystyle R_{30}= \\left[\\left[0, 0\\right], \\left[1, 1\\right], \\left[2, 2\\right], \\left[2, 3\\right], \\left[3, 3\\right]\\right] $\n",
      "\\item $\\displaystyle R_{31}= \\left[\\left[0, 0\\right], \\left[0, 1\\right], \\left[1, 1\\right], \\left[2, 2\\right], \\left[2, 3\\right], \\left[3, 3\\right]\\right] $\n",
      "\\item $\\displaystyle R_{32}= \\left[\\left[0, 0\\right], \\left[0, 3\\right], \\left[1, 1\\right], \\left[2, 2\\right], \\left[2, 3\\right], \\left[3, 3\\right]\\right] $\n",
      "\\item $\\displaystyle R_{33}= \\left[\\left[0, 0\\right], \\left[0, 1\\right], \\left[0, 3\\right], \\left[1, 1\\right], \\left[2, 2\\right], \\left[2, 3\\right], \\left[3, 3\\right]\\right] $\n",
      "\\item $\\displaystyle R_{34}= \\left[\\left[0, 0\\right], \\left[0, 2\\right], \\left[0, 3\\right], \\left[1, 1\\right], \\left[2, 2\\right], \\left[2, 3\\right], \\left[3, 3\\right]\\right] $\n",
      "\\item $\\displaystyle R_{35}= \\left[\\left[0, 0\\right], \\left[0, 1\\right], \\left[0, 2\\right], \\left[0, 3\\right], \\left[1, 1\\right], \\left[2, 2\\right], \\left[2, 3\\right], \\left[3, 3\\right]\\right] $\n",
      "\\item $\\displaystyle R_{36}= \\left[\\left[0, 0\\right], \\left[1, 1\\right], \\left[1, 3\\right], \\left[2, 2\\right], \\left[2, 3\\right], \\left[3, 3\\right]\\right] $\n",
      "\\item $\\displaystyle R_{37}= \\left[\\left[0, 0\\right], \\left[0, 3\\right], \\left[1, 1\\right], \\left[1, 3\\right], \\left[2, 2\\right], \\left[2, 3\\right], \\left[3, 3\\right]\\right] $\n",
      "\\item $\\displaystyle R_{38}= \\left[\\left[0, 0\\right], \\left[0, 1\\right], \\left[0, 3\\right], \\left[1, 1\\right], \\left[1, 3\\right], \\left[2, 2\\right], \\left[2, 3\\right], \\left[3, 3\\right]\\right] $\n",
      "\\item $\\displaystyle R_{39}= \\left[\\left[0, 0\\right], \\left[0, 2\\right], \\left[0, 3\\right], \\left[1, 1\\right], \\left[1, 3\\right], \\left[2, 2\\right], \\left[2, 3\\right], \\left[3, 3\\right]\\right] $\n",
      "\\item $\\displaystyle R_{40}= \\left[\\left[0, 0\\right], \\left[0, 1\\right], \\left[0, 2\\right], \\left[0, 3\\right], \\left[1, 1\\right], \\left[1, 3\\right], \\left[2, 2\\right], \\left[2, 3\\right], \\left[3, 3\\right]\\right] $\n",
      "\\item $\\displaystyle R_{41}= \\left[\\left[0, 0\\right], \\left[1, 1\\right], \\left[1, 2\\right], \\left[1, 3\\right], \\left[2, 2\\right], \\left[2, 3\\right], \\left[3, 3\\right]\\right] $\n",
      "\\item $\\displaystyle R_{42}= \\left[\\left[0, 0\\right], \\left[0, 3\\right], \\left[1, 1\\right], \\left[1, 2\\right], \\left[1, 3\\right], \\left[2, 2\\right], \\left[2, 3\\right], \\left[3, 3\\right]\\right] $\n",
      "\\item $\\displaystyle R_{43}= \\left[\\left[0, 0\\right], \\left[0, 2\\right], \\left[0, 3\\right], \\left[1, 1\\right], \\left[1, 2\\right], \\left[1, 3\\right], \\left[2, 2\\right], \\left[2, 3\\right], \\left[3, 3\\right]\\right] $\n",
      "\\item $\\displaystyle R_{44}= \\left[\\left[0, 0\\right], \\left[0, 1\\right], \\left[0, 2\\right], \\left[0, 3\\right], \\left[1, 1\\right], \\left[1, 2\\right], \\left[1, 3\\right], \\left[2, 2\\right], \\left[2, 3\\right], \\left[3, 3\\right]\\right] $\n",
      "\\item $\\displaystyle R_{45}= \\left[\\left[0, 0\\right], \\left[0, 3\\right], \\left[1, 1\\right], \\left[2, 2\\right], \\left[3, 0\\right], \\left[3, 3\\right]\\right] $\n",
      "\\item $\\displaystyle R_{46}= \\left[\\left[0, 0\\right], \\left[0, 3\\right], \\left[1, 1\\right], \\left[1, 2\\right], \\left[2, 1\\right], \\left[2, 2\\right], \\left[3, 0\\right], \\left[3, 3\\right]\\right] $\n",
      "\\item $\\displaystyle R_{47}= \\left[\\left[0, 0\\right], \\left[1, 1\\right], \\left[1, 3\\right], \\left[2, 2\\right], \\left[3, 1\\right], \\left[3, 3\\right]\\right] $\n",
      "\\item $\\displaystyle R_{48}= \\left[\\left[0, 0\\right], \\left[0, 2\\right], \\left[1, 1\\right], \\left[1, 3\\right], \\left[2, 0\\right], \\left[2, 2\\right], \\left[3, 1\\right], \\left[3, 3\\right]\\right] $\n",
      "\\item $\\displaystyle R_{49}= \\left[\\left[0, 0\\right], \\left[0, 1\\right], \\left[0, 3\\right], \\left[1, 0\\right], \\left[1, 1\\right], \\left[1, 3\\right], \\left[2, 2\\right], \\left[3, 0\\right], \\left[3, 1\\right], \\left[3, 3\\right]\\right] $\n",
      "\\item $\\displaystyle R_{50}= \\left[\\left[0, 0\\right], \\left[1, 1\\right], \\left[2, 2\\right], \\left[2, 3\\right], \\left[3, 2\\right], \\left[3, 3\\right]\\right] $\n",
      "\\item $\\displaystyle R_{51}= \\left[\\left[0, 0\\right], \\left[0, 1\\right], \\left[1, 0\\right], \\left[1, 1\\right], \\left[2, 2\\right], \\left[2, 3\\right], \\left[3, 2\\right], \\left[3, 3\\right]\\right] $\n",
      "\\item $\\displaystyle R_{52}= \\left[\\left[0, 0\\right], \\left[0, 2\\right], \\left[0, 3\\right], \\left[1, 1\\right], \\left[2, 0\\right], \\left[2, 2\\right], \\left[2, 3\\right], \\left[3, 0\\right], \\left[3, 2\\right], \\left[3, 3\\right]\\right] $\n",
      "\\item $\\displaystyle R_{53}= \\left[\\left[0, 0\\right], \\left[1, 1\\right], \\left[1, 2\\right], \\left[1, 3\\right], \\left[2, 1\\right], \\left[2, 2\\right], \\left[2, 3\\right], \\left[3, 1\\right], \\left[3, 2\\right], \\left[3, 3\\right]\\right] $\n",
      "\\item $\\displaystyle R_{54}= \\left[\\left[0, 0\\right], \\left[0, 1\\right], \\left[0, 2\\right], \\left[0, 3\\right], \\left[1, 0\\right], \\left[1, 1\\right], \\left[1, 2\\right], \\left[1, 3\\right], \\left[2, 0\\right], \\left[2, 1\\right], \\left[2, 2\\right], \\left[2, 3\\right], \\left[3, 0\\right], \\left[3, 1\\right], \\left[3, 2\\right], \\left[3, 3\\right]\\right] $\n"
     ]
    }
   ],
   "source": [
    "#A = [\"a\",\"b\",\"c\", \"d\"]\n",
    "A = range(4)\n",
    "A = FiniteEnumeratedSet(A)#; print A\n",
    "A = list(A)\n",
    "A2 = []\n",
    "for x in A:\n",
    "    for y in A:\n",
    "        A2.append([x,y])\n",
    "Rels = list(powerset(A2))#; print len(Rels)\n",
    "equiv=[]\n",
    "order=[]\n",
    "milista=[]\n",
    "for R in Rels:\n",
    "    #print R\n",
    "    if reflexive(R, A) and transitive(R):\n",
    "        if symmetric(R):\n",
    "            equiv.append(R)\n",
    "            milista.append(R)\n",
    "        if antisymmetric(R):\n",
    "            anexo = True\n",
    "            for par in R:\n",
    "                if par[0]>par[1]:\n",
    "                    anexo=False\n",
    "                    break\n",
    "            if anexo:\n",
    "                order.append(R)\n",
    "                if not(R in milista):\n",
    "                    milista.append(R)\n",
    "for k,rel in enumerate(milista):\n",
    "#for k,rel in enumerate(equiv):\n",
    "#for k,rel in enumerate(order):\n",
    "    print \"\\item $\\displaystyle R_{\"+str(k+1)+\"}=\"+latex(rel)+\"$\"\n",
    "    #print k, rel"
   ]
  },
  {
   "cell_type": "code",
   "execution_count": 56,
   "metadata": {
    "collapsed": false
   },
   "outputs": [
    {
     "name": "stdout",
     "output_type": "stream",
     "text": [
      "\\item $\\displaystyle R_{1}= \\left[\\left[\\text{\\texttt{a}}, \\text{\\texttt{a}}\\right], \\left[\\text{\\texttt{b}}, \\text{\\texttt{b}}\\right], \\left[\\text{\\texttt{c}}, \\text{\\texttt{c}}\\right]\\right] $\n",
      "\\item $\\displaystyle R_{2}= \\left[\\left[\\text{\\texttt{a}}, \\text{\\texttt{a}}\\right], \\left[\\text{\\texttt{a}}, \\text{\\texttt{b}}\\right], \\left[\\text{\\texttt{b}}, \\text{\\texttt{b}}\\right], \\left[\\text{\\texttt{c}}, \\text{\\texttt{c}}\\right]\\right] $\n",
      "\\item $\\displaystyle R_{3}= \\left[\\left[\\text{\\texttt{a}}, \\text{\\texttt{a}}\\right], \\left[\\text{\\texttt{a}}, \\text{\\texttt{c}}\\right], \\left[\\text{\\texttt{b}}, \\text{\\texttt{b}}\\right], \\left[\\text{\\texttt{c}}, \\text{\\texttt{c}}\\right]\\right] $\n",
      "\\item $\\displaystyle R_{4}= \\left[\\left[\\text{\\texttt{a}}, \\text{\\texttt{a}}\\right], \\left[\\text{\\texttt{a}}, \\text{\\texttt{b}}\\right], \\left[\\text{\\texttt{a}}, \\text{\\texttt{c}}\\right], \\left[\\text{\\texttt{b}}, \\text{\\texttt{b}}\\right], \\left[\\text{\\texttt{c}}, \\text{\\texttt{c}}\\right]\\right] $\n",
      "\\item $\\displaystyle R_{6}= \\left[\\left[\\text{\\texttt{a}}, \\text{\\texttt{a}}\\right], \\left[\\text{\\texttt{b}}, \\text{\\texttt{b}}\\right], \\left[\\text{\\texttt{b}}, \\text{\\texttt{c}}\\right], \\left[\\text{\\texttt{c}}, \\text{\\texttt{c}}\\right]\\right] $\n",
      "\\item $\\displaystyle R_{7}= \\left[\\left[\\text{\\texttt{a}}, \\text{\\texttt{a}}\\right], \\left[\\text{\\texttt{a}}, \\text{\\texttt{c}}\\right], \\left[\\text{\\texttt{b}}, \\text{\\texttt{b}}\\right], \\left[\\text{\\texttt{b}}, \\text{\\texttt{c}}\\right], \\left[\\text{\\texttt{c}}, \\text{\\texttt{c}}\\right]\\right] $\n",
      "\\item $\\displaystyle R_{8}= \\left[\\left[\\text{\\texttt{a}}, \\text{\\texttt{a}}\\right], \\left[\\text{\\texttt{a}}, \\text{\\texttt{b}}\\right], \\left[\\text{\\texttt{a}}, \\text{\\texttt{c}}\\right], \\left[\\text{\\texttt{b}}, \\text{\\texttt{b}}\\right], \\left[\\text{\\texttt{b}}, \\text{\\texttt{c}}\\right], \\left[\\text{\\texttt{c}}, \\text{\\texttt{c}}\\right]\\right] $\n"
     ]
    }
   ],
   "source": [
    "#A = range(4)\n",
    "A = [\"a\",\"b\",\"c\"]\n",
    "A = FiniteEnumeratedSet(A)#; print A\n",
    "A = list(A)\n",
    "A2 = []\n",
    "for x in A:\n",
    "    for y in A:\n",
    "        A2.append([x,y])\n",
    "Rels = list(powerset(A2))#; print len(Rels)\n",
    "equiv=[]\n",
    "order=[]\n",
    "milista=[]\n",
    "for R in Rels:\n",
    "    #print R\n",
    "    if reflexive(R, A) and transitive(R):\n",
    "        if symmetric(R):\n",
    "            equiv.append(R)\n",
    "            milista.append(R)\n",
    "        if antisymmetric(R):\n",
    "            order.append(R)\n",
    "            if not(R in milista):\n",
    "                milista.append(R)\n",
    "#or k,rel in enumerate(milista):\n",
    "    #print \"\\item $\\displaystyle R_{\"+str(k)+\"}=\"+latex(rel)+\"$\"\n",
    "#for k,rel in enumerate(equiv):\n",
    "for k,rel in enumerate(order):\n",
    "    #print \"\\item $\\displaystyle R_{\"+str(k)+\"}=\"+latex(rel)+\"$\"\n",
    "    imprimo = True\n",
    "    for par in rel:\n",
    "        if par[0]>par[1]:\n",
    "            imprimo=False\n",
    "            break\n",
    "    if imprimo:\n",
    "        print \"\\item $\\displaystyle R_{\"+str(k+1)+\"}=\"+latex(rel)+\"$\"   \n",
    "        #show(rel)"
   ]
  },
  {
   "cell_type": "code",
   "execution_count": null,
   "metadata": {
    "collapsed": true
   },
   "outputs": [],
   "source": []
  }
 ],
 "metadata": {
  "kernelspec": {
   "display_name": "SageMath 7.5.1",
   "language": "",
   "name": "sagemath"
  },
  "language_info": {
   "codemirror_mode": {
    "name": "ipython",
    "version": 2
   },
   "file_extension": ".py",
   "mimetype": "text/x-python",
   "name": "python",
   "nbconvert_exporter": "python",
   "pygments_lexer": "ipython2",
   "version": "2.7.13"
  }
 },
 "nbformat": 4,
 "nbformat_minor": 0
}
