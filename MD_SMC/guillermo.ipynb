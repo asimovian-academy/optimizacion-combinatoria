{
 "cells": [
  {
   "cell_type": "code",
   "execution_count": 127,
   "metadata": {
    "collapsed": false
   },
   "outputs": [
    {
     "data": {
      "text/html": [
       "<html><script type=\"math/tex; mode=display\">\\newcommand{\\Bold}[1]{\\mathbf{#1}}\\left[\\left[\\verb|a|, \\verb|a|, \\verb|b|, \\verb|c|\\right], \\left[\\verb|d|, \\verb|e|, \\verb|f|, \\verb|e|\\right], \\left[\\verb|c|, \\verb|a|, \\verb|b|, \\verb|e|\\right]\\right]</script></html>"
      ],
      "text/plain": [
       "[['a', 'a', 'b', 'c'], ['d', 'e', 'f', 'e'], ['c', 'a', 'b', 'e']]"
      ]
     },
     "metadata": {},
     "output_type": "display_data"
    },
    {
     "name": "stdout",
     "output_type": "stream",
     "text": [
      "['a', 'a', 'b', 'c']\n",
      "['d', 'e', 'f', 'e']\n",
      "['c', 'a', 'b', 'e']\n"
     ]
    }
   ],
   "source": [
    "\"\"\"\n",
    "Hola Guillermo! Aquí va mi propuesta. Primero declaramos una matriz de 3x4 para ejemplificar.\n",
    "El ciclo for sólo es para visualizar la matriz renglón por renglon\n",
    "\"\"\"\n",
    "A= [[\"a\", \"a\", \"b\", \"c\"],[\"d\", \"e\", \"f\", \"e\"],[\"c\", \"a\", \"b\", \"e\"]]\n",
    "show(A)\n",
    "for renglon in A:\n",
    "    print renglon"
   ]
  },
  {
   "cell_type": "code",
   "execution_count": 128,
   "metadata": {
    "collapsed": false
   },
   "outputs": [],
   "source": [
    "\"\"\"\n",
    "vamos a definir una función f que nos ayude a realizar los cambio.\n",
    "A es la matriz a modificar, x el caracter a reemplazar, y el nuevo caracter,\n",
    "mientras que i,j son las coordenadas de la entrada. \n",
    "Recuerda que en Python/SageMath) empezamos a contar de 0\n",
    "\"\"\"\n",
    "def f(A,x,y,i,j):\n",
    "    B=copy(A)\n",
    "    N=len(A)\n",
    "    M=len(A[0])\n",
    "    for k in [-1,0,1]:\n",
    "        if (0<=i+k<=N):\n",
    "            for l in [-1,0,1]:\n",
    "                if (0<=j+l<=M):\n",
    "                    if not(k==0) or not(l==0):\n",
    "                        if (A[i+k][j+l]==x):\n",
    "                            B[i+k][j+l]=y\n",
    "                        #show(B)\n",
    "    return B"
   ]
  },
  {
   "cell_type": "code",
   "execution_count": 129,
   "metadata": {
    "collapsed": false
   },
   "outputs": [
    {
     "data": {
      "text/html": [
       "<html><script type=\"math/tex; mode=display\">\\newcommand{\\Bold}[1]{\\mathbf{#1}}\\left[\\left[\\verb|a|, \\verb|a|, \\verb|b|, \\verb|c|\\right], \\left[\\verb|d|, \\verb|g|, \\verb|f|, \\verb|g|\\right], \\left[\\verb|c|, \\verb|a|, \\verb|b|, \\verb|g|\\right]\\right]</script></html>"
      ],
      "text/plain": [
       "[['a', 'a', 'b', 'c'], ['d', 'g', 'f', 'g'], ['c', 'a', 'b', 'g']]"
      ]
     },
     "metadata": {},
     "output_type": "display_data"
    },
    {
     "name": "stdout",
     "output_type": "stream",
     "text": [
      "['a', 'a', 'b', 'c']\n",
      "['d', 'g', 'f', 'g']\n",
      "['c', 'a', 'b', 'g']\n"
     ]
    }
   ],
   "source": [
    "B=f(A,\"e\",\"g\",1,2)\n",
    "show(B)\n",
    "for renglon in B:\n",
    "    print renglon"
   ]
  },
  {
   "cell_type": "code",
   "execution_count": null,
   "metadata": {
    "collapsed": true
   },
   "outputs": [],
   "source": []
  }
 ],
 "metadata": {
  "kernelspec": {
   "display_name": "SageMath 7.5.1",
   "language": "",
   "name": "sagemath"
  },
  "language_info": {
   "codemirror_mode": {
    "name": "ipython",
    "version": 2
   },
   "file_extension": ".py",
   "mimetype": "text/x-python",
   "name": "python",
   "nbconvert_exporter": "python",
   "pygments_lexer": "ipython2",
   "version": "2.7.13"
  }
 },
 "nbformat": 4,
 "nbformat_minor": 0
}
