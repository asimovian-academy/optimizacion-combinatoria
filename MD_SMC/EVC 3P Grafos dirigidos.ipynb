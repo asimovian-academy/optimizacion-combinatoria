{
 "cells": [
  {
   "cell_type": "code",
   "execution_count": 20,
   "metadata": {
    "collapsed": true
   },
   "outputs": [],
   "source": [
    "import numpy as np\n",
    "import numpy.random as rd"
   ]
  },
  {
   "cell_type": "code",
   "execution_count": 21,
   "metadata": {
    "collapsed": false
   },
   "outputs": [
    {
     "data": {
      "text/html": [
       "<html><script type=\"math/tex; mode=display\">\\newcommand{\\Bold}[1]{\\mathbf{#1}}\\verb|A^| 1 \\verb|=| \\left(\\begin{array}{rr}\n",
       "1 & 1 \\\\\n",
       "1 & 0\n",
       "\\end{array}\\right)</script></html>"
      ],
      "text/plain": [
       "'A^' 1 '=' [1 1]\n",
       "[1 0]"
      ]
     },
     "metadata": {},
     "output_type": "display_data"
    },
    {
     "data": {
      "text/html": [
       "<html><script type=\"math/tex; mode=display\">\\newcommand{\\Bold}[1]{\\mathbf{#1}}\\verb|A^| 2 \\verb|=| \\left(\\begin{array}{rr}\n",
       "2 & 1 \\\\\n",
       "1 & 1\n",
       "\\end{array}\\right)</script></html>"
      ],
      "text/plain": [
       "'A^' 2 '=' [2 1]\n",
       "[1 1]"
      ]
     },
     "metadata": {},
     "output_type": "display_data"
    },
    {
     "data": {
      "text/html": [
       "<html><script type=\"math/tex; mode=display\">\\newcommand{\\Bold}[1]{\\mathbf{#1}}\\verb|B=| \\left(\\begin{array}{rr}\n",
       "3 & 2 \\\\\n",
       "2 & 1\n",
       "\\end{array}\\right)</script></html>"
      ],
      "text/plain": [
       "'B=' [3 2]\n",
       "[2 1]"
      ]
     },
     "metadata": {},
     "output_type": "display_data"
    }
   ],
   "source": [
    "#ejercicios 11\n",
    "N=2\n",
    "A=Matrix([[1,1],[1,0]])\n",
    "B=Matrix(ZZ, N,N, lambda i,j: 0)\n",
    "for k in range(1,N+1):\n",
    "    show(\"A^\",k,\"=\", A^k)\n",
    "    B=B+A^k\n",
    "show(\"B=\",B)"
   ]
  },
  {
   "cell_type": "code",
   "execution_count": 22,
   "metadata": {
    "collapsed": false
   },
   "outputs": [
    {
     "data": {
      "text/html": [
       "<html><script type=\"math/tex; mode=display\">\\newcommand{\\Bold}[1]{\\mathbf{#1}}\\verb|A^| 1 \\verb|=| \\left(\\begin{array}{rrr}\n",
       "1 & 0 & 0 \\\\\n",
       "1 & 0 & 1 \\\\\n",
       "1 & 0 & 1\n",
       "\\end{array}\\right)</script></html>"
      ],
      "text/plain": [
       "'A^' 1 '=' [1 0 0]\n",
       "[1 0 1]\n",
       "[1 0 1]"
      ]
     },
     "metadata": {},
     "output_type": "display_data"
    },
    {
     "data": {
      "text/html": [
       "<html><script type=\"math/tex; mode=display\">\\newcommand{\\Bold}[1]{\\mathbf{#1}}\\verb|A^| 2 \\verb|=| \\left(\\begin{array}{rrr}\n",
       "1 & 0 & 0 \\\\\n",
       "2 & 0 & 1 \\\\\n",
       "2 & 0 & 1\n",
       "\\end{array}\\right)</script></html>"
      ],
      "text/plain": [
       "'A^' 2 '=' [1 0 0]\n",
       "[2 0 1]\n",
       "[2 0 1]"
      ]
     },
     "metadata": {},
     "output_type": "display_data"
    },
    {
     "data": {
      "text/html": [
       "<html><script type=\"math/tex; mode=display\">\\newcommand{\\Bold}[1]{\\mathbf{#1}}\\verb|A^| 3 \\verb|=| \\left(\\begin{array}{rrr}\n",
       "1 & 0 & 0 \\\\\n",
       "3 & 0 & 1 \\\\\n",
       "3 & 0 & 1\n",
       "\\end{array}\\right)</script></html>"
      ],
      "text/plain": [
       "'A^' 3 '=' [1 0 0]\n",
       "[3 0 1]\n",
       "[3 0 1]"
      ]
     },
     "metadata": {},
     "output_type": "display_data"
    },
    {
     "data": {
      "text/html": [
       "<html><script type=\"math/tex; mode=display\">\\newcommand{\\Bold}[1]{\\mathbf{#1}}\\verb|B=| \\left(\\begin{array}{rrr}\n",
       "3 & 0 & 0 \\\\\n",
       "6 & 0 & 3 \\\\\n",
       "6 & 0 & 3\n",
       "\\end{array}\\right)</script></html>"
      ],
      "text/plain": [
       "'B=' [3 0 0]\n",
       "[6 0 3]\n",
       "[6 0 3]"
      ]
     },
     "metadata": {},
     "output_type": "display_data"
    }
   ],
   "source": [
    "#ejercicios 12\n",
    "N=3\n",
    "A=Matrix([[1,0,0],[1,0,1],[1,0,1]])\n",
    "B=Matrix(ZZ, N,N, lambda i,j: 0)\n",
    "for k in range(1,N+1):\n",
    "    show(\"A^\",k,\"=\", A^k)\n",
    "    B=B+A^k\n",
    "show(\"B=\",B)"
   ]
  },
  {
   "cell_type": "code",
   "execution_count": 23,
   "metadata": {
    "collapsed": false
   },
   "outputs": [
    {
     "data": {
      "text/html": [
       "<html><script type=\"math/tex; mode=display\">\\newcommand{\\Bold}[1]{\\mathbf{#1}}\\verb|A^| 1 \\verb|=| \\left(\\begin{array}{rrrr}\n",
       "0 & 1 & 1 & 0 \\\\\n",
       "0 & 1 & 0 & 1 \\\\\n",
       "0 & 1 & 1 & 1 \\\\\n",
       "1 & 0 & 1 & 1\n",
       "\\end{array}\\right)</script></html>"
      ],
      "text/plain": [
       "'A^' 1 '=' [0 1 1 0]\n",
       "[0 1 0 1]\n",
       "[0 1 1 1]\n",
       "[1 0 1 1]"
      ]
     },
     "metadata": {},
     "output_type": "display_data"
    },
    {
     "data": {
      "text/html": [
       "<html><script type=\"math/tex; mode=display\">\\newcommand{\\Bold}[1]{\\mathbf{#1}}\\verb|A^| 2 \\verb|=| \\left(\\begin{array}{rrrr}\n",
       "0 & 2 & 1 & 2 \\\\\n",
       "1 & 1 & 1 & 2 \\\\\n",
       "1 & 2 & 2 & 3 \\\\\n",
       "1 & 2 & 3 & 2\n",
       "\\end{array}\\right)</script></html>"
      ],
      "text/plain": [
       "'A^' 2 '=' [0 2 1 2]\n",
       "[1 1 1 2]\n",
       "[1 2 2 3]\n",
       "[1 2 3 2]"
      ]
     },
     "metadata": {},
     "output_type": "display_data"
    },
    {
     "data": {
      "text/html": [
       "<html><script type=\"math/tex; mode=display\">\\newcommand{\\Bold}[1]{\\mathbf{#1}}\\verb|A^| 3 \\verb|=| \\left(\\begin{array}{rrrr}\n",
       "2 & 3 & 3 & 5 \\\\\n",
       "2 & 3 & 4 & 4 \\\\\n",
       "3 & 5 & 6 & 7 \\\\\n",
       "2 & 6 & 6 & 7\n",
       "\\end{array}\\right)</script></html>"
      ],
      "text/plain": [
       "'A^' 3 '=' [2 3 3 5]\n",
       "[2 3 4 4]\n",
       "[3 5 6 7]\n",
       "[2 6 6 7]"
      ]
     },
     "metadata": {},
     "output_type": "display_data"
    },
    {
     "data": {
      "text/html": [
       "<html><script type=\"math/tex; mode=display\">\\newcommand{\\Bold}[1]{\\mathbf{#1}}\\verb|A^| 4 \\verb|=| \\left(\\begin{array}{rrrr}\n",
       "5 & 8 & 10 & 11 \\\\\n",
       "4 & 9 & 10 & 11 \\\\\n",
       "7 & 14 & 16 & 18 \\\\\n",
       "7 & 14 & 15 & 19\n",
       "\\end{array}\\right)</script></html>"
      ],
      "text/plain": [
       "'A^' 4 '=' [ 5  8 10 11]\n",
       "[ 4  9 10 11]\n",
       "[ 7 14 16 18]\n",
       "[ 7 14 15 19]"
      ]
     },
     "metadata": {},
     "output_type": "display_data"
    },
    {
     "data": {
      "text/html": [
       "<html><script type=\"math/tex; mode=display\">\\newcommand{\\Bold}[1]{\\mathbf{#1}}\\verb|B=| \\left(\\begin{array}{rrrr}\n",
       "7 & 14 & 15 & 18 \\\\\n",
       "7 & 14 & 15 & 18 \\\\\n",
       "11 & 22 & 25 & 29 \\\\\n",
       "11 & 22 & 25 & 29\n",
       "\\end{array}\\right)</script></html>"
      ],
      "text/plain": [
       "'B=' [ 7 14 15 18]\n",
       "[ 7 14 15 18]\n",
       "[11 22 25 29]\n",
       "[11 22 25 29]"
      ]
     },
     "metadata": {},
     "output_type": "display_data"
    }
   ],
   "source": [
    "#ejercicios 11\n",
    "N=4\n",
    "A=Matrix([[0,1,1,0],[0,1,0,1],[0,1,1,1],[1,0,1,1]])\n",
    "B=Matrix(ZZ, N,N, lambda i,j: 0)\n",
    "for k in range(1,N+1):\n",
    "    show(\"A^\",k,\"=\", A^k)\n",
    "    B=B+A^k\n",
    "show(\"B=\",B)"
   ]
  },
  {
   "cell_type": "code",
   "execution_count": 24,
   "metadata": {
    "collapsed": false
   },
   "outputs": [
    {
     "data": {
      "text/html": [
       "<html><script type=\"math/tex; mode=display\">\\newcommand{\\Bold}[1]{\\mathbf{#1}}\\verb|A^| 1 \\verb|=| \\left(\\begin{array}{rrrrr}\n",
       "1 & 1 & 0 & 1 & 1 \\\\\n",
       "1 & 0 & 1 & 0 & 1 \\\\\n",
       "0 & 0 & 1 & 1 & 1 \\\\\n",
       "1 & 1 & 1 & 0 & 1 \\\\\n",
       "1 & 1 & 0 & 1 & 1\n",
       "\\end{array}\\right)</script></html>"
      ],
      "text/plain": [
       "'A^' 1 '=' [1 1 0 1 1]\n",
       "[1 0 1 0 1]\n",
       "[0 0 1 1 1]\n",
       "[1 1 1 0 1]\n",
       "[1 1 0 1 1]"
      ]
     },
     "metadata": {},
     "output_type": "display_data"
    },
    {
     "data": {
      "text/html": [
       "<html><script type=\"math/tex; mode=display\">\\newcommand{\\Bold}[1]{\\mathbf{#1}}\\verb|A^| 2 \\verb|=| \\left(\\begin{array}{rrrrr}\n",
       "4 & 3 & 2 & 2 & 4 \\\\\n",
       "2 & 2 & 1 & 3 & 3 \\\\\n",
       "2 & 2 & 2 & 2 & 3 \\\\\n",
       "3 & 2 & 2 & 3 & 4 \\\\\n",
       "4 & 3 & 2 & 2 & 4\n",
       "\\end{array}\\right)</script></html>"
      ],
      "text/plain": [
       "'A^' 2 '=' [4 3 2 2 4]\n",
       "[2 2 1 3 3]\n",
       "[2 2 2 2 3]\n",
       "[3 2 2 3 4]\n",
       "[4 3 2 2 4]"
      ]
     },
     "metadata": {},
     "output_type": "display_data"
    },
    {
     "data": {
      "text/html": [
       "<html><script type=\"math/tex; mode=display\">\\newcommand{\\Bold}[1]{\\mathbf{#1}}\\verb|A^| 3 \\verb|=| \\left(\\begin{array}{rrrrr}\n",
       "13 & 10 & 7 & 10 & 15 \\\\\n",
       "10 & 8 & 6 & 6 & 11 \\\\\n",
       "9 & 7 & 6 & 7 & 11 \\\\\n",
       "12 & 10 & 7 & 9 & 14 \\\\\n",
       "13 & 10 & 7 & 10 & 15\n",
       "\\end{array}\\right)</script></html>"
      ],
      "text/plain": [
       "'A^' 3 '=' [13 10  7 10 15]\n",
       "[10  8  6  6 11]\n",
       "[ 9  7  6  7 11]\n",
       "[12 10  7  9 14]\n",
       "[13 10  7 10 15]"
      ]
     },
     "metadata": {},
     "output_type": "display_data"
    },
    {
     "data": {
      "text/html": [
       "<html><script type=\"math/tex; mode=display\">\\newcommand{\\Bold}[1]{\\mathbf{#1}}\\verb|A^| 4 \\verb|=| \\left(\\begin{array}{rrrrr}\n",
       "48 & 38 & 27 & 35 & 55 \\\\\n",
       "35 & 27 & 20 & 27 & 41 \\\\\n",
       "34 & 27 & 20 & 26 & 40 \\\\\n",
       "45 & 35 & 26 & 33 & 52 \\\\\n",
       "48 & 38 & 27 & 35 & 55\n",
       "\\end{array}\\right)</script></html>"
      ],
      "text/plain": [
       "'A^' 4 '=' [48 38 27 35 55]\n",
       "[35 27 20 27 41]\n",
       "[34 27 20 26 40]\n",
       "[45 35 26 33 52]\n",
       "[48 38 27 35 55]"
      ]
     },
     "metadata": {},
     "output_type": "display_data"
    },
    {
     "data": {
      "text/html": [
       "<html><script type=\"math/tex; mode=display\">\\newcommand{\\Bold}[1]{\\mathbf{#1}}\\verb|A^| 5 \\verb|=| \\left(\\begin{array}{rrrrr}\n",
       "176 & 138 & 100 & 130 & 203 \\\\\n",
       "130 & 103 & 74 & 96 & 150 \\\\\n",
       "127 & 100 & 73 & 94 & 147 \\\\\n",
       "165 & 130 & 94 & 123 & 191 \\\\\n",
       "176 & 138 & 100 & 130 & 203\n",
       "\\end{array}\\right)</script></html>"
      ],
      "text/plain": [
       "'A^' 5 '=' [176 138 100 130 203]\n",
       "[130 103  74  96 150]\n",
       "[127 100  73  94 147]\n",
       "[165 130  94 123 191]\n",
       "[176 138 100 130 203]"
      ]
     },
     "metadata": {},
     "output_type": "display_data"
    },
    {
     "data": {
      "text/html": [
       "<html><script type=\"math/tex; mode=display\">\\newcommand{\\Bold}[1]{\\mathbf{#1}}\\verb|B=| \\left(\\begin{array}{rrrrr}\n",
       "242 & 190 & 136 & 178 & 278 \\\\\n",
       "178 & 140 & 102 & 132 & 206 \\\\\n",
       "172 & 136 & 102 & 130 & 202 \\\\\n",
       "226 & 178 & 130 & 168 & 262 \\\\\n",
       "242 & 190 & 136 & 178 & 278\n",
       "\\end{array}\\right)</script></html>"
      ],
      "text/plain": [
       "'B=' [242 190 136 178 278]\n",
       "[178 140 102 132 206]\n",
       "[172 136 102 130 202]\n",
       "[226 178 130 168 262]\n",
       "[242 190 136 178 278]"
      ]
     },
     "metadata": {},
     "output_type": "display_data"
    }
   ],
   "source": [
    "#ejercicios 11\n",
    "N=5\n",
    "A=[[1,1,0,1,1], [1,0,1,0,1], [0,0,1,1,1], \n",
    "  [1,1,1,0,1],[1,1,0,1,1]]\n",
    "A=Matrix(A)\n",
    "B=Matrix(ZZ, N,N, lambda i,j: 0)\n",
    "for k in range(1,N+1):\n",
    "    show(\"A^\",k,\"=\", A^k)\n",
    "    B=B+A^k\n",
    "show(\"B=\",B)"
   ]
  },
  {
   "cell_type": "code",
   "execution_count": null,
   "metadata": {
    "collapsed": true
   },
   "outputs": [],
   "source": []
  }
 ],
 "metadata": {
  "kernelspec": {
   "display_name": "SageMath 7.5.1",
   "language": "",
   "name": "sagemath"
  },
  "language_info": {
   "codemirror_mode": {
    "name": "ipython",
    "version": 2
   },
   "file_extension": ".py",
   "mimetype": "text/x-python",
   "name": "python",
   "nbconvert_exporter": "python",
   "pygments_lexer": "ipython2",
   "version": "2.7.13"
  }
 },
 "nbformat": 4,
 "nbformat_minor": 0
}
