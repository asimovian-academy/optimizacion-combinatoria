{
 "cells": [
  {
   "cell_type": "code",
   "execution_count": 1,
   "metadata": {
    "collapsed": true
   },
   "outputs": [],
   "source": [
    "from jdk2py_MD import *"
   ]
  },
  {
   "cell_type": "code",
   "execution_count": 9,
   "metadata": {
    "collapsed": false
   },
   "outputs": [
    {
     "name": "stdout",
     "output_type": "stream",
     "text": [
      "\\item $\\displaystyle \\left\\{\\left(2, 2\\right), \\left(0, 0\\right), \\left(3, 3\\right), \\left(1, 1\\right)\\right\\} $\n",
      "\\item $\\displaystyle \\left\\{\\left(0, 1\\right), \\left(2, 2\\right), \\left(0, 0\\right), \\left(3, 3\\right), \\left(1, 1\\right)\\right\\} $\n",
      "\\item $\\displaystyle \\left\\{\\left(1, 1\\right), \\left(0, 0\\right), \\left(0, 2\\right), \\left(3, 3\\right), \\left(2, 2\\right)\\right\\} $\n",
      "\\item $\\displaystyle \\left\\{\\left(0, 1\\right), \\left(0, 0\\right), \\left(3, 3\\right), \\left(2, 2\\right), \\left(1, 1\\right), \\left(0, 2\\right)\\right\\} $\n",
      "\\item $\\displaystyle \\left\\{\\left(2, 2\\right), \\left(0, 3\\right), \\left(0, 0\\right), \\left(3, 3\\right), \\left(1, 1\\right)\\right\\} $\n",
      "\\item $\\displaystyle \\left\\{\\left(0, 1\\right), \\left(0, 0\\right), \\left(3, 3\\right), \\left(2, 2\\right), \\left(0, 3\\right), \\left(1, 1\\right)\\right\\} $\n",
      "\\item $\\displaystyle \\left\\{\\left(0, 0\\right), \\left(3, 3\\right), \\left(2, 2\\right), \\left(0, 3\\right), \\left(1, 1\\right), \\left(0, 2\\right)\\right\\} $\n",
      "\\item $\\displaystyle \\left\\{\\left(0, 1\\right), \\left(0, 0\\right), \\left(3, 3\\right), \\left(2, 2\\right), \\left(0, 3\\right), \\left(1, 1\\right), \\left(0, 2\\right)\\right\\} $\n",
      "\\item $\\displaystyle \\left\\{\\left(0, 1\\right), \\left(0, 0\\right), \\left(3, 3\\right), \\left(2, 2\\right), \\left(1, 0\\right), \\left(1, 1\\right)\\right\\} $\n",
      "\\item $\\displaystyle \\left\\{\\left(1, 2\\right), \\left(2, 2\\right), \\left(0, 0\\right), \\left(3, 3\\right), \\left(1, 1\\right)\\right\\} $\n",
      "\\item $\\displaystyle \\left\\{\\left(1, 2\\right), \\left(0, 0\\right), \\left(3, 3\\right), \\left(2, 2\\right), \\left(1, 1\\right), \\left(0, 2\\right)\\right\\} $\n",
      "\\item $\\displaystyle \\left\\{\\left(0, 1\\right), \\left(1, 2\\right), \\left(0, 0\\right), \\left(3, 3\\right), \\left(2, 2\\right), \\left(1, 1\\right), \\left(0, 2\\right)\\right\\} $\n",
      "\\item $\\displaystyle \\left\\{\\left(1, 2\\right), \\left(0, 0\\right), \\left(3, 3\\right), \\left(2, 2\\right), \\left(0, 3\\right), \\left(1, 1\\right)\\right\\} $\n",
      "\\item $\\displaystyle \\left\\{\\left(1, 2\\right), \\left(0, 0\\right), \\left(3, 3\\right), \\left(2, 2\\right), \\left(0, 3\\right), \\left(1, 1\\right), \\left(0, 2\\right)\\right\\} $\n",
      "\\item $\\displaystyle \\left\\{\\left(0, 1\\right), \\left(1, 2\\right), \\left(0, 0\\right), \\left(3, 3\\right), \\left(0, 2\\right), \\left(2, 2\\right), \\left(0, 3\\right), \\left(1, 1\\right)\\right\\} $\n",
      "\\item $\\displaystyle \\left\\{\\left(2, 2\\right), \\left(1, 3\\right), \\left(3, 3\\right), \\left(0, 0\\right), \\left(1, 1\\right)\\right\\} $\n",
      "\\item $\\displaystyle \\left\\{\\left(1, 3\\right), \\left(3, 3\\right), \\left(2, 2\\right), \\left(1, 1\\right), \\left(0, 0\\right), \\left(0, 2\\right)\\right\\} $\n",
      "\\item $\\displaystyle \\left\\{\\left(1, 3\\right), \\left(3, 3\\right), \\left(2, 2\\right), \\left(0, 3\\right), \\left(1, 1\\right), \\left(0, 0\\right)\\right\\} $\n",
      "\\item $\\displaystyle \\left\\{\\left(0, 1\\right), \\left(0, 0\\right), \\left(3, 3\\right), \\left(2, 2\\right), \\left(1, 3\\right), \\left(0, 3\\right), \\left(1, 1\\right)\\right\\} $\n",
      "\\item $\\displaystyle \\left\\{\\left(1, 3\\right), \\left(3, 3\\right), \\left(2, 2\\right), \\left(0, 3\\right), \\left(1, 1\\right), \\left(0, 0\\right), \\left(0, 2\\right)\\right\\} $\n",
      "\\item $\\displaystyle \\left\\{\\left(0, 1\\right), \\left(0, 0\\right), \\left(3, 3\\right), \\left(0, 2\\right), \\left(1, 3\\right), \\left(2, 2\\right), \\left(0, 3\\right), \\left(1, 1\\right)\\right\\} $\n",
      "\\item $\\displaystyle \\left\\{\\left(1, 2\\right), \\left(0, 0\\right), \\left(3, 3\\right), \\left(2, 2\\right), \\left(1, 3\\right), \\left(1, 1\\right)\\right\\} $\n",
      "\\item $\\displaystyle \\left\\{\\left(1, 2\\right), \\left(0, 0\\right), \\left(3, 3\\right), \\left(2, 2\\right), \\left(1, 3\\right), \\left(1, 1\\right), \\left(0, 2\\right)\\right\\} $\n",
      "\\item $\\displaystyle \\left\\{\\left(1, 2\\right), \\left(0, 0\\right), \\left(3, 3\\right), \\left(2, 2\\right), \\left(1, 3\\right), \\left(0, 3\\right), \\left(1, 1\\right)\\right\\} $\n",
      "\\item $\\displaystyle \\left\\{\\left(1, 2\\right), \\left(0, 0\\right), \\left(3, 3\\right), \\left(0, 2\\right), \\left(1, 3\\right), \\left(2, 2\\right), \\left(0, 3\\right), \\left(1, 1\\right)\\right\\} $\n",
      "\\item $\\displaystyle \\left\\{\\left(0, 1\\right), \\left(1, 2\\right), \\left(0, 0\\right), \\left(3, 3\\right), \\left(0, 2\\right), \\left(1, 3\\right), \\left(2, 2\\right), \\left(0, 3\\right), \\left(1, 1\\right)\\right\\} $\n",
      "\\item $\\displaystyle \\left\\{\\left(2, 0\\right), \\left(0, 0\\right), \\left(3, 3\\right), \\left(2, 2\\right), \\left(1, 1\\right), \\left(0, 2\\right)\\right\\} $\n",
      "\\item $\\displaystyle \\left\\{\\left(1, 2\\right), \\left(0, 0\\right), \\left(3, 3\\right), \\left(2, 2\\right), \\left(1, 1\\right), \\left(2, 1\\right)\\right\\} $\n",
      "\\item $\\displaystyle \\left\\{\\left(0, 1\\right), \\left(1, 2\\right), \\left(0, 0\\right), \\left(3, 3\\right), \\left(2, 1\\right), \\left(0, 2\\right), \\left(2, 0\\right), \\left(2, 2\\right), \\left(1, 0\\right), \\left(1, 1\\right)\\right\\} $\n",
      "\\item $\\displaystyle \\left\\{\\left(2, 2\\right), \\left(0, 0\\right), \\left(2, 3\\right), \\left(3, 3\\right), \\left(1, 1\\right)\\right\\} $\n",
      "\\item $\\displaystyle \\left\\{\\left(0, 1\\right), \\left(0, 0\\right), \\left(2, 3\\right), \\left(3, 3\\right), \\left(2, 2\\right), \\left(1, 1\\right)\\right\\} $\n",
      "\\item $\\displaystyle \\left\\{\\left(0, 0\\right), \\left(2, 3\\right), \\left(3, 3\\right), \\left(2, 2\\right), \\left(0, 3\\right), \\left(1, 1\\right)\\right\\} $\n",
      "\\item $\\displaystyle \\left\\{\\left(0, 1\\right), \\left(0, 0\\right), \\left(2, 3\\right), \\left(3, 3\\right), \\left(2, 2\\right), \\left(0, 3\\right), \\left(1, 1\\right)\\right\\} $\n",
      "\\item $\\displaystyle \\left\\{\\left(0, 0\\right), \\left(2, 3\\right), \\left(3, 3\\right), \\left(2, 2\\right), \\left(0, 3\\right), \\left(1, 1\\right), \\left(0, 2\\right)\\right\\} $\n",
      "\\item $\\displaystyle \\left\\{\\left(0, 1\\right), \\left(0, 0\\right), \\left(3, 3\\right), \\left(0, 2\\right), \\left(2, 3\\right), \\left(2, 2\\right), \\left(0, 3\\right), \\left(1, 1\\right)\\right\\} $\n",
      "\\item $\\displaystyle \\left\\{\\left(1, 3\\right), \\left(2, 3\\right), \\left(3, 3\\right), \\left(2, 2\\right), \\left(1, 1\\right), \\left(0, 0\\right)\\right\\} $\n",
      "\\item $\\displaystyle \\left\\{\\left(1, 3\\right), \\left(2, 3\\right), \\left(3, 3\\right), \\left(2, 2\\right), \\left(0, 3\\right), \\left(1, 1\\right), \\left(0, 0\\right)\\right\\} $\n",
      "\\item $\\displaystyle \\left\\{\\left(0, 1\\right), \\left(0, 0\\right), \\left(3, 3\\right), \\left(1, 3\\right), \\left(2, 3\\right), \\left(2, 2\\right), \\left(0, 3\\right), \\left(1, 1\\right)\\right\\} $\n",
      "\\item $\\displaystyle \\left\\{\\left(1, 3\\right), \\left(3, 3\\right), \\left(0, 2\\right), \\left(0, 0\\right), \\left(2, 3\\right), \\left(2, 2\\right), \\left(0, 3\\right), \\left(1, 1\\right)\\right\\} $\n",
      "\\item $\\displaystyle \\left\\{\\left(0, 1\\right), \\left(0, 0\\right), \\left(3, 3\\right), \\left(0, 2\\right), \\left(1, 3\\right), \\left(2, 3\\right), \\left(2, 2\\right), \\left(0, 3\\right), \\left(1, 1\\right)\\right\\} $\n",
      "\\item $\\displaystyle \\left\\{\\left(1, 2\\right), \\left(0, 0\\right), \\left(2, 3\\right), \\left(3, 3\\right), \\left(2, 2\\right), \\left(1, 3\\right), \\left(1, 1\\right)\\right\\} $\n",
      "\\item $\\displaystyle \\left\\{\\left(1, 2\\right), \\left(0, 0\\right), \\left(3, 3\\right), \\left(1, 3\\right), \\left(2, 3\\right), \\left(2, 2\\right), \\left(0, 3\\right), \\left(1, 1\\right)\\right\\} $\n",
      "\\item $\\displaystyle \\left\\{\\left(1, 2\\right), \\left(0, 0\\right), \\left(3, 3\\right), \\left(0, 2\\right), \\left(1, 3\\right), \\left(2, 3\\right), \\left(2, 2\\right), \\left(0, 3\\right), \\left(1, 1\\right)\\right\\} $\n",
      "\\item $\\displaystyle \\left\\{\\left(0, 1\\right), \\left(1, 2\\right), \\left(0, 0\\right), \\left(3, 3\\right), \\left(0, 2\\right), \\left(1, 3\\right), \\left(2, 3\\right), \\left(2, 2\\right), \\left(0, 3\\right), \\left(1, 1\\right)\\right\\} $\n",
      "\\item $\\displaystyle \\left\\{\\left(0, 0\\right), \\left(3, 3\\right), \\left(2, 2\\right), \\left(3, 0\\right), \\left(0, 3\\right), \\left(1, 1\\right)\\right\\} $\n",
      "\\item $\\displaystyle \\left\\{\\left(1, 2\\right), \\left(0, 0\\right), \\left(3, 3\\right), \\left(3, 0\\right), \\left(2, 1\\right), \\left(2, 2\\right), \\left(0, 3\\right), \\left(1, 1\\right)\\right\\} $\n",
      "\\item $\\displaystyle \\left\\{\\left(1, 3\\right), \\left(3, 3\\right), \\left(2, 2\\right), \\left(3, 1\\right), \\left(1, 1\\right), \\left(0, 0\\right)\\right\\} $\n",
      "\\item $\\displaystyle \\left\\{\\left(1, 3\\right), \\left(3, 3\\right), \\left(3, 1\\right), \\left(0, 2\\right), \\left(2, 0\\right), \\left(0, 0\\right), \\left(2, 2\\right), \\left(1, 1\\right)\\right\\} $\n",
      "\\item $\\displaystyle \\left\\{\\left(0, 1\\right), \\left(0, 0\\right), \\left(3, 3\\right), \\left(3, 0\\right), \\left(3, 1\\right), \\left(1, 3\\right), \\left(2, 2\\right), \\left(1, 0\\right), \\left(0, 3\\right), \\left(1, 1\\right)\\right\\} $\n",
      "\\item $\\displaystyle \\left\\{\\left(3, 2\\right), \\left(0, 0\\right), \\left(2, 3\\right), \\left(3, 3\\right), \\left(2, 2\\right), \\left(1, 1\\right)\\right\\} $\n",
      "\\item $\\displaystyle \\left\\{\\left(0, 1\\right), \\left(3, 2\\right), \\left(0, 0\\right), \\left(3, 3\\right), \\left(2, 3\\right), \\left(2, 2\\right), \\left(1, 0\\right), \\left(1, 1\\right)\\right\\} $\n",
      "\\item $\\displaystyle \\left\\{\\left(3, 2\\right), \\left(0, 0\\right), \\left(3, 3\\right), \\left(3, 0\\right), \\left(0, 2\\right), \\left(2, 0\\right), \\left(2, 3\\right), \\left(2, 2\\right), \\left(0, 3\\right), \\left(1, 1\\right)\\right\\} $\n",
      "\\item $\\displaystyle \\left\\{\\left(1, 2\\right), \\left(3, 2\\right), \\left(0, 0\\right), \\left(3, 3\\right), \\left(3, 1\\right), \\left(2, 1\\right), \\left(1, 3\\right), \\left(2, 3\\right), \\left(2, 2\\right), \\left(1, 1\\right)\\right\\} $\n",
      "\\item $\\displaystyle \\left\\{\\left(1, 2\\right), \\left(3, 2\\right), \\left(0, 0\\right), \\left(3, 0\\right), \\left(2, 1\\right), \\left(1, 3\\right), \\left(2, 3\\right), \\left(1, 0\\right), \\left(0, 3\\right), \\left(0, 1\\right), \\left(3, 3\\right), \\left(3, 1\\right), \\left(1, 1\\right), \\left(2, 0\\right), \\left(2, 2\\right), \\left(0, 2\\right)\\right\\} $\n"
     ]
    }
   ],
   "source": [
    "A=range(4)\n",
    "milista=RelClassifier(A)[2]\n",
    "#print len(milista)\n",
    "for rel in milista:\n",
    "    print \"\\item $\\displaystyle\"+latex(toSet(rel))+\"$\""
   ]
  },
  {
   "cell_type": "code",
   "execution_count": null,
   "metadata": {
    "collapsed": true
   },
   "outputs": [],
   "source": []
  }
 ],
 "metadata": {
  "kernelspec": {
   "display_name": "SageMath 7.5.1",
   "language": "",
   "name": "sagemath"
  },
  "language_info": {
   "codemirror_mode": {
    "name": "ipython",
    "version": 2
   },
   "file_extension": ".py",
   "mimetype": "text/x-python",
   "name": "python",
   "nbconvert_exporter": "python",
   "pygments_lexer": "ipython2",
   "version": "2.7.13"
  }
 },
 "nbformat": 4,
 "nbformat_minor": 0
}
