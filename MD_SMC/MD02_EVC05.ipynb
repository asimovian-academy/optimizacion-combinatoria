{
 "cells": [
  {
   "cell_type": "code",
   "execution_count": 18,
   "metadata": {
    "collapsed": true
   },
   "outputs": [],
   "source": [
    "from jdk2py_MD import *"
   ]
  },
  {
   "cell_type": "code",
   "execution_count": 19,
   "metadata": {
    "collapsed": false
   },
   "outputs": [],
   "source": [
    "N=3\n",
    "A=range(N)\n",
    "mitabla=[]\n",
    "for i in range(N-1,N+2):\n",
    "    B=range(i)\n",
    "    lista=[[\"Codominio $\\displaystyle\"+latex(Set(B))+\"$\",\"\",\"\",\"\" ]]\n",
    "    X=FunAnalyser(FunGen(A,B),B)\n",
    "    lista+=X\n",
    "    #print table(lista)"
   ]
  },
  {
   "cell_type": "code",
   "execution_count": 28,
   "metadata": {
    "collapsed": false
   },
   "outputs": [
    {
     "name": "stdout",
     "output_type": "stream",
     "text": [
      "\\begin{evc} Para cada una de las siguientes funciones $f:A \\to B$,\n",
      "determine si la función es inyectiva, sobreyectiva o invertible.\n",
      "\n",
      "\n",
      "Dominio $\\displaystyle A= \\left\\{0\\right\\} $. \n",
      "\n",
      "\n",
      "Codominio $\\displaystyle B= \\left\\{0, 1, 2\\right\\} $. \n",
      "\n",
      "\n",
      "\\begin{enumerate}\n",
      "\\item $\\displaystyle \\left\\{\\left(0, 0\\right)\\right\\} $\n",
      "\\item $\\displaystyle \\left\\{\\left(0, 1\\right)\\right\\} $\n",
      "\\item $\\displaystyle \\left\\{\\left(0, 2\\right)\\right\\} $\n",
      "\\end{enumerate}\n",
      "\\end{evc}\n",
      "\n",
      "\n",
      "\\begin{evc} Para cada una de las siguientes funciones $f:A \\to B$,\n",
      "determine si la función es inyectiva, sobreyectiva o invertible.\n",
      "\n",
      "\n",
      "Dominio $\\displaystyle A= \\left\\{0, 1\\right\\} $. \n",
      "\n",
      "\n",
      "Codominio $\\displaystyle B= \\left\\{0, 1\\right\\} $. \n",
      "\n",
      "\n",
      "\\begin{enumerate}\n",
      "\\item $\\displaystyle \\left\\{\\left(1, 0\\right), \\left(0, 0\\right)\\right\\} $\n",
      "\\item $\\displaystyle \\left\\{\\left(0, 0\\right), \\left(1, 1\\right)\\right\\} $\n",
      "\\item $\\displaystyle \\left\\{\\left(0, 1\\right), \\left(1, 0\\right)\\right\\} $\n",
      "\\item $\\displaystyle \\left\\{\\left(0, 1\\right), \\left(1, 1\\right)\\right\\} $\n",
      "\\end{enumerate}\n",
      "\\end{evc}\n",
      "\n",
      "\n",
      "\\begin{evc} Para cada una de las siguientes funciones $f:A \\to B$,\n",
      "determine si la función es inyectiva, sobreyectiva o invertible.\n",
      "\n",
      "\n",
      "Dominio $\\displaystyle A= \\left\\{0, 1, 2\\right\\} $. \n",
      "\n",
      "\n",
      "Codominio $\\displaystyle B= \\left\\{0\\right\\} $. \n",
      "\n",
      "\n",
      "\\begin{enumerate}\n",
      "\\item $\\displaystyle \\left\\{\\left(2, 0\\right), \\left(1, 0\\right), \\left(0, 0\\right)\\right\\} $\n",
      "\\end{enumerate}\n",
      "\\end{evc}\n",
      "\n",
      "\n"
     ]
    }
   ],
   "source": [
    "M=3\n",
    "for i in range(1,M+1):\n",
    "    A=range(i)\n",
    "    B=range(1+M-i)\n",
    "    print \"\\\\begin{evc} Para cada una de las siguientes funciones $f:A \\\\to B$,\"\n",
    "    print \"determine si la función es inyectiva, sobreyectiva o invertible.\"+2*\"\\n\"\n",
    "    print \"Dominio $\\displaystyle A=\"+latex(Set(A))+\"$.\"+2*\"\\n\"\n",
    "    print \"Codominio $\\displaystyle B=\"+latex(Set(B))+\"$.\"+2*\"\\n\"\n",
    "    print \"\\\\begin{enumerate}\"\n",
    "    for fun in FunGen(A,B):\n",
    "        print \"\\item $\\displaystyle\"+latex(toSet(fun))+\"$\"\n",
    "    print \"\\end{enumerate}\"\n",
    "    print \"\\end{evc}\"+2*\"\\n\""
   ]
  },
  {
   "cell_type": "code",
   "execution_count": null,
   "metadata": {
    "collapsed": true
   },
   "outputs": [],
   "source": []
  }
 ],
 "metadata": {
  "kernelspec": {
   "display_name": "SageMath 7.5.1",
   "language": "",
   "name": "sagemath"
  },
  "language_info": {
   "codemirror_mode": {
    "name": "ipython",
    "version": 2
   },
   "file_extension": ".py",
   "mimetype": "text/x-python",
   "name": "python",
   "nbconvert_exporter": "python",
   "pygments_lexer": "ipython2",
   "version": "2.7.13"
  }
 },
 "nbformat": 4,
 "nbformat_minor": 0
}
