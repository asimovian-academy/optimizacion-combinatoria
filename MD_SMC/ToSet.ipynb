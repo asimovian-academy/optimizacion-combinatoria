{
 "cells": [
  {
   "cell_type": "code",
   "execution_count": 18,
   "metadata": {
    "collapsed": true
   },
   "outputs": [],
   "source": [
    "from jdk2py_MD import *"
   ]
  },
  {
   "cell_type": "code",
   "execution_count": 19,
   "metadata": {
    "collapsed": false
   },
   "outputs": [
    {
     "name": "stdout",
     "output_type": "stream",
     "text": [
      "{(1, 2), (1, 1), (2, 1), (2, 2)}\n"
     ]
    }
   ],
   "source": [
    "rel=[[1,2], [2,1], [1,1], [2,2]]\n",
    "print toSet(rel)"
   ]
  },
  {
   "cell_type": "code",
   "execution_count": 22,
   "metadata": {
    "collapsed": true
   },
   "outputs": [],
   "source": [
    "def isFun(rel):\n",
    "    #print range(len(rel))\n",
    "    for k in range(len(rel)):\n",
    "        for i in range(k):\n",
    "            #print i,k,rel[i][0], rel[k][0]\n",
    "            if rel[i][0]==rel[k][0]:\n",
    "                return False\n",
    "    return True"
   ]
  },
  {
   "cell_type": "code",
   "execution_count": 27,
   "metadata": {
    "collapsed": false
   },
   "outputs": [
    {
     "name": "stdout",
     "output_type": "stream",
     "text": [
      "\\left\\{\\right\\}\n",
      "\\left\\{\\left(0, 0\\right)\\right\\}\n",
      "\\left\\{\\left(0, 1\\right)\\right\\}\n",
      "\\left\\{\\left(1, 0\\right)\\right\\}\n",
      "\\left\\{\\left(1, 0\\right), \\left(0, 0\\right)\\right\\}\n",
      "\\left\\{\\left(0, 1\\right), \\left(1, 0\\right)\\right\\}\n",
      "\\left\\{\\left(1, 1\\right)\\right\\}\n",
      "\\left\\{\\left(0, 0\\right), \\left(1, 1\\right)\\right\\}\n",
      "\\left\\{\\left(0, 1\\right), \\left(1, 1\\right)\\right\\}\n",
      "\\left\\{\\left(2, 0\\right)\\right\\}\n",
      "\\left\\{\\left(2, 0\\right), \\left(0, 0\\right)\\right\\}\n",
      "\\left\\{\\left(0, 1\\right), \\left(2, 0\\right)\\right\\}\n",
      "\\left\\{\\left(2, 0\\right), \\left(1, 0\\right)\\right\\}\n",
      "\\left\\{\\left(2, 0\\right), \\left(1, 0\\right), \\left(0, 0\\right)\\right\\}\n",
      "\\left\\{\\left(0, 1\\right), \\left(2, 0\\right), \\left(1, 0\\right)\\right\\}\n",
      "\\left\\{\\left(2, 0\\right), \\left(1, 1\\right)\\right\\}\n",
      "\\left\\{\\left(2, 0\\right), \\left(0, 0\\right), \\left(1, 1\\right)\\right\\}\n",
      "\\left\\{\\left(0, 1\\right), \\left(2, 0\\right), \\left(1, 1\\right)\\right\\}\n",
      "\\left\\{\\left(2, 1\\right)\\right\\}\n",
      "\\left\\{\\left(0, 0\\right), \\left(2, 1\\right)\\right\\}\n",
      "\\left\\{\\left(0, 1\\right), \\left(2, 1\\right)\\right\\}\n",
      "\\left\\{\\left(1, 0\\right), \\left(2, 1\\right)\\right\\}\n",
      "\\left\\{\\left(1, 0\\right), \\left(0, 0\\right), \\left(2, 1\\right)\\right\\}\n",
      "\\left\\{\\left(0, 1\\right), \\left(1, 0\\right), \\left(2, 1\\right)\\right\\}\n",
      "\\left\\{\\left(1, 1\\right), \\left(2, 1\\right)\\right\\}\n",
      "\\left\\{\\left(0, 0\\right), \\left(1, 1\\right), \\left(2, 1\\right)\\right\\}\n",
      "\\left\\{\\left(0, 1\\right), \\left(1, 1\\right), \\left(2, 1\\right)\\right\\}\n"
     ]
    }
   ],
   "source": [
    "A=range(3); B=range(2)\n",
    "Rels = RelGen(A,B)\n",
    "for rel in Rels:\n",
    "    if isFun(rel):\n",
    "        print latex(toSet(rel))"
   ]
  },
  {
   "cell_type": "code",
   "execution_count": null,
   "metadata": {
    "collapsed": true
   },
   "outputs": [],
   "source": []
  }
 ],
 "metadata": {
  "kernelspec": {
   "display_name": "SageMath 7.5.1",
   "language": "",
   "name": "sagemath"
  }
 },
 "nbformat": 4,
 "nbformat_minor": 0
}
