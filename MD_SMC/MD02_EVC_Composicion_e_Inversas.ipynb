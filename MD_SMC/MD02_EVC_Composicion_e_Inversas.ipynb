{
 "cells": [
  {
   "cell_type": "code",
   "execution_count": 27,
   "metadata": {
    "collapsed": false
   },
   "outputs": [],
   "source": [
    "from jdk2py_MD import *"
   ]
  },
  {
   "cell_type": "code",
   "execution_count": 28,
   "metadata": {
    "collapsed": false
   },
   "outputs": [
    {
     "name": "stdout",
     "output_type": "stream",
     "text": [
      "\\begin{tabular}{|l|l|l|l|l|l|l|} \\hline\n",
      " & f(x) & g(x) & f(g(x)) & g(f(x)) & f(f(x)) & g(g(x)) \\\\ \\hline \\hline\n",
      "$1$ & $2 \\, x + 3$ & $4 \\, x - 1$ &   &   &   &   \\\\ \\hline\n",
      "$2$ & $6 \\, x - 5$ & $\\frac{1}{2} \\, x$ &   &   &   &   \\\\ \\hline\n",
      "$3$ & $x^{2}$ & $x + 1$ &   &   &   &   \\\\ \\hline\n",
      "$4$ & $\\frac{1}{x}$ & $2 \\, x + 4$ &   &   &   &   \\\\ \\hline\n",
      "$5$ & $x^{2}$ & $\\sqrt{x - 3}$ &   &   &   &   \\\\ \\hline\n",
      "$6$ & ${\\left| x \\right|}$ & $2 \\, x + 3$ &   &   &   &   \\\\ \\hline\n",
      "$7$ & $x - 4$ & ${\\left| x + 4 \\right|}$ &   &   &   &   \\\\ \\hline\n",
      "$8$ & $\\frac{1}{\\sqrt{x}}$ & $x^{2} - 4 \\, x$ &   &   &   &   \\\\ \\hline\n",
      "$9$ & $\\frac{x}{x + 1}$ & $2 \\, x - 1$ &   &   &   &   \\\\ \\hline\n",
      "$10$ & $\\frac{2}{x}$ & $\\frac{x}{x + 2}$ &   &   &   &   \\\\ \\hline\n",
      "\\end{tabular}\n"
     ]
    }
   ],
   "source": [
    "x=var(\"x\")\n",
    "tabla=[[\"\", \"f(x)\", \"g(x)\", \"f(g(x))\", \"g(f(x))\", \"f(f(x))\", \"g(g(x))\"]]\n",
    "\n",
    "Funs = [[\"2*x+3\", \"4*x-1\"],[\"6*x-5\", \"x/2\"],[\"x**2\", \"x+1\"], \n",
    "        [\"1/x\", \"2*x+4\"], [\"x**2\", \"sqrt(x-3)\"], [\"abs(x)\",\"2*x+3\"],\n",
    "        [\"x-4\", \"abs(x+4)\"],[\"1/sqrt(x)\", \"x**2-4*x\"],\n",
    "        [\"x/(x+1)\", \"2*x-1\"], [\"2/x\", \"x/(x+2)\"]]\n",
    "\n",
    "for k,funs in enumerate(Funs):\n",
    "    s1=funs[0]#; print s1\n",
    "    code=\"\"\"f = (%s).function(x)\"\"\" % s1\n",
    "    exec(code)#; print f(x)\n",
    "    s2=funs[1]#; print s2\n",
    "    code=\"\"\"g = (%s).function(x)\"\"\" % s2\n",
    "    exec(code)#; print g(x)\n",
    "    renglon=[k+1,f(x), g(x), \" \",\" \",\" \",\" \"]\n",
    "    tabla.append(renglon)\n",
    "#show(table(tabla))\n",
    "print latex(table(tabla, frame=True, header_row=True))"
   ]
  },
  {
   "cell_type": "code",
   "execution_count": 51,
   "metadata": {
    "collapsed": false
   },
   "outputs": [
    {
     "name": "stdout",
     "output_type": "stream",
     "text": [
      "+----+----------------------+---------------------------------------------------------------+\n",
      "|    | f(x)                 | f^(-1)(x)                                                     |\n",
      "+====+======================+===============================================================+\n",
      "| 1  | 2*x + 1              | 1/2*x - 1/2                                                   |\n",
      "+----+----------------------+---------------------------------------------------------------+\n",
      "| 2  | -x + 6               | -x + 6                                                        |\n",
      "+----+----------------------+---------------------------------------------------------------+\n",
      "| 3  | 4*x + 7              | 1/4*x - 7/4                                                   |\n",
      "+----+----------------------+---------------------------------------------------------------+\n",
      "| 4  | -5*x + 3             | -1/5*x + 3/5                                                  |\n",
      "+----+----------------------+---------------------------------------------------------------+\n",
      "| 5  | 1/2*x                | 2*x                                                           |\n",
      "+----+----------------------+---------------------------------------------------------------+\n",
      "| 6  | x^(-2)               | -1/sqrt(x)                                                    |\n",
      "+----+----------------------+---------------------------------------------------------------+\n",
      "| 7  | 1/(x + 2)            | -(2*x - 1)/x                                                  |\n",
      "+----+----------------------+---------------------------------------------------------------+\n",
      "| 8  | (x - 2)/(x + 2)      | -2*(x + 1)/(x - 1)                                            |\n",
      "+----+----------------------+---------------------------------------------------------------+\n",
      "| 9  | -(3*x + 1)/(2*x - 5) | (5*x - 1)/(2*x + 3)                                           |\n",
      "+----+----------------------+---------------------------------------------------------------+\n",
      "| 10 | -4*x^3 + 5           | 1/2*I*sqrt(3)*(-1/4*x + 5/4)^(1/3) - 1/2*(-1/4*x + 5/4)^(1/3) |\n",
      "+----+----------------------+---------------------------------------------------------------+\n",
      "| 11 | -(x^3 - 2)^5         | 1/2*(I*sqrt(3) - 1)*((-x)^(1/5) + 2)^(1/3)                    |\n",
      "+----+----------------------+---------------------------------------------------------------+\n",
      "| 12 | -x^3 + 1             | 1/2*(-x + 1)^(1/3)*(I*sqrt(3) - 1)                            |\n",
      "+----+----------------------+---------------------------------------------------------------+\n"
     ]
    }
   ],
   "source": [
    "x,y=var(\"x,y\")\n",
    "tabla=[[\"\",\"f(x)\", \"f^(-1)(x)\"]]\n",
    "\n",
    "Funs2 = [\"2*x+1\", \"6-x\", \"4*x+7\", \"3-5*x\", \"x/2\", \"1/x**2\", \"1/(x+2)\", \"(x-2)/(x+2)\",\n",
    "       \"(1+3*x)/(5-2*x)\", \"5-4*x**3\", \"(2-x**3)**5\", \"1-x**3\"]#, \"sqrt(2+5*x)\"]#, \"sqrt(2x-1)\"]\n",
    "\n",
    "for k,fun in enumerate(Funs2):\n",
    "    s1=fun#; print s1\n",
    "    code=\"\"\"f = (%s).function(x)\"\"\" % s1\n",
    "    exec(code)#; print f(x)\n",
    "    g(x) = solve(x==f(y),y)[0].rhs()#; print g(x)\n",
    "    renglon=[k+1,f(x), g(x)]\n",
    "    tabla.append(renglon)\n",
    "#show(table(tabla))\n",
    "print table(tabla, frame=True, header_row=True)"
   ]
  },
  {
   "cell_type": "code",
   "execution_count": 62,
   "metadata": {
    "collapsed": false
   },
   "outputs": [
    {
     "name": "stdout",
     "output_type": "stream",
     "text": [
      "\\item $\\displaystyle f(x)= 2 \\, x + 1 $\n",
      "\\item $\\displaystyle f(x)= -x + 6 $\n",
      "\\item $\\displaystyle f(x)= 4 \\, x + 7 $\n",
      "\\item $\\displaystyle f(x)= -5 \\, x + 3 $\n",
      "\\item $\\displaystyle f(x)= \\frac{1}{2} \\, x $\n",
      "\\item $\\displaystyle f(x)= \\frac{1}{x^{2}} $\n",
      "\\item $\\displaystyle f(x)= \\frac{1}{x + 2} $\n",
      "\\item $\\displaystyle f(x)= \\frac{x - 2}{x + 2} $\n",
      "\\item $\\displaystyle f(x)= -\\frac{3 \\, x + 1}{2 \\, x - 5} $\n",
      "\\item $\\displaystyle f(x)= -4 \\, x^{3} + 5 $\n",
      "\\item $\\displaystyle f(x)= -{\\left(x^{3} - 2\\right)}^{5} $\n",
      "\\item $\\displaystyle f(x)= -x^{3} + 1 $\n",
      "\\item $\\displaystyle f(x)= \\sqrt{5 \\, x + 2} $\n",
      "\\item $\\displaystyle f(x)= x^{2} + x $\n",
      "\\item $\\displaystyle f(x)= \\sqrt{2 \\, x - 1} $\n",
      "\\item $\\displaystyle f(x)= \\sqrt{x + 1} + 1 $\n",
      "\\item $\\displaystyle f(x)= \\sqrt{-x^{2} + 9} $\n",
      "\\item $\\displaystyle f(x)= x^{4} $\n"
     ]
    }
   ],
   "source": [
    "Funs3=[\"sqrt(2+5*x)\", \"x**2+x\", \"sqrt(2*x-1)\", \"1+sqrt(1+x)\", \"sqrt(9-x**2)\", \"x**4\"]\n",
    "Funs4=Funs2+Funs3\n",
    "\n",
    "for fun in Funs4:\n",
    "    code=\"\"\"f = (%s).function(x)\"\"\" % fun\n",
    "    exec(code)#; print f(x)\n",
    "    s = \"f(x)=\"+latex(f(x))\n",
    "    print \"\\item $\\displaystyle\"+latex(s)+\"$\""
   ]
  },
  {
   "cell_type": "code",
   "execution_count": null,
   "metadata": {
    "collapsed": true
   },
   "outputs": [],
   "source": []
  }
 ],
 "metadata": {
  "kernelspec": {
   "display_name": "SageMath 7.5.1",
   "language": "",
   "name": "sagemath"
  },
  "language_info": {
   "codemirror_mode": {
    "name": "ipython",
    "version": 2
   },
   "file_extension": ".py",
   "mimetype": "text/x-python",
   "name": "python",
   "nbconvert_exporter": "python",
   "pygments_lexer": "ipython2",
   "version": "2.7.13"
  }
 },
 "nbformat": 4,
 "nbformat_minor": 0
}
