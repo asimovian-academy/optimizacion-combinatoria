{
 "cells": [
  {
   "cell_type": "code",
   "execution_count": 9,
   "metadata": {
    "collapsed": false
   },
   "outputs": [
    {
     "data": {
      "text/html": [
       "<html><script type=\"math/tex; mode=display\">\\newcommand{\\Bold}[1]{\\mathbf{#1}}\\left(\\begin{array}{rrr}\n",
       "-0.655194236691713 & 1.67191145983576 & -0.0425552400991927 \\\\\n",
       "0.00516357389406006 & -0.985565485700564 & 0.333784512376238 \\\\\n",
       "0.165255088091142 & 0.834805973156451 & -1.26017471803881\n",
       "\\end{array}\\right)</script></html>"
      ],
      "text/plain": [
       "[ -0.655194236691713    1.67191145983576 -0.0425552400991927]\n",
       "[0.00516357389406006  -0.985565485700564   0.333784512376238]\n",
       "[  0.165255088091142   0.834805973156451   -1.26017471803881]"
      ]
     },
     "metadata": {},
     "output_type": "display_data"
    }
   ],
   "source": [
    "import numpy as np\n",
    "import numpy.random as rd\n",
    "m = Matrix(RR, 3, lambda i,j: normalvariate(0, 1))\n",
    "show(m)"
   ]
  },
  {
   "cell_type": "code",
   "execution_count": 30,
   "metadata": {
    "collapsed": false
   },
   "outputs": [
    {
     "name": "stdout",
     "output_type": "stream",
     "text": [
      "\\begin{exmp}\n",
      "Encuentre el producto $AB$ de las siguientes matrices\n",
      "$$A= \\left(\\begin{array}{r}\n",
      "6 \\\\\n",
      "-9 \\\\\n",
      "-10\n",
      "\\end{array}\\right) $$\n",
      "$$B= \\left(\\begin{array}{r}\n",
      "-5\n",
      "\\end{array}\\right) $$\n",
      "\\pause Solución:\n",
      "$$AB= \\left(\\begin{array}{r}\n",
      "-30 \\\\\n",
      "45 \\\\\n",
      "50\n",
      "\\end{array}\\right) $$\n",
      "\\end{exmp}\n",
      "\n",
      "\\begin{exmp}\n",
      "Encuentre el producto $AB$ de las siguientes matrices\n",
      "$$A= \\left(\\begin{array}{r}\n",
      "2\n",
      "\\end{array}\\right) $$\n",
      "$$B= \\left(\\begin{array}{rrr}\n",
      "-1 & 1 & -3\n",
      "\\end{array}\\right) $$\n",
      "\\pause Solución:\n",
      "$$AB= \\left(\\begin{array}{rrr}\n",
      "-2 & 2 & -6\n",
      "\\end{array}\\right) $$\n",
      "\\end{exmp}\n",
      "\n",
      "\\begin{exmp}\n",
      "Encuentre el producto $AB$ de las siguientes matrices\n",
      "$$A= \\left(\\begin{array}{rr}\n",
      "-1 & -3 \\\\\n",
      "-7 & -1\n",
      "\\end{array}\\right) $$\n",
      "$$B= \\left(\\begin{array}{r}\n",
      "-7 \\\\\n",
      "-4\n",
      "\\end{array}\\right) $$\n",
      "\\pause Solución:\n",
      "$$AB= \\left(\\begin{array}{r}\n",
      "19 \\\\\n",
      "53\n",
      "\\end{array}\\right) $$\n",
      "\\end{exmp}\n",
      "\n"
     ]
    }
   ],
   "source": [
    "for k in range(3):\n",
    "    M=10\n",
    "    dims=rd.randint(1,4,3)\n",
    "    m=dims[0]; n=dims[1]; l=dims[2]\n",
    "    print \"\\\\begin{exmp}\"\n",
    "    print \"Encuentre el producto $AB$ de las siguientes matrices\"\n",
    "    A = Matrix(ZZ, m,n, lambda i,j: rd.randint(-M, M))\n",
    "    B = Matrix(ZZ, n,l, lambda i,j: rd.randint(-M, M))\n",
    "    print \"$$A=\"+latex(A)+\"$$\"\n",
    "    print \"$$B=\"+latex(B)+\"$$\"\n",
    "    print \"\\pause Solución:\"\n",
    "    print \"$$AB=\"+latex(A*B)+\"$$\"\n",
    "    print \"\\end{exmp}\"\n",
    "    print \"\""
   ]
  },
  {
   "cell_type": "code",
   "execution_count": 34,
   "metadata": {
    "collapsed": false,
    "scrolled": false
   },
   "outputs": [
    {
     "name": "stdout",
     "output_type": "stream",
     "text": [
      "\\item\n",
      "$$A= \\left(\\begin{array}{r}\n",
      "5 \\\\\n",
      "7 \\\\\n",
      "0\n",
      "\\end{array}\\right) $$\n",
      "$$B= \\left(\\begin{array}{r}\n",
      "-4\n",
      "\\end{array}\\right) $$\n",
      "\\begin{comment}\n",
      "$$AB= \\left(\\begin{array}{r}\n",
      "-20 \\\\\n",
      "-28 \\\\\n",
      "0\n",
      "\\end{array}\\right) $$\n",
      "\\end{comment}\n",
      "\n",
      "\\item\n",
      "$$A= \\left(\\begin{array}{rrr}\n",
      "2 & 7 & 2 \\\\\n",
      "8 & -6 & 6\n",
      "\\end{array}\\right) $$\n",
      "$$B= \\left(\\begin{array}{rr}\n",
      "6 & 6 \\\\\n",
      "-2 & -3 \\\\\n",
      "-6 & 8\n",
      "\\end{array}\\right) $$\n",
      "\\begin{comment}\n",
      "$$AB= \\left(\\begin{array}{rr}\n",
      "-14 & 7 \\\\\n",
      "24 & 114\n",
      "\\end{array}\\right) $$\n",
      "\\end{comment}\n",
      "\n",
      "\\item\n",
      "$$A= \\left(\\begin{array}{rr}\n",
      "-4 & -6 \\\\\n",
      "0 & 6\n",
      "\\end{array}\\right) $$\n",
      "$$B= \\left(\\begin{array}{r}\n",
      "-2 \\\\\n",
      "-2\n",
      "\\end{array}\\right) $$\n",
      "\\begin{comment}\n",
      "$$AB= \\left(\\begin{array}{r}\n",
      "20 \\\\\n",
      "-12\n",
      "\\end{array}\\right) $$\n",
      "\\end{comment}\n",
      "\n",
      "\\item\n",
      "$$A= \\left(\\begin{array}{r}\n",
      "7 \\\\\n",
      "6\n",
      "\\end{array}\\right) $$\n",
      "$$B= \\left(\\begin{array}{rr}\n",
      "-9 & 8\n",
      "\\end{array}\\right) $$\n",
      "\\begin{comment}\n",
      "$$AB= \\left(\\begin{array}{rr}\n",
      "-63 & 56 \\\\\n",
      "-54 & 48\n",
      "\\end{array}\\right) $$\n",
      "\\end{comment}\n",
      "\n",
      "\\item\n",
      "$$A= \\left(\\begin{array}{r}\n",
      "-2 \\\\\n",
      "-4\n",
      "\\end{array}\\right) $$\n",
      "$$B= \\left(\\begin{array}{r}\n",
      "-8\n",
      "\\end{array}\\right) $$\n",
      "\\begin{comment}\n",
      "$$AB= \\left(\\begin{array}{r}\n",
      "16 \\\\\n",
      "32\n",
      "\\end{array}\\right) $$\n",
      "\\end{comment}\n",
      "\n",
      "\\item\n",
      "$$A= \\left(\\begin{array}{rrr}\n",
      "-5 & -8 & -1\n",
      "\\end{array}\\right) $$\n",
      "$$B= \\left(\\begin{array}{rr}\n",
      "8 & -1 \\\\\n",
      "5 & 4 \\\\\n",
      "4 & -3\n",
      "\\end{array}\\right) $$\n",
      "\\begin{comment}\n",
      "$$AB= \\left(\\begin{array}{rr}\n",
      "-84 & -24\n",
      "\\end{array}\\right) $$\n",
      "\\end{comment}\n",
      "\n"
     ]
    }
   ],
   "source": [
    "for k in range(6):\n",
    "    M=9\n",
    "    N=-9\n",
    "    dims=rd.randint(1,4,3)\n",
    "    m=dims[0]; n=dims[1]; l=dims[2]\n",
    "    #print \"\\\\begin{evc}\"\n",
    "    #print \"Encuentre el producto $AB$ de las siguientes matrices\"\n",
    "    A = Matrix(ZZ, m,n, lambda i,j: rd.randint(N, M+1))\n",
    "    B = Matrix(ZZ, n,l, lambda i,j: rd.randint(N, M+1))\n",
    "    print \"\\item\"\n",
    "    print \"$$A=\"+latex(A)+\"$$\"\n",
    "    print \"$$B=\"+latex(B)+\"$$\"\n",
    "    print \"\\\\begin{comment}\"\n",
    "    print \"$$AB=\"+latex(A*B)+\"$$\"\n",
    "    print \"\\end{comment}\"\n",
    "    #print \"\\end{}\"\n",
    "    print \"\""
   ]
  },
  {
   "cell_type": "code",
   "execution_count": null,
   "metadata": {
    "collapsed": true
   },
   "outputs": [],
   "source": []
  }
 ],
 "metadata": {
  "kernelspec": {
   "display_name": "SageMath 7.5.1",
   "language": "",
   "name": "sagemath"
  },
  "language_info": {
   "codemirror_mode": {
    "name": "ipython",
    "version": 2
   },
   "file_extension": ".py",
   "mimetype": "text/x-python",
   "name": "python",
   "nbconvert_exporter": "python",
   "pygments_lexer": "ipython2",
   "version": "2.7.13"
  }
 },
 "nbformat": 4,
 "nbformat_minor": 0
}
