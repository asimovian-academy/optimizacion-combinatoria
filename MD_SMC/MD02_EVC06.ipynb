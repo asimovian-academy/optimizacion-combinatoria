{
 "cells": [
  {
   "cell_type": "code",
   "execution_count": 15,
   "metadata": {
    "collapsed": true
   },
   "outputs": [],
   "source": [
    "from jdk2py_MD import *"
   ]
  },
  {
   "cell_type": "code",
   "execution_count": 21,
   "metadata": {
    "collapsed": false
   },
   "outputs": [
    {
     "name": "stdout",
     "output_type": "stream",
     "text": [
      "\\left\\{\\text{\\texttt{a}}, \\text{\\texttt{c}}, \\text{\\texttt{b}}\\right\\}\n",
      "\\left\\{0, 1\\right\\}\n",
      "\\left\\{\\text{\\texttt{A}}, \\text{\\texttt{B}}\\right\\}\n",
      "\\item $\\displaystyle F= \\left\\{\\left(\\text{\\texttt{b}}, 0\\right), \\left(\\text{\\texttt{a}}, 0\\right), \\left(\\text{\\texttt{c}}, 1\\right)\\right\\} , \\; G= \\left\\{\\left(1, \\text{\\texttt{A}}\\right), \\left(0, \\text{\\texttt{A}}\\right)\\right\\} $\n",
      "\\item $\\displaystyle F= \\left\\{\\left(\\text{\\texttt{b}}, 0\\right), \\left(\\text{\\texttt{a}}, 0\\right), \\left(\\text{\\texttt{c}}, 1\\right)\\right\\} , \\; G= \\left\\{\\left(0, \\text{\\texttt{A}}\\right), \\left(1, \\text{\\texttt{B}}\\right)\\right\\} $\n",
      "\\item $\\displaystyle F= \\left\\{\\left(\\text{\\texttt{b}}, 0\\right), \\left(\\text{\\texttt{a}}, 0\\right), \\left(\\text{\\texttt{c}}, 1\\right)\\right\\} , \\; G= \\left\\{\\left(0, \\text{\\texttt{B}}\\right), \\left(1, \\text{\\texttt{A}}\\right)\\right\\} $\n",
      "\\item $\\displaystyle F= \\left\\{\\left(\\text{\\texttt{b}}, 0\\right), \\left(\\text{\\texttt{a}}, 0\\right), \\left(\\text{\\texttt{c}}, 1\\right)\\right\\} , \\; G= \\left\\{\\left(0, \\text{\\texttt{B}}\\right), \\left(1, \\text{\\texttt{B}}\\right)\\right\\} $\n",
      "\\item $\\displaystyle F= \\left\\{\\left(\\text{\\texttt{c}}, 0\\right), \\left(\\text{\\texttt{a}}, 0\\right), \\left(\\text{\\texttt{b}}, 1\\right)\\right\\} , \\; G= \\left\\{\\left(1, \\text{\\texttt{A}}\\right), \\left(0, \\text{\\texttt{A}}\\right)\\right\\} $\n",
      "\\item $\\displaystyle F= \\left\\{\\left(\\text{\\texttt{c}}, 0\\right), \\left(\\text{\\texttt{a}}, 0\\right), \\left(\\text{\\texttt{b}}, 1\\right)\\right\\} , \\; G= \\left\\{\\left(0, \\text{\\texttt{A}}\\right), \\left(1, \\text{\\texttt{B}}\\right)\\right\\} $\n",
      "\\item $\\displaystyle F= \\left\\{\\left(\\text{\\texttt{c}}, 0\\right), \\left(\\text{\\texttt{a}}, 0\\right), \\left(\\text{\\texttt{b}}, 1\\right)\\right\\} , \\; G= \\left\\{\\left(0, \\text{\\texttt{B}}\\right), \\left(1, \\text{\\texttt{A}}\\right)\\right\\} $\n",
      "\\item $\\displaystyle F= \\left\\{\\left(\\text{\\texttt{c}}, 0\\right), \\left(\\text{\\texttt{a}}, 0\\right), \\left(\\text{\\texttt{b}}, 1\\right)\\right\\} , \\; G= \\left\\{\\left(0, \\text{\\texttt{B}}\\right), \\left(1, \\text{\\texttt{B}}\\right)\\right\\} $\n",
      "\\item $\\displaystyle F= \\left\\{\\left(\\text{\\texttt{a}}, 0\\right), \\left(\\text{\\texttt{c}}, 1\\right), \\left(\\text{\\texttt{b}}, 1\\right)\\right\\} , \\; G= \\left\\{\\left(1, \\text{\\texttt{A}}\\right), \\left(0, \\text{\\texttt{A}}\\right)\\right\\} $\n",
      "\\item $\\displaystyle F= \\left\\{\\left(\\text{\\texttt{a}}, 0\\right), \\left(\\text{\\texttt{c}}, 1\\right), \\left(\\text{\\texttt{b}}, 1\\right)\\right\\} , \\; G= \\left\\{\\left(0, \\text{\\texttt{A}}\\right), \\left(1, \\text{\\texttt{B}}\\right)\\right\\} $\n",
      "\\item $\\displaystyle F= \\left\\{\\left(\\text{\\texttt{a}}, 0\\right), \\left(\\text{\\texttt{c}}, 1\\right), \\left(\\text{\\texttt{b}}, 1\\right)\\right\\} , \\; G= \\left\\{\\left(0, \\text{\\texttt{B}}\\right), \\left(1, \\text{\\texttt{A}}\\right)\\right\\} $\n",
      "\\item $\\displaystyle F= \\left\\{\\left(\\text{\\texttt{a}}, 0\\right), \\left(\\text{\\texttt{c}}, 1\\right), \\left(\\text{\\texttt{b}}, 1\\right)\\right\\} , \\; G= \\left\\{\\left(0, \\text{\\texttt{B}}\\right), \\left(1, \\text{\\texttt{B}}\\right)\\right\\} $\n",
      "\\item $\\displaystyle F= \\left\\{\\left(\\text{\\texttt{a}}, 1\\right), \\left(\\text{\\texttt{b}}, 0\\right), \\left(\\text{\\texttt{c}}, 0\\right)\\right\\} , \\; G= \\left\\{\\left(1, \\text{\\texttt{A}}\\right), \\left(0, \\text{\\texttt{A}}\\right)\\right\\} $\n",
      "\\item $\\displaystyle F= \\left\\{\\left(\\text{\\texttt{a}}, 1\\right), \\left(\\text{\\texttt{b}}, 0\\right), \\left(\\text{\\texttt{c}}, 0\\right)\\right\\} , \\; G= \\left\\{\\left(0, \\text{\\texttt{A}}\\right), \\left(1, \\text{\\texttt{B}}\\right)\\right\\} $\n",
      "\\item $\\displaystyle F= \\left\\{\\left(\\text{\\texttt{a}}, 1\\right), \\left(\\text{\\texttt{b}}, 0\\right), \\left(\\text{\\texttt{c}}, 0\\right)\\right\\} , \\; G= \\left\\{\\left(0, \\text{\\texttt{B}}\\right), \\left(1, \\text{\\texttt{A}}\\right)\\right\\} $\n",
      "\\item $\\displaystyle F= \\left\\{\\left(\\text{\\texttt{a}}, 1\\right), \\left(\\text{\\texttt{b}}, 0\\right), \\left(\\text{\\texttt{c}}, 0\\right)\\right\\} , \\; G= \\left\\{\\left(0, \\text{\\texttt{B}}\\right), \\left(1, \\text{\\texttt{B}}\\right)\\right\\} $\n",
      "\\item $\\displaystyle F= \\left\\{\\left(\\text{\\texttt{a}}, 1\\right), \\left(\\text{\\texttt{b}}, 0\\right), \\left(\\text{\\texttt{c}}, 1\\right)\\right\\} , \\; G= \\left\\{\\left(1, \\text{\\texttt{A}}\\right), \\left(0, \\text{\\texttt{A}}\\right)\\right\\} $\n",
      "\\item $\\displaystyle F= \\left\\{\\left(\\text{\\texttt{a}}, 1\\right), \\left(\\text{\\texttt{b}}, 0\\right), \\left(\\text{\\texttt{c}}, 1\\right)\\right\\} , \\; G= \\left\\{\\left(0, \\text{\\texttt{A}}\\right), \\left(1, \\text{\\texttt{B}}\\right)\\right\\} $\n",
      "\\item $\\displaystyle F= \\left\\{\\left(\\text{\\texttt{a}}, 1\\right), \\left(\\text{\\texttt{b}}, 0\\right), \\left(\\text{\\texttt{c}}, 1\\right)\\right\\} , \\; G= \\left\\{\\left(0, \\text{\\texttt{B}}\\right), \\left(1, \\text{\\texttt{A}}\\right)\\right\\} $\n",
      "\\item $\\displaystyle F= \\left\\{\\left(\\text{\\texttt{a}}, 1\\right), \\left(\\text{\\texttt{b}}, 0\\right), \\left(\\text{\\texttt{c}}, 1\\right)\\right\\} , \\; G= \\left\\{\\left(0, \\text{\\texttt{B}}\\right), \\left(1, \\text{\\texttt{B}}\\right)\\right\\} $\n",
      "\\item $\\displaystyle F= \\left\\{\\left(\\text{\\texttt{a}}, 1\\right), \\left(\\text{\\texttt{c}}, 0\\right), \\left(\\text{\\texttt{b}}, 1\\right)\\right\\} , \\; G= \\left\\{\\left(1, \\text{\\texttt{A}}\\right), \\left(0, \\text{\\texttt{A}}\\right)\\right\\} $\n",
      "\\item $\\displaystyle F= \\left\\{\\left(\\text{\\texttt{a}}, 1\\right), \\left(\\text{\\texttt{c}}, 0\\right), \\left(\\text{\\texttt{b}}, 1\\right)\\right\\} , \\; G= \\left\\{\\left(0, \\text{\\texttt{A}}\\right), \\left(1, \\text{\\texttt{B}}\\right)\\right\\} $\n",
      "\\item $\\displaystyle F= \\left\\{\\left(\\text{\\texttt{a}}, 1\\right), \\left(\\text{\\texttt{c}}, 0\\right), \\left(\\text{\\texttt{b}}, 1\\right)\\right\\} , \\; G= \\left\\{\\left(0, \\text{\\texttt{B}}\\right), \\left(1, \\text{\\texttt{A}}\\right)\\right\\} $\n",
      "\\item $\\displaystyle F= \\left\\{\\left(\\text{\\texttt{a}}, 1\\right), \\left(\\text{\\texttt{c}}, 0\\right), \\left(\\text{\\texttt{b}}, 1\\right)\\right\\} , \\; G= \\left\\{\\left(0, \\text{\\texttt{B}}\\right), \\left(1, \\text{\\texttt{B}}\\right)\\right\\} $\n"
     ]
    }
   ],
   "source": [
    "N=2\n",
    "B=range(N)\n",
    "A = [\"a\",\"b\",\"c\"]\n",
    "C = [\"A\", \"B\"]\n",
    "F = FunGen(A,B)\n",
    "G = FunGen(B,C)\n",
    "print latex(Set(A))\n",
    "print latex(Set(B))\n",
    "print latex(Set(C))\n",
    "for fun in F:\n",
    "    if onto(fun, B):\n",
    "        for gun in G:\n",
    "            print \"\\item $\\displaystyle F=\"+latex(toSet(fun))+\", \\; G=\"+latex(toSet(gun))+\"$\""
   ]
  },
  {
   "cell_type": "code",
   "execution_count": null,
   "metadata": {
    "collapsed": true
   },
   "outputs": [],
   "source": []
  }
 ],
 "metadata": {
  "kernelspec": {
   "display_name": "SageMath 7.5.1",
   "language": "",
   "name": "sagemath"
  },
  "language_info": {
   "codemirror_mode": {
    "name": "ipython",
    "version": 2
   },
   "file_extension": ".py",
   "mimetype": "text/x-python",
   "name": "python",
   "nbconvert_exporter": "python",
   "pygments_lexer": "ipython2",
   "version": "2.7.13"
  }
 },
 "nbformat": 4,
 "nbformat_minor": 0
}
