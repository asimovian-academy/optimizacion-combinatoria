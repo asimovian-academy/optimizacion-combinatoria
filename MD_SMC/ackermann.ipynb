{
 "cells": [
  {
   "cell_type": "code",
   "execution_count": 6,
   "metadata": {
    "collapsed": true
   },
   "outputs": [],
   "source": [
    "def ack(M, N):    \n",
    "    if M == 0: \n",
    "        A=N + 1\n",
    "    elif N == 0:\n",
    "        A=ack(M - 1, 1)\n",
    "    else:\n",
    "        A=ack(M - 1, ack(M, N - 1))\n",
    "    #print \"A(\"+str(M)+\",\"+str(N)+\")=\"+str(A)\n",
    "    return A"
   ]
  },
  {
   "cell_type": "code",
   "execution_count": 7,
   "metadata": {
    "collapsed": true
   },
   "outputs": [],
   "source": [
    "def fack(M, N):    \n",
    "    if M == 0: \n",
    "        A=N + 1\n",
    "    elif N == 0:\n",
    "        A=fack(M - 1, N)\n",
    "    else:\n",
    "        A=fack(M - 1, fack(M, N - 1))\n",
    "    #print \"A(\"+str(M)+\",\"+str(N)+\")=\"+str(A)\n",
    "    return A"
   ]
  },
  {
   "cell_type": "code",
   "execution_count": 15,
   "metadata": {
    "collapsed": false
   },
   "outputs": [
    {
     "data": {
      "text/html": [
       "<div class=\"notruncate\">\n",
       "<table  class=\"table_form\">\n",
       "<tbody>\n",
       "<tr class =\"row-a\">\n",
       "<td>A(m,n)</td>\n",
       "<td>n=0</td>\n",
       "<td>n=1</td>\n",
       "<td>n=2</td>\n",
       "</tr>\n",
       "<tr class =\"row-b\">\n",
       "<td>m=0</td>\n",
       "<td><script type=\"math/tex\">1</script></td>\n",
       "<td><script type=\"math/tex\">2</script></td>\n",
       "<td><script type=\"math/tex\">3</script></td>\n",
       "</tr>\n",
       "<tr class =\"row-a\">\n",
       "<td>m=1</td>\n",
       "<td><script type=\"math/tex\">2</script></td>\n",
       "<td><script type=\"math/tex\">3</script></td>\n",
       "<td><script type=\"math/tex\">4</script></td>\n",
       "</tr>\n",
       "<tr class =\"row-b\">\n",
       "<td>m=2</td>\n",
       "<td><script type=\"math/tex\">3</script></td>\n",
       "<td><script type=\"math/tex\">5</script></td>\n",
       "<td><script type=\"math/tex\">7</script></td>\n",
       "</tr>\n",
       "</tbody>\n",
       "</table>\n",
       "</div>"
      ],
      "text/plain": [
       "  A(m,n)   n=0   n=1   n=2\n",
       "  m=0      1     2     3\n",
       "  m=1      2     3     4\n",
       "  m=2      3     5     7"
      ]
     },
     "metadata": {},
     "output_type": "display_data"
    }
   ],
   "source": [
    "M=2; N=2\n",
    "tabla=[]\n",
    "renglon=[\"A(m,n)\"]\n",
    "\n",
    "for n in range(N+1):\n",
    "    renglon.append(\"n=\"+str(n))\n",
    "tabla.append(renglon)\n",
    "\n",
    "for m in range(M+1):\n",
    "    renglon = [\"m=\"+str(m)]\n",
    "    for n in range(N+1):\n",
    "        renglon.append(ack(m,n))\n",
    "    tabla.append(renglon)\n",
    "show(table(tabla))"
   ]
  },
  {
   "cell_type": "code",
   "execution_count": null,
   "metadata": {
    "collapsed": true
   },
   "outputs": [],
   "source": []
  }
 ],
 "metadata": {
  "kernelspec": {
   "display_name": "SageMath 7.5.1",
   "language": "",
   "name": "sagemath"
  },
  "language_info": {
   "codemirror_mode": {
    "name": "ipython",
    "version": 2
   },
   "file_extension": ".py",
   "mimetype": "text/x-python",
   "name": "python",
   "nbconvert_exporter": "python",
   "pygments_lexer": "ipython2",
   "version": "2.7.13"
  }
 },
 "nbformat": 4,
 "nbformat_minor": 0
}
